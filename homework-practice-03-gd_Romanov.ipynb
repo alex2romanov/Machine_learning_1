{
 "cells": [
  {
   "cell_type": "markdown",
   "metadata": {},
   "source": [
    "# Машинное обучение, ФКН ВШЭ\n",
    "\n",
    "## Практическое задание 3. Градиентный спуск своими руками\n",
    "\n",
    "### Общая информация\n",
    "Дата выдачи: 05.10.2020\n",
    "\n",
    "Мягкий дедлайн: 01:59MSK 19.10.2020 (за каждый день просрочки снимается 1 балл)\n",
    "\n",
    "Жесткий дедлайн: 01:59MSK 22.10.2020"
   ]
  },
  {
   "cell_type": "markdown",
   "metadata": {},
   "source": [
    "### О задании\n",
    "\n",
    "В данном задании необходимо реализовать обучение линейной регрессии с помощью различных вариантов градиентного спуска.\n",
    "\n",
    "\n",
    "### Оценивание и штрафы\n",
    "Каждая из задач имеет определенную «стоимость» (указана в скобках около задачи). Максимально допустимая оценка за работу — 10 баллов + 2 балла бонус.\n",
    "\n",
    "Сдавать задание после указанного срока сдачи нельзя. При выставлении неполного балла за задание в связи с наличием ошибок на усмотрение проверяющего предусмотрена возможность исправить работу на указанных в ответном письме условиях.\n",
    "\n",
    "Задание выполняется самостоятельно. «Похожие» решения считаются плагиатом и все задействованные студенты (в том числе те, у кого списали) не могут получить за него больше 0 баллов (подробнее о плагиате см. на странице курса). Если вы нашли решение какого-то из заданий (или его часть) в открытом источнике, необходимо указать ссылку на этот источник в отдельном блоке в конце вашей работы (скорее всего вы будете не единственным, кто это нашел, поэтому чтобы исключить подозрение в плагиате, необходима ссылка на источник).\n",
    "\n",
    "Неэффективная реализация кода может негативно отразиться на оценке.\n",
    "Также оценка может быть снижена за плохо читаемый код и плохо считываемые диаграммы.\n",
    "\n",
    "Все ответы должны сопровождаться кодом или комментариями о том, как они были получены.\n",
    "\n",
    "\n",
    "### Формат сдачи\n",
    "Задания сдаются через систему Anytask. Инвайт можно найти на странице курса. Присылать необходимо ноутбук с выполненным заданием. Сам ноутбук называйте в формате homework-practice-03-gd-Username.ipynb, где Username — ваша фамилия.\n",
    "\n",
    "Для удобства проверки самостоятельно посчитайте свою максимальную оценку (исходя из набора решенных задач) и укажите ниже.\n",
    "\n",
    "**Оценка**: 12"
   ]
  },
  {
   "cell_type": "markdown",
   "metadata": {},
   "source": [
    "Напомним, что на лекциях и семинарах мы разбирали некоторые подходы к оптимизации функционалов по параметрам. В частности, был рассмотрен градиентный спуск и различные подходы к его реализации — стохастический, метод импульса и другие. В качестве модели у нас будет выступать линейная регрессия.\n",
    "\n",
    "В этом домашнем задании вам предстоит реализовать 4 различных вариации градиентного спуска, написать свою реализацию линейной регресии, сравнить методы градиентного спуска между собой на реальных данных и разобраться как подбирать гиперпараметры для этих методов."
   ]
  },
  {
   "cell_type": "markdown",
   "metadata": {},
   "source": [
    "## Задание 1. Реализация градиентного спуска (3.5 балла)"
   ]
  },
  {
   "cell_type": "markdown",
   "metadata": {},
   "source": [
    "В этом задании вам предстоит написать собственные реализации различных подходов к градиентному спуску с опорой на подготовленные шаблоны в файле  `utils.py`:\n",
    "\n",
    "**Задание 1.1. (0.5 балла)** Полный градиентный спуск **GradientDescent**:\n",
    "\n",
    "$$\n",
    "    w_{k + 1} = w_{k} - \\eta_{k} \\nabla_{w} Q(w_{k}).\n",
    "$$\n",
    "\n",
    "**Задание 1.2. (1 балл)** Стохастический градиентный спуск **StochasticDescent**:\n",
    "\n",
    "$$\n",
    "    w_{k + 1} = w_{k} - \\eta_{k} \\nabla_{w} q_{i_{k}}(w_{k}).\n",
    "$$ \n",
    "\n",
    "$\\nabla_{w} q_{i_{k}}(w_{k}) \\,$ - это оценка градиента по одному объекту, выбранному случайно.\n",
    "\n",
    "**Задание 1.3. (1 балл)** Метод Momentum **MomentumDescent**:\n",
    "\n",
    "$$\n",
    "    h_0 = 0, \\\\\n",
    "    h_{k + 1} = \\alpha h_{k} + \\eta_k \\nabla_{w} Q(w_{k}), \\\\\n",
    "    w_{k + 1} = w_{k} - h_{k + 1}.\n",
    "$$\n",
    "\n",
    "**Задание 1.4. (1 балл)** Метод Adaptive gradient algorithm **Adagrad**:\n",
    "\n",
    "$$\n",
    "    G_0 = 0, \\\\\n",
    "    G_{k + 1} = G_{k} + \\left(\\nabla_{w} Q(w_{k})\\right) ^ 2, \\\\\n",
    "    w_{k + 1} = w_{k} - \\dfrac{\\eta_k}{\\sqrt{\\varepsilon + G_{k}}} \\nabla_{w} Q(w_{k}).\n",
    "$$\n",
    "\n",
    "\n",
    "Во всех вышеназванных методах мы будем использовать следующую формулу для длины шага:\n",
    "\n",
    "$$\n",
    "    \\eta_{k} = \\lambda \\left(\\dfrac{s_0}{s_0 + k}\\right)^p\n",
    "$$\n",
    "На практике достаточно настроить параметр $\\lambda$, а остальным выставить параметры по умолчанию: $s_0 = 1, \\, p = 0.5.$"
   ]
  },
  {
   "cell_type": "markdown",
   "metadata": {},
   "source": [
    "Мы будем использовать функцию потерь MSE:\n",
    "\n",
    "$$\n",
    "    Q(w) = \\dfrac{1}{\\ell} \\sum\\limits_{i=1}^{\\ell} (a_w(x_i) - y_i)^2\n",
    "$$\n",
    "\n",
    "Все вычисления должны быть векторизованы."
   ]
  },
  {
   "cell_type": "markdown",
   "metadata": {},
   "source": [
    "## Задание 2. Реализация линейной регресии (1.5 балла)"
   ]
  },
  {
   "cell_type": "markdown",
   "metadata": {},
   "source": [
    "В этом задании вам предстоит написать свою реализацию линейной регресии, обучаемой с использованием градиентного спуска, с опорой на подготовленные шаблоны в файле `utils.py` - **LinearRegression**.\n",
    "\n",
    "Необходимо соблюдать следующие условия:\n",
    "\n",
    "* Все вычисления должны быть векторизованы.\n",
    "* Циклы средствами python допускаются только для итераций градиентного спуска.\n",
    "* В качестве критерия останова необходимо использовать (одновременно):\n",
    "    * Квадрат евклидовой нормы разности весов на двух соседних итерациях меньше `tolerance`.\n",
    "    * Достижение максимального числа итераций `max_iter`.\n",
    "* Чтобы проследить за сходимостью оптимизационного процесса будем использовать `loss_history`, в нём будем хранить значения функции потерь для каждой итерации, начиная с нулевой (до первого шага).\n",
    "* Инициализировать веса нужно нулевым вектором или из нормального $\\mathcal{N}(0, 1)$ распределения (тогда нужно зафиксировать seed)."
   ]
  },
  {
   "cell_type": "markdown",
   "metadata": {},
   "source": [
    "## Задание 3. Проверка кода (0 баллов)"
   ]
  },
  {
   "cell_type": "code",
   "execution_count": 2,
   "metadata": {},
   "outputs": [],
   "source": [
    "%load_ext autoreload"
   ]
  },
  {
   "cell_type": "code",
   "execution_count": 3,
   "metadata": {},
   "outputs": [],
   "source": [
    "%autoreload 2\n",
    "\n",
    "import numpy as np\n",
    "\n",
    "from utils import (\n",
    "    Adagrad,\n",
    "    GradientDescent,\n",
    "    MomentumDescent,\n",
    "    StochasticDescent,\n",
    ")\n",
    "from utils import LinearRegression"
   ]
  },
  {
   "cell_type": "code",
   "execution_count": 4,
   "metadata": {},
   "outputs": [],
   "source": [
    "num_objects = 100\n",
    "dimension = 5\n",
    "\n",
    "X = np.random.rand(num_objects, dimension)\n",
    "y = np.random.rand(num_objects)\n",
    "\n",
    "lambda_ = 1e-2\n",
    "w0 = np.zeros(dimension)\n",
    "\n",
    "max_iter = 10\n",
    "tolerance = 0\n",
    "s0 = 1\n",
    "p = 0.5"
   ]
  },
  {
   "cell_type": "code",
   "execution_count": 4,
   "metadata": {},
   "outputs": [],
   "source": [
    "# GradientDescent\n",
    "\n",
    "descent = GradientDescent(lambda_ = lambda_, w0 = w0)\n",
    "\n",
    "gradient = descent.calc_gradient(X, y)\n",
    "\n",
    "assert gradient.shape[0] == dimension, 'Gradient failed'\n",
    "\n",
    "diff = descent.step(X, y, 0)\n",
    "\n",
    "assert diff.shape[0] == dimension, 'Weights failed'"
   ]
  },
  {
   "cell_type": "code",
   "execution_count": 5,
   "metadata": {},
   "outputs": [],
   "source": [
    "X1 = np.arange(9).reshape(3, 3)\n",
    "y1 = np.arange(3)\n",
    "w1 = np.zeros(3)"
   ]
  },
  {
   "cell_type": "code",
   "execution_count": 6,
   "metadata": {},
   "outputs": [
    {
     "data": {
      "text/plain": [
       "array([[1., 0., 1., 2.],\n",
       "       [1., 3., 4., 5.],\n",
       "       [1., 6., 7., 8.]])"
      ]
     },
     "execution_count": 6,
     "metadata": {},
     "output_type": "execute_result"
    }
   ],
   "source": [
    "Xtrain1 = np.c_[np.ones(X1.shape[0]), X1]\n",
    "Xtrain1"
   ]
  },
  {
   "cell_type": "code",
   "execution_count": 7,
   "metadata": {},
   "outputs": [
    {
     "data": {
      "text/plain": [
       "array([-10., -12., -14.])"
      ]
     },
     "execution_count": 7,
     "metadata": {},
     "output_type": "execute_result"
    }
   ],
   "source": [
    "descent1 = GradientDescent(lambda_ = lambda_, w0 = w1)\n",
    "gradient = descent1.calc_gradient(X1, y1)\n",
    "gradient"
   ]
  },
  {
   "cell_type": "code",
   "execution_count": 688,
   "metadata": {},
   "outputs": [
    {
     "data": {
      "text/plain": [
       "array([-0.1 , -0.12, -0.14])"
      ]
     },
     "execution_count": 688,
     "metadata": {},
     "output_type": "execute_result"
    }
   ],
   "source": [
    "diff1 = descent1.step(X1, y1, 0)\n",
    "diff1"
   ]
  },
  {
   "cell_type": "code",
   "execution_count": 689,
   "metadata": {},
   "outputs": [
    {
     "data": {
      "text/plain": [
       "array([0.1 , 0.12, 0.14])"
      ]
     },
     "execution_count": 689,
     "metadata": {},
     "output_type": "execute_result"
    }
   ],
   "source": [
    "descent1.w # первая итерация вектора весов"
   ]
  },
  {
   "cell_type": "code",
   "execution_count": 690,
   "metadata": {},
   "outputs": [
    {
     "data": {
      "text/plain": [
       "array([3.2 , 4.16, 5.12])"
      ]
     },
     "execution_count": 690,
     "metadata": {},
     "output_type": "execute_result"
    }
   ],
   "source": [
    "gradient = descent1.calc_gradient(X1, y1)\n",
    "gradient"
   ]
  },
  {
   "cell_type": "code",
   "execution_count": 691,
   "metadata": {},
   "outputs": [
    {
     "data": {
      "text/plain": [
       "array([0.02262742, 0.02941564, 0.03620387])"
      ]
     },
     "execution_count": 691,
     "metadata": {},
     "output_type": "execute_result"
    }
   ],
   "source": [
    "diff2 = descent1.step(X1, y1, 1)\n",
    "diff2"
   ]
  },
  {
   "cell_type": "code",
   "execution_count": 225,
   "metadata": {},
   "outputs": [
    {
     "data": {
      "text/plain": [
       "array([0.07737258, 0.09058436, 0.10379613])"
      ]
     },
     "execution_count": 225,
     "metadata": {},
     "output_type": "execute_result"
    }
   ],
   "source": [
    "descent1.w # руками все ок  -> это вторая итерация вектора весов "
   ]
  },
  {
   "cell_type": "code",
   "execution_count": 226,
   "metadata": {},
   "outputs": [
    {
     "data": {
      "text/plain": [
       "array([-0.05834805,  0.16852364,  0.39539533])"
      ]
     },
     "execution_count": 226,
     "metadata": {},
     "output_type": "execute_result"
    }
   ],
   "source": [
    "gradient = descent1.calc_gradient(X1, y1)\n",
    "gradient"
   ]
  },
  {
   "cell_type": "code",
   "execution_count": 227,
   "metadata": {},
   "outputs": [
    {
     "data": {
      "text/plain": [
       "array([-0.00033687,  0.00097297,  0.00228282])"
      ]
     },
     "execution_count": 227,
     "metadata": {},
     "output_type": "execute_result"
    }
   ],
   "source": [
    "diff2 = descent1.step(X1, y1, 2)\n",
    "diff2"
   ]
  },
  {
   "cell_type": "code",
   "execution_count": 228,
   "metadata": {},
   "outputs": [
    {
     "data": {
      "text/plain": [
       "array([0.07770946, 0.08961139, 0.10151332])"
      ]
     },
     "execution_count": 228,
     "metadata": {},
     "output_type": "execute_result"
    }
   ],
   "source": [
    "descent1.w"
   ]
  },
  {
   "cell_type": "code",
   "execution_count": null,
   "metadata": {},
   "outputs": [],
   "source": []
  },
  {
   "cell_type": "code",
   "execution_count": 8,
   "metadata": {},
   "outputs": [],
   "source": [
    "# StochasticDescent\n",
    "\n",
    "descent = StochasticDescent(lambda_ = lambda_, w0 = w0)\n",
    "\n",
    "gradient = descent.calc_gradient(X, y)\n",
    "\n",
    "assert gradient.shape[0] == dimension, 'Gradient failed'\n",
    "\n",
    "diff = descent.step(X, y, 0)\n",
    "\n",
    "assert diff.shape[0] == dimension, 'Weights failed'"
   ]
  },
  {
   "cell_type": "code",
   "execution_count": 9,
   "metadata": {},
   "outputs": [],
   "source": [
    "# MomentumDescent\n",
    "\n",
    "descent = MomentumDescent(lambda_ = lambda_, w0 = w0)\n",
    "\n",
    "gradient = descent.calc_gradient(X, y)\n",
    "\n",
    "assert gradient.shape[0] == dimension, 'Gradient failed'\n",
    "\n",
    "diff = descent.step(X, y, 0)\n",
    "\n",
    "assert diff.shape[0] == dimension, 'Weights failed'"
   ]
  },
  {
   "cell_type": "code",
   "execution_count": 10,
   "metadata": {},
   "outputs": [],
   "source": [
    "# Adagrad\n",
    "\n",
    "descent = Adagrad(lambda_ = lambda_, w0 = w0)\n",
    "\n",
    "gradient = descent.calc_gradient(X, y)\n",
    "\n",
    "assert gradient.shape[0] == dimension, 'Gradient failed'\n",
    "\n",
    "diff = descent.step(X, y, 0)\n",
    "\n",
    "assert diff.shape[0] == dimension, 'Weights failed'"
   ]
  },
  {
   "cell_type": "code",
   "execution_count": 16,
   "metadata": {},
   "outputs": [
    {
     "data": {
      "text/plain": [
       "(3, 3)"
      ]
     },
     "execution_count": 16,
     "metadata": {},
     "output_type": "execute_result"
    }
   ],
   "source": [
    "X1.shape\n"
   ]
  },
  {
   "cell_type": "code",
   "execution_count": 753,
   "metadata": {},
   "outputs": [
    {
     "data": {
      "text/plain": [
       "(3,)"
      ]
     },
     "execution_count": 753,
     "metadata": {},
     "output_type": "execute_result"
    }
   ],
   "source": [
    "y1.shape"
   ]
  },
  {
   "cell_type": "code",
   "execution_count": 15,
   "metadata": {},
   "outputs": [
    {
     "data": {
      "text/plain": [
       "(4,)"
      ]
     },
     "execution_count": 15,
     "metadata": {},
     "output_type": "execute_result"
    }
   ],
   "source": [
    "w0.shape"
   ]
  },
  {
   "cell_type": "code",
   "execution_count": 17,
   "metadata": {},
   "outputs": [],
   "source": [
    "w0 = np.zeros(X1.shape[1])"
   ]
  },
  {
   "cell_type": "code",
   "execution_count": 18,
   "metadata": {},
   "outputs": [],
   "source": [
    "# проверка для себя обычного градиента\n",
    "regression1 = LinearRegression(\n",
    "    descent = GradientDescent(lambda_ = lambda_, w0 = w0),\n",
    "    tolerance = tolerance,\n",
    "    max_iter = max_iter\n",
    ")"
   ]
  },
  {
   "cell_type": "code",
   "execution_count": 19,
   "metadata": {},
   "outputs": [
    {
     "data": {
      "text/plain": [
       "<bound method LinearRegression.fit of <utils.LinearRegression object at 0x112e08240>>"
      ]
     },
     "execution_count": 19,
     "metadata": {},
     "output_type": "execute_result"
    }
   ],
   "source": [
    "regression1.fit(X1, y1)"
   ]
  },
  {
   "cell_type": "code",
   "execution_count": 20,
   "metadata": {},
   "outputs": [
    {
     "data": {
      "text/plain": [
       "[1.6666666666666667,\n",
       " 0.2346666666666667,\n",
       " 0.03562046110077873,\n",
       " 0.03478969911255076,\n",
       " 0.03440135043711029,\n",
       " 0.034071959410802315,\n",
       " 0.03377544685535081,\n",
       " 0.033503469538528265,\n",
       " 0.033251109816638924,\n",
       " 0.033014957392039405]"
      ]
     },
     "execution_count": 20,
     "metadata": {},
     "output_type": "execute_result"
    }
   ],
   "source": [
    "regression1.loss_history"
   ]
  },
  {
   "cell_type": "code",
   "execution_count": 21,
   "metadata": {},
   "outputs": [
    {
     "data": {
      "text/plain": [
       "array([0.28317478, 1.09252411, 1.90187344])"
      ]
     },
     "execution_count": 21,
     "metadata": {},
     "output_type": "execute_result"
    }
   ],
   "source": [
    "prediction = regression1.predict(X1)\n",
    "prediction"
   ]
  },
  {
   "cell_type": "code",
   "execution_count": 145,
   "metadata": {},
   "outputs": [],
   "source": [
    "#работает - все ок\n",
    "descent = GradientDescent(lambda_ = lambda_, w0 = w0)\n",
    "\n",
    "gradient = descent.calc_gradient(X1, y1)\n",
    "\n",
    "assert gradient.shape[0] == 3, 'Gradient failed'"
   ]
  },
  {
   "cell_type": "code",
   "execution_count": 587,
   "metadata": {},
   "outputs": [
    {
     "name": "stdout",
     "output_type": "stream",
     "text": [
      "(100, 5)\n",
      "(100,)\n"
     ]
    }
   ],
   "source": [
    "print(X.shape)\n",
    "print(y.shape)"
   ]
  },
  {
   "cell_type": "code",
   "execution_count": 591,
   "metadata": {},
   "outputs": [],
   "source": [
    "w0 = np.zeros(X.shape[1]+1)"
   ]
  },
  {
   "cell_type": "code",
   "execution_count": 592,
   "metadata": {},
   "outputs": [],
   "source": [
    "regression = LinearRegression(\n",
    "    descent = StochasticDescent(lambda_ = lambda_, w0 = w0, batch_size = 2),\n",
    "    tolerance = tolerance_default,\n",
    "    max_iter = max_iter_default\n",
    ")\n",
    "\n"
   ]
  },
  {
   "cell_type": "code",
   "execution_count": 593,
   "metadata": {},
   "outputs": [
    {
     "data": {
      "text/plain": [
       "<bound method LinearRegression.fit of <utils.LinearRegression object at 0x1a30ff3a90>>"
      ]
     },
     "execution_count": 593,
     "metadata": {},
     "output_type": "execute_result"
    }
   ],
   "source": [
    "regression.fit(X, y)"
   ]
  },
  {
   "cell_type": "code",
   "execution_count": 594,
   "metadata": {},
   "outputs": [
    {
     "data": {
      "text/plain": [
       "[49.38297153934959]"
      ]
     },
     "execution_count": 594,
     "metadata": {},
     "output_type": "execute_result"
    }
   ],
   "source": [
    "regression.loss_history"
   ]
  },
  {
   "cell_type": "code",
   "execution_count": 595,
   "metadata": {},
   "outputs": [
    {
     "data": {
      "text/plain": [
       "array([0.01612389, 0.014785  , 0.01719169, 0.01428049, 0.0151781 ,\n",
       "       0.01351244, 0.01470354, 0.01584209, 0.01775113, 0.01944896,\n",
       "       0.01512168, 0.01607314, 0.01406541, 0.01574469, 0.01506123,\n",
       "       0.01171698, 0.01296841, 0.01568715, 0.01362314, 0.0155378 ,\n",
       "       0.01464059, 0.01501195, 0.01413333, 0.01674306, 0.01877035,\n",
       "       0.0158075 , 0.01397463, 0.01613204, 0.02129376, 0.01551132,\n",
       "       0.01347004, 0.01202048, 0.0187111 , 0.01553378, 0.0178285 ,\n",
       "       0.01371419, 0.01323104, 0.01562156, 0.01006454, 0.01383483,\n",
       "       0.01302971, 0.01077281, 0.01906876, 0.0121102 , 0.0154493 ,\n",
       "       0.01564663, 0.01908661, 0.01211963, 0.01414476, 0.0147624 ,\n",
       "       0.01325786, 0.01656723, 0.010165  , 0.01645909, 0.01340088,\n",
       "       0.01788021, 0.01421523, 0.01469259, 0.01472604, 0.01645703,\n",
       "       0.01742998, 0.01196703, 0.01549   , 0.01366694, 0.01809894,\n",
       "       0.01404795, 0.01492631, 0.01463935, 0.0168644 , 0.01602918,\n",
       "       0.01338945, 0.01943047, 0.01466043, 0.01784389, 0.01605251,\n",
       "       0.01668369, 0.01324499, 0.01667947, 0.01701718, 0.01430502,\n",
       "       0.0139578 , 0.01874879, 0.01591517, 0.014023  , 0.01156106,\n",
       "       0.01527348, 0.01010559, 0.01423291, 0.01359369, 0.01655462,\n",
       "       0.01469257, 0.01609811, 0.01282229, 0.01178363, 0.01467455,\n",
       "       0.01641989, 0.01407015, 0.01611492, 0.01674357, 0.01596939])"
      ]
     },
     "execution_count": 595,
     "metadata": {},
     "output_type": "execute_result"
    }
   ],
   "source": [
    "prediction = regression.predict(X)\n",
    "prediction"
   ]
  },
  {
   "cell_type": "code",
   "execution_count": 6,
   "metadata": {},
   "outputs": [],
   "source": [
    "# LinearRegression\n",
    "\n",
    "regression = LinearRegression(\n",
    "    descent = StochasticDescent(lambda_ = lambda_, w0 = w0, batch_size = 2),\n",
    "    tolerance = tolerance,\n",
    "    max_iter = max_iter\n",
    ")\n",
    "\n",
    "regression.fit(X, y)\n",
    "\n",
    "assert len(regression.loss_history) == max_iter, 'Loss history failed'\n",
    "\n",
    "prediction = regression.predict(X)\n",
    "\n",
    "assert prediction.shape[0] == num_objects, 'Predict failed'"
   ]
  },
  {
   "cell_type": "code",
   "execution_count": 8,
   "metadata": {},
   "outputs": [
    {
     "data": {
      "text/plain": [
       "[0.32932955069272923,\n",
       " 0.3201630527854655,\n",
       " 0.30635535539171915,\n",
       " 0.2983061432522042,\n",
       " 0.2930835074671902,\n",
       " 0.2882487383628796,\n",
       " 0.28249029156831734,\n",
       " 0.2777663631977084,\n",
       " 0.273757258168791,\n",
       " 0.26999459598078596]"
      ]
     },
     "execution_count": 8,
     "metadata": {},
     "output_type": "execute_result"
    }
   ],
   "source": [
    "regression.loss_history"
   ]
  },
  {
   "cell_type": "markdown",
   "metadata": {},
   "source": [
    "Если ваше решение прошло все тесты локально, то теперь осталось протестировать его в Яндекс Контесте - **https://contest.yandex.ru/contest/19551**.\n",
    "\n",
    "Для каждой задачи из контеста вставьте ссылку на успешную посылку:\n",
    "\n",
    "* **GradientDescent**: \n",
    "* **StochasticDescent**:\n",
    "* **MomentumDescent**:\n",
    "* **Adagrad**:\n",
    "* **LinearRegression**:"
   ]
  },
  {
   "cell_type": "markdown",
   "metadata": {},
   "source": [
    "36634610 - GD\n",
    "36669434 - SD\n",
    "36681277 - MD\n",
    "36705965 - adagrad\n",
    "36935987 - LInreg\n",
    "Логин - pr.leha"
   ]
  },
  {
   "cell_type": "markdown",
   "metadata": {},
   "source": [
    "## Задание 4. Работа с данными (1 балл)"
   ]
  },
  {
   "cell_type": "markdown",
   "metadata": {},
   "source": [
    "Мы будем использовать датасет объявлений по продаже машин на немецком Ebay. В задаче предсказания целевой переменной для нас будет являться цена.\n",
    "Для дальнейшей работы сделайте следующее:\n",
    "* Проведите разумную предобработку данных.\n",
    "* Замените целевую переменную на её логарифм.\n",
    "* Разделите данные на обучающую, валидационную и тестовую выборки в отношении 3:1:1."
   ]
  },
  {
   "cell_type": "code",
   "execution_count": 1,
   "metadata": {},
   "outputs": [
    {
     "data": {
      "text/html": [
       "<div>\n",
       "<style scoped>\n",
       "    .dataframe tbody tr th:only-of-type {\n",
       "        vertical-align: middle;\n",
       "    }\n",
       "\n",
       "    .dataframe tbody tr th {\n",
       "        vertical-align: top;\n",
       "    }\n",
       "\n",
       "    .dataframe thead th {\n",
       "        text-align: right;\n",
       "    }\n",
       "</style>\n",
       "<table border=\"1\" class=\"dataframe\">\n",
       "  <thead>\n",
       "    <tr style=\"text-align: right;\">\n",
       "      <th></th>\n",
       "      <th>brand</th>\n",
       "      <th>model</th>\n",
       "      <th>vehicleType</th>\n",
       "      <th>gearbox</th>\n",
       "      <th>fuelType</th>\n",
       "      <th>notRepairedDamage</th>\n",
       "      <th>powerPS</th>\n",
       "      <th>kilometer</th>\n",
       "      <th>yearOfRegistration</th>\n",
       "      <th>monthOfRegistration</th>\n",
       "      <th>dateCreated</th>\n",
       "      <th>lastSeen</th>\n",
       "      <th>postalCode</th>\n",
       "      <th>price</th>\n",
       "    </tr>\n",
       "  </thead>\n",
       "  <tbody>\n",
       "    <tr>\n",
       "      <th>0</th>\n",
       "      <td>volkswagen</td>\n",
       "      <td>golf</td>\n",
       "      <td>kleinwagen</td>\n",
       "      <td>manuell</td>\n",
       "      <td>benzin</td>\n",
       "      <td>nein</td>\n",
       "      <td>75</td>\n",
       "      <td>150000</td>\n",
       "      <td>2001</td>\n",
       "      <td>6</td>\n",
       "      <td>2016-03-17 00:00:00</td>\n",
       "      <td>2016-03-17 17:40:17</td>\n",
       "      <td>91074</td>\n",
       "      <td>1500</td>\n",
       "    </tr>\n",
       "    <tr>\n",
       "      <th>1</th>\n",
       "      <td>skoda</td>\n",
       "      <td>fabia</td>\n",
       "      <td>kleinwagen</td>\n",
       "      <td>manuell</td>\n",
       "      <td>diesel</td>\n",
       "      <td>nein</td>\n",
       "      <td>69</td>\n",
       "      <td>90000</td>\n",
       "      <td>2008</td>\n",
       "      <td>7</td>\n",
       "      <td>2016-03-31 00:00:00</td>\n",
       "      <td>2016-04-06 10:17:21</td>\n",
       "      <td>60437</td>\n",
       "      <td>3600</td>\n",
       "    </tr>\n",
       "    <tr>\n",
       "      <th>2</th>\n",
       "      <td>bmw</td>\n",
       "      <td>3er</td>\n",
       "      <td>limousine</td>\n",
       "      <td>manuell</td>\n",
       "      <td>benzin</td>\n",
       "      <td>ja</td>\n",
       "      <td>102</td>\n",
       "      <td>150000</td>\n",
       "      <td>1995</td>\n",
       "      <td>10</td>\n",
       "      <td>2016-04-04 00:00:00</td>\n",
       "      <td>2016-04-06 19:17:07</td>\n",
       "      <td>33775</td>\n",
       "      <td>650</td>\n",
       "    </tr>\n",
       "    <tr>\n",
       "      <th>3</th>\n",
       "      <td>peugeot</td>\n",
       "      <td>2_reihe</td>\n",
       "      <td>cabrio</td>\n",
       "      <td>manuell</td>\n",
       "      <td>benzin</td>\n",
       "      <td>nein</td>\n",
       "      <td>109</td>\n",
       "      <td>150000</td>\n",
       "      <td>2004</td>\n",
       "      <td>8</td>\n",
       "      <td>2016-04-01 00:00:00</td>\n",
       "      <td>2016-04-05 18:18:39</td>\n",
       "      <td>67112</td>\n",
       "      <td>2200</td>\n",
       "    </tr>\n",
       "    <tr>\n",
       "      <th>4</th>\n",
       "      <td>mazda</td>\n",
       "      <td>3_reihe</td>\n",
       "      <td>limousine</td>\n",
       "      <td>manuell</td>\n",
       "      <td>benzin</td>\n",
       "      <td>nein</td>\n",
       "      <td>105</td>\n",
       "      <td>150000</td>\n",
       "      <td>2004</td>\n",
       "      <td>12</td>\n",
       "      <td>2016-03-26 00:00:00</td>\n",
       "      <td>2016-04-06 10:45:34</td>\n",
       "      <td>96224</td>\n",
       "      <td>2000</td>\n",
       "    </tr>\n",
       "  </tbody>\n",
       "</table>\n",
       "</div>"
      ],
      "text/plain": [
       "        brand    model vehicleType  gearbox fuelType notRepairedDamage  \\\n",
       "0  volkswagen     golf  kleinwagen  manuell   benzin              nein   \n",
       "1       skoda    fabia  kleinwagen  manuell   diesel              nein   \n",
       "2         bmw      3er   limousine  manuell   benzin                ja   \n",
       "3     peugeot  2_reihe      cabrio  manuell   benzin              nein   \n",
       "4       mazda  3_reihe   limousine  manuell   benzin              nein   \n",
       "\n",
       "   powerPS  kilometer  yearOfRegistration  monthOfRegistration  \\\n",
       "0       75     150000                2001                    6   \n",
       "1       69      90000                2008                    7   \n",
       "2      102     150000                1995                   10   \n",
       "3      109     150000                2004                    8   \n",
       "4      105     150000                2004                   12   \n",
       "\n",
       "           dateCreated             lastSeen  postalCode  price  \n",
       "0  2016-03-17 00:00:00  2016-03-17 17:40:17       91074   1500  \n",
       "1  2016-03-31 00:00:00  2016-04-06 10:17:21       60437   3600  \n",
       "2  2016-04-04 00:00:00  2016-04-06 19:17:07       33775    650  \n",
       "3  2016-04-01 00:00:00  2016-04-05 18:18:39       67112   2200  \n",
       "4  2016-03-26 00:00:00  2016-04-06 10:45:34       96224   2000  "
      ]
     },
     "execution_count": 1,
     "metadata": {},
     "output_type": "execute_result"
    }
   ],
   "source": [
    "# YOUR CODE:\n",
    "import pandas as pd\n",
    "import numpy as np\n",
    "%matplotlib inline\n",
    "import matplotlib.pyplot as plt\n",
    "import seaborn as sns\n",
    "\n",
    "\n",
    "data = pd.read_csv('autos.csv')\n",
    "data.head()"
   ]
  },
  {
   "cell_type": "code",
   "execution_count": 5,
   "metadata": {},
   "outputs": [
    {
     "data": {
      "text/plain": [
       "(247872, 14)"
      ]
     },
     "execution_count": 5,
     "metadata": {},
     "output_type": "execute_result"
    }
   ],
   "source": [
    "price = data['price']\n",
    "#data = data.drop(['price'], axis = 1)\n",
    "data.shape"
   ]
  },
  {
   "cell_type": "code",
   "execution_count": 6,
   "metadata": {},
   "outputs": [
    {
     "data": {
      "text/html": [
       "<div>\n",
       "<style scoped>\n",
       "    .dataframe tbody tr th:only-of-type {\n",
       "        vertical-align: middle;\n",
       "    }\n",
       "\n",
       "    .dataframe tbody tr th {\n",
       "        vertical-align: top;\n",
       "    }\n",
       "\n",
       "    .dataframe thead th {\n",
       "        text-align: right;\n",
       "    }\n",
       "</style>\n",
       "<table border=\"1\" class=\"dataframe\">\n",
       "  <thead>\n",
       "    <tr style=\"text-align: right;\">\n",
       "      <th></th>\n",
       "      <th>brand</th>\n",
       "      <th>model</th>\n",
       "      <th>vehicleType</th>\n",
       "      <th>gearbox</th>\n",
       "      <th>fuelType</th>\n",
       "      <th>notRepairedDamage</th>\n",
       "      <th>powerPS</th>\n",
       "      <th>kilometer</th>\n",
       "      <th>yearOfRegistration</th>\n",
       "      <th>monthOfRegistration</th>\n",
       "      <th>dateCreated</th>\n",
       "      <th>lastSeen</th>\n",
       "      <th>postalCode</th>\n",
       "      <th>price</th>\n",
       "    </tr>\n",
       "  </thead>\n",
       "  <tbody>\n",
       "    <tr>\n",
       "      <th>50140</th>\n",
       "      <td>audi</td>\n",
       "      <td>a6</td>\n",
       "      <td>kombi</td>\n",
       "      <td>manuell</td>\n",
       "      <td>diesel</td>\n",
       "      <td>nein</td>\n",
       "      <td>177</td>\n",
       "      <td>125000</td>\n",
       "      <td>2012</td>\n",
       "      <td>2</td>\n",
       "      <td>2016-03-10 00:00:00</td>\n",
       "      <td>2016-04-06 01:17:13</td>\n",
       "      <td>48157</td>\n",
       "      <td>24599</td>\n",
       "    </tr>\n",
       "    <tr>\n",
       "      <th>231040</th>\n",
       "      <td>seat</td>\n",
       "      <td>ibiza</td>\n",
       "      <td>kleinwagen</td>\n",
       "      <td>manuell</td>\n",
       "      <td>benzin</td>\n",
       "      <td>nein</td>\n",
       "      <td>75</td>\n",
       "      <td>90000</td>\n",
       "      <td>2004</td>\n",
       "      <td>8</td>\n",
       "      <td>2016-03-28 00:00:00</td>\n",
       "      <td>2016-04-02 22:48:16</td>\n",
       "      <td>95163</td>\n",
       "      <td>2100</td>\n",
       "    </tr>\n",
       "    <tr>\n",
       "      <th>178072</th>\n",
       "      <td>audi</td>\n",
       "      <td>a6</td>\n",
       "      <td>kombi</td>\n",
       "      <td>automatik</td>\n",
       "      <td>diesel</td>\n",
       "      <td>nein</td>\n",
       "      <td>150</td>\n",
       "      <td>150000</td>\n",
       "      <td>1999</td>\n",
       "      <td>3</td>\n",
       "      <td>2016-04-04 00:00:00</td>\n",
       "      <td>2016-04-06 09:16:43</td>\n",
       "      <td>68723</td>\n",
       "      <td>1211</td>\n",
       "    </tr>\n",
       "    <tr>\n",
       "      <th>186352</th>\n",
       "      <td>seat</td>\n",
       "      <td>altea</td>\n",
       "      <td>limousine</td>\n",
       "      <td>manuell</td>\n",
       "      <td>diesel</td>\n",
       "      <td>nein</td>\n",
       "      <td>105</td>\n",
       "      <td>150000</td>\n",
       "      <td>2004</td>\n",
       "      <td>7</td>\n",
       "      <td>2016-03-18 00:00:00</td>\n",
       "      <td>2016-03-25 02:15:34</td>\n",
       "      <td>58642</td>\n",
       "      <td>4200</td>\n",
       "    </tr>\n",
       "    <tr>\n",
       "      <th>137599</th>\n",
       "      <td>mazda</td>\n",
       "      <td>andere</td>\n",
       "      <td>suv</td>\n",
       "      <td>manuell</td>\n",
       "      <td>diesel</td>\n",
       "      <td>nein</td>\n",
       "      <td>109</td>\n",
       "      <td>150000</td>\n",
       "      <td>2002</td>\n",
       "      <td>10</td>\n",
       "      <td>2016-03-09 00:00:00</td>\n",
       "      <td>2016-03-10 15:18:19</td>\n",
       "      <td>26316</td>\n",
       "      <td>3500</td>\n",
       "    </tr>\n",
       "    <tr>\n",
       "      <th>152854</th>\n",
       "      <td>toyota</td>\n",
       "      <td>yaris</td>\n",
       "      <td>kleinwagen</td>\n",
       "      <td>manuell</td>\n",
       "      <td>benzin</td>\n",
       "      <td>nein</td>\n",
       "      <td>101</td>\n",
       "      <td>80000</td>\n",
       "      <td>2010</td>\n",
       "      <td>12</td>\n",
       "      <td>2016-03-30 00:00:00</td>\n",
       "      <td>2016-04-04 23:46:09</td>\n",
       "      <td>10551</td>\n",
       "      <td>5499</td>\n",
       "    </tr>\n",
       "    <tr>\n",
       "      <th>197078</th>\n",
       "      <td>mercedes_benz</td>\n",
       "      <td>c_klasse</td>\n",
       "      <td>kombi</td>\n",
       "      <td>automatik</td>\n",
       "      <td>diesel</td>\n",
       "      <td>nein</td>\n",
       "      <td>170</td>\n",
       "      <td>150000</td>\n",
       "      <td>2012</td>\n",
       "      <td>9</td>\n",
       "      <td>2016-03-05 00:00:00</td>\n",
       "      <td>2016-03-22 04:46:10</td>\n",
       "      <td>13509</td>\n",
       "      <td>15300</td>\n",
       "    </tr>\n",
       "    <tr>\n",
       "      <th>217679</th>\n",
       "      <td>volkswagen</td>\n",
       "      <td>golf</td>\n",
       "      <td>cabrio</td>\n",
       "      <td>manuell</td>\n",
       "      <td>benzin</td>\n",
       "      <td>nein</td>\n",
       "      <td>90</td>\n",
       "      <td>150000</td>\n",
       "      <td>1995</td>\n",
       "      <td>3</td>\n",
       "      <td>2016-03-12 00:00:00</td>\n",
       "      <td>2016-03-20 03:48:12</td>\n",
       "      <td>55239</td>\n",
       "      <td>1250</td>\n",
       "    </tr>\n",
       "    <tr>\n",
       "      <th>219237</th>\n",
       "      <td>volkswagen</td>\n",
       "      <td>caddy</td>\n",
       "      <td>bus</td>\n",
       "      <td>manuell</td>\n",
       "      <td>cng</td>\n",
       "      <td>nein</td>\n",
       "      <td>109</td>\n",
       "      <td>100000</td>\n",
       "      <td>2010</td>\n",
       "      <td>9</td>\n",
       "      <td>2016-03-25 00:00:00</td>\n",
       "      <td>2016-04-06 18:15:45</td>\n",
       "      <td>56281</td>\n",
       "      <td>9500</td>\n",
       "    </tr>\n",
       "    <tr>\n",
       "      <th>153470</th>\n",
       "      <td>mazda</td>\n",
       "      <td>6_reihe</td>\n",
       "      <td>limousine</td>\n",
       "      <td>manuell</td>\n",
       "      <td>benzin</td>\n",
       "      <td>nein</td>\n",
       "      <td>120</td>\n",
       "      <td>125000</td>\n",
       "      <td>2008</td>\n",
       "      <td>7</td>\n",
       "      <td>2016-03-28 00:00:00</td>\n",
       "      <td>2016-04-06 22:17:47</td>\n",
       "      <td>52525</td>\n",
       "      <td>8500</td>\n",
       "    </tr>\n",
       "  </tbody>\n",
       "</table>\n",
       "</div>"
      ],
      "text/plain": [
       "                brand     model vehicleType    gearbox fuelType  \\\n",
       "50140            audi        a6       kombi    manuell   diesel   \n",
       "231040           seat     ibiza  kleinwagen    manuell   benzin   \n",
       "178072           audi        a6       kombi  automatik   diesel   \n",
       "186352           seat     altea   limousine    manuell   diesel   \n",
       "137599          mazda    andere         suv    manuell   diesel   \n",
       "152854         toyota     yaris  kleinwagen    manuell   benzin   \n",
       "197078  mercedes_benz  c_klasse       kombi  automatik   diesel   \n",
       "217679     volkswagen      golf      cabrio    manuell   benzin   \n",
       "219237     volkswagen     caddy         bus    manuell      cng   \n",
       "153470          mazda   6_reihe   limousine    manuell   benzin   \n",
       "\n",
       "       notRepairedDamage  powerPS  kilometer  yearOfRegistration  \\\n",
       "50140               nein      177     125000                2012   \n",
       "231040              nein       75      90000                2004   \n",
       "178072              nein      150     150000                1999   \n",
       "186352              nein      105     150000                2004   \n",
       "137599              nein      109     150000                2002   \n",
       "152854              nein      101      80000                2010   \n",
       "197078              nein      170     150000                2012   \n",
       "217679              nein       90     150000                1995   \n",
       "219237              nein      109     100000                2010   \n",
       "153470              nein      120     125000                2008   \n",
       "\n",
       "        monthOfRegistration          dateCreated             lastSeen  \\\n",
       "50140                     2  2016-03-10 00:00:00  2016-04-06 01:17:13   \n",
       "231040                    8  2016-03-28 00:00:00  2016-04-02 22:48:16   \n",
       "178072                    3  2016-04-04 00:00:00  2016-04-06 09:16:43   \n",
       "186352                    7  2016-03-18 00:00:00  2016-03-25 02:15:34   \n",
       "137599                   10  2016-03-09 00:00:00  2016-03-10 15:18:19   \n",
       "152854                   12  2016-03-30 00:00:00  2016-04-04 23:46:09   \n",
       "197078                    9  2016-03-05 00:00:00  2016-03-22 04:46:10   \n",
       "217679                    3  2016-03-12 00:00:00  2016-03-20 03:48:12   \n",
       "219237                    9  2016-03-25 00:00:00  2016-04-06 18:15:45   \n",
       "153470                    7  2016-03-28 00:00:00  2016-04-06 22:17:47   \n",
       "\n",
       "        postalCode  price  \n",
       "50140        48157  24599  \n",
       "231040       95163   2100  \n",
       "178072       68723   1211  \n",
       "186352       58642   4200  \n",
       "137599       26316   3500  \n",
       "152854       10551   5499  \n",
       "197078       13509  15300  \n",
       "217679       55239   1250  \n",
       "219237       56281   9500  \n",
       "153470       52525   8500  "
      ]
     },
     "execution_count": 6,
     "metadata": {},
     "output_type": "execute_result"
    }
   ],
   "source": [
    "data.sample(10)"
   ]
  },
  {
   "cell_type": "code",
   "execution_count": 15,
   "metadata": {},
   "outputs": [
    {
     "data": {
      "text/html": [
       "<div>\n",
       "<style scoped>\n",
       "    .dataframe tbody tr th:only-of-type {\n",
       "        vertical-align: middle;\n",
       "    }\n",
       "\n",
       "    .dataframe tbody tr th {\n",
       "        vertical-align: top;\n",
       "    }\n",
       "\n",
       "    .dataframe thead th {\n",
       "        text-align: right;\n",
       "    }\n",
       "</style>\n",
       "<table border=\"1\" class=\"dataframe\">\n",
       "  <thead>\n",
       "    <tr style=\"text-align: right;\">\n",
       "      <th></th>\n",
       "      <th>brand</th>\n",
       "      <th>model</th>\n",
       "      <th>vehicleType</th>\n",
       "      <th>gearbox</th>\n",
       "      <th>fuelType</th>\n",
       "      <th>notRepairedDamage</th>\n",
       "      <th>powerPS</th>\n",
       "      <th>kilometer</th>\n",
       "      <th>yearOfRegistration</th>\n",
       "      <th>monthOfRegistration</th>\n",
       "      <th>dateCreated</th>\n",
       "      <th>lastSeen</th>\n",
       "      <th>postalCode</th>\n",
       "      <th>price</th>\n",
       "    </tr>\n",
       "  </thead>\n",
       "  <tbody>\n",
       "    <tr>\n",
       "      <th>2845</th>\n",
       "      <td>mitsubishi</td>\n",
       "      <td>colt</td>\n",
       "      <td>limousine</td>\n",
       "      <td>manuell</td>\n",
       "      <td>diesel</td>\n",
       "      <td>nein</td>\n",
       "      <td>953</td>\n",
       "      <td>150000</td>\n",
       "      <td>2005</td>\n",
       "      <td>4</td>\n",
       "      <td>2016-04-03 00:00:00</td>\n",
       "      <td>2016-04-07 14:56:46</td>\n",
       "      <td>60326</td>\n",
       "      <td>3100</td>\n",
       "    </tr>\n",
       "    <tr>\n",
       "      <th>4373</th>\n",
       "      <td>chevrolet</td>\n",
       "      <td>matiz</td>\n",
       "      <td>kleinwagen</td>\n",
       "      <td>manuell</td>\n",
       "      <td>benzin</td>\n",
       "      <td>ja</td>\n",
       "      <td>603</td>\n",
       "      <td>5000</td>\n",
       "      <td>2002</td>\n",
       "      <td>11</td>\n",
       "      <td>2016-03-31 00:00:00</td>\n",
       "      <td>2016-04-01 03:41:52</td>\n",
       "      <td>44379</td>\n",
       "      <td>599</td>\n",
       "    </tr>\n",
       "    <tr>\n",
       "      <th>4605</th>\n",
       "      <td>opel</td>\n",
       "      <td>corsa</td>\n",
       "      <td>kleinwagen</td>\n",
       "      <td>manuell</td>\n",
       "      <td>benzin</td>\n",
       "      <td>ja</td>\n",
       "      <td>603</td>\n",
       "      <td>150000</td>\n",
       "      <td>1996</td>\n",
       "      <td>8</td>\n",
       "      <td>2016-03-31 00:00:00</td>\n",
       "      <td>2016-04-06 14:17:51</td>\n",
       "      <td>70327</td>\n",
       "      <td>600</td>\n",
       "    </tr>\n",
       "    <tr>\n",
       "      <th>8884</th>\n",
       "      <td>ford</td>\n",
       "      <td>ka</td>\n",
       "      <td>cabrio</td>\n",
       "      <td>manuell</td>\n",
       "      <td>benzin</td>\n",
       "      <td>nein</td>\n",
       "      <td>952</td>\n",
       "      <td>70000</td>\n",
       "      <td>2003</td>\n",
       "      <td>5</td>\n",
       "      <td>2016-03-09 00:00:00</td>\n",
       "      <td>2016-03-12 04:16:07</td>\n",
       "      <td>26903</td>\n",
       "      <td>3500</td>\n",
       "    </tr>\n",
       "    <tr>\n",
       "      <th>19893</th>\n",
       "      <td>mercedes_benz</td>\n",
       "      <td>s_klasse</td>\n",
       "      <td>limousine</td>\n",
       "      <td>automatik</td>\n",
       "      <td>benzin</td>\n",
       "      <td>nein</td>\n",
       "      <td>751</td>\n",
       "      <td>60000</td>\n",
       "      <td>2009</td>\n",
       "      <td>10</td>\n",
       "      <td>2016-04-01 00:00:00</td>\n",
       "      <td>2016-04-07 10:44:22</td>\n",
       "      <td>86159</td>\n",
       "      <td>89000</td>\n",
       "    </tr>\n",
       "    <tr>\n",
       "      <th>30450</th>\n",
       "      <td>citroen</td>\n",
       "      <td>c4</td>\n",
       "      <td>limousine</td>\n",
       "      <td>manuell</td>\n",
       "      <td>diesel</td>\n",
       "      <td>nein</td>\n",
       "      <td>900</td>\n",
       "      <td>100000</td>\n",
       "      <td>2005</td>\n",
       "      <td>2</td>\n",
       "      <td>2016-03-29 00:00:00</td>\n",
       "      <td>2016-04-04 05:16:35</td>\n",
       "      <td>46459</td>\n",
       "      <td>2850</td>\n",
       "    </tr>\n",
       "    <tr>\n",
       "      <th>35211</th>\n",
       "      <td>nissan</td>\n",
       "      <td>andere</td>\n",
       "      <td>coupe</td>\n",
       "      <td>manuell</td>\n",
       "      <td>benzin</td>\n",
       "      <td>nein</td>\n",
       "      <td>600</td>\n",
       "      <td>20000</td>\n",
       "      <td>2000</td>\n",
       "      <td>2</td>\n",
       "      <td>2016-03-12 00:00:00</td>\n",
       "      <td>2016-03-16 06:45:56</td>\n",
       "      <td>72285</td>\n",
       "      <td>49999</td>\n",
       "    </tr>\n",
       "    <tr>\n",
       "      <th>38298</th>\n",
       "      <td>mercedes_benz</td>\n",
       "      <td>e_klasse</td>\n",
       "      <td>limousine</td>\n",
       "      <td>automatik</td>\n",
       "      <td>benzin</td>\n",
       "      <td>nein</td>\n",
       "      <td>632</td>\n",
       "      <td>100000</td>\n",
       "      <td>2004</td>\n",
       "      <td>10</td>\n",
       "      <td>2016-03-20 00:00:00</td>\n",
       "      <td>2016-03-22 15:17:12</td>\n",
       "      <td>21129</td>\n",
       "      <td>22500</td>\n",
       "    </tr>\n",
       "    <tr>\n",
       "      <th>43371</th>\n",
       "      <td>mercedes_benz</td>\n",
       "      <td>sl</td>\n",
       "      <td>cabrio</td>\n",
       "      <td>automatik</td>\n",
       "      <td>benzin</td>\n",
       "      <td>nein</td>\n",
       "      <td>721</td>\n",
       "      <td>100000</td>\n",
       "      <td>2006</td>\n",
       "      <td>7</td>\n",
       "      <td>2016-03-15 00:00:00</td>\n",
       "      <td>2016-03-17 04:15:23</td>\n",
       "      <td>49635</td>\n",
       "      <td>99900</td>\n",
       "    </tr>\n",
       "    <tr>\n",
       "      <th>44233</th>\n",
       "      <td>mercedes_benz</td>\n",
       "      <td>andere</td>\n",
       "      <td>coupe</td>\n",
       "      <td>automatik</td>\n",
       "      <td>benzin</td>\n",
       "      <td>nein</td>\n",
       "      <td>650</td>\n",
       "      <td>60000</td>\n",
       "      <td>2011</td>\n",
       "      <td>2</td>\n",
       "      <td>2016-03-29 00:00:00</td>\n",
       "      <td>2016-04-05 13:15:52</td>\n",
       "      <td>63225</td>\n",
       "      <td>68500</td>\n",
       "    </tr>\n",
       "    <tr>\n",
       "      <th>44675</th>\n",
       "      <td>audi</td>\n",
       "      <td>andere</td>\n",
       "      <td>kombi</td>\n",
       "      <td>automatik</td>\n",
       "      <td>benzin</td>\n",
       "      <td>nein</td>\n",
       "      <td>700</td>\n",
       "      <td>150000</td>\n",
       "      <td>2009</td>\n",
       "      <td>3</td>\n",
       "      <td>2016-03-22 00:00:00</td>\n",
       "      <td>2016-04-06 01:17:49</td>\n",
       "      <td>82237</td>\n",
       "      <td>35500</td>\n",
       "    </tr>\n",
       "    <tr>\n",
       "      <th>50103</th>\n",
       "      <td>ford</td>\n",
       "      <td>mustang</td>\n",
       "      <td>coupe</td>\n",
       "      <td>automatik</td>\n",
       "      <td>benzin</td>\n",
       "      <td>nein</td>\n",
       "      <td>650</td>\n",
       "      <td>5000</td>\n",
       "      <td>1970</td>\n",
       "      <td>6</td>\n",
       "      <td>2016-03-17 00:00:00</td>\n",
       "      <td>2016-03-25 11:47:57</td>\n",
       "      <td>52146</td>\n",
       "      <td>54990</td>\n",
       "    </tr>\n",
       "    <tr>\n",
       "      <th>51655</th>\n",
       "      <td>mercedes_benz</td>\n",
       "      <td>e_klasse</td>\n",
       "      <td>limousine</td>\n",
       "      <td>automatik</td>\n",
       "      <td>benzin</td>\n",
       "      <td>nein</td>\n",
       "      <td>751</td>\n",
       "      <td>40000</td>\n",
       "      <td>2014</td>\n",
       "      <td>8</td>\n",
       "      <td>2016-03-21 00:00:00</td>\n",
       "      <td>2016-03-21 08:38:42</td>\n",
       "      <td>74613</td>\n",
       "      <td>74900</td>\n",
       "    </tr>\n",
       "    <tr>\n",
       "      <th>61347</th>\n",
       "      <td>mercedes_benz</td>\n",
       "      <td>c_klasse</td>\n",
       "      <td>limousine</td>\n",
       "      <td>automatik</td>\n",
       "      <td>benzin</td>\n",
       "      <td>nein</td>\n",
       "      <td>629</td>\n",
       "      <td>100000</td>\n",
       "      <td>2005</td>\n",
       "      <td>3</td>\n",
       "      <td>2016-03-27 00:00:00</td>\n",
       "      <td>2016-04-06 03:45:33</td>\n",
       "      <td>61462</td>\n",
       "      <td>39500</td>\n",
       "    </tr>\n",
       "    <tr>\n",
       "      <th>72008</th>\n",
       "      <td>chevrolet</td>\n",
       "      <td>andere</td>\n",
       "      <td>coupe</td>\n",
       "      <td>automatik</td>\n",
       "      <td>benzin</td>\n",
       "      <td>nein</td>\n",
       "      <td>600</td>\n",
       "      <td>5000</td>\n",
       "      <td>1974</td>\n",
       "      <td>7</td>\n",
       "      <td>2016-03-19 00:00:00</td>\n",
       "      <td>2016-03-28 13:15:43</td>\n",
       "      <td>38527</td>\n",
       "      <td>19500</td>\n",
       "    </tr>\n",
       "    <tr>\n",
       "      <th>73904</th>\n",
       "      <td>mercedes_benz</td>\n",
       "      <td>sl</td>\n",
       "      <td>cabrio</td>\n",
       "      <td>automatik</td>\n",
       "      <td>benzin</td>\n",
       "      <td>nein</td>\n",
       "      <td>620</td>\n",
       "      <td>150000</td>\n",
       "      <td>2002</td>\n",
       "      <td>12</td>\n",
       "      <td>2016-03-30 00:00:00</td>\n",
       "      <td>2016-04-06 23:16:46</td>\n",
       "      <td>70190</td>\n",
       "      <td>45000</td>\n",
       "    </tr>\n",
       "    <tr>\n",
       "      <th>74512</th>\n",
       "      <td>bmw</td>\n",
       "      <td>m_reihe</td>\n",
       "      <td>limousine</td>\n",
       "      <td>automatik</td>\n",
       "      <td>benzin</td>\n",
       "      <td>nein</td>\n",
       "      <td>676</td>\n",
       "      <td>80000</td>\n",
       "      <td>2011</td>\n",
       "      <td>12</td>\n",
       "      <td>2016-03-25 00:00:00</td>\n",
       "      <td>2016-03-29 22:16:18</td>\n",
       "      <td>86150</td>\n",
       "      <td>69500</td>\n",
       "    </tr>\n",
       "    <tr>\n",
       "      <th>85805</th>\n",
       "      <td>mercedes_benz</td>\n",
       "      <td>cl</td>\n",
       "      <td>coupe</td>\n",
       "      <td>automatik</td>\n",
       "      <td>benzin</td>\n",
       "      <td>nein</td>\n",
       "      <td>612</td>\n",
       "      <td>90000</td>\n",
       "      <td>2003</td>\n",
       "      <td>10</td>\n",
       "      <td>2016-03-10 00:00:00</td>\n",
       "      <td>2016-04-07 07:44:29</td>\n",
       "      <td>34298</td>\n",
       "      <td>33800</td>\n",
       "    </tr>\n",
       "    <tr>\n",
       "      <th>87209</th>\n",
       "      <td>audi</td>\n",
       "      <td>andere</td>\n",
       "      <td>kombi</td>\n",
       "      <td>automatik</td>\n",
       "      <td>benzin</td>\n",
       "      <td>nein</td>\n",
       "      <td>740</td>\n",
       "      <td>150000</td>\n",
       "      <td>2008</td>\n",
       "      <td>6</td>\n",
       "      <td>2016-03-08 00:00:00</td>\n",
       "      <td>2016-03-08 18:19:27</td>\n",
       "      <td>83229</td>\n",
       "      <td>21400</td>\n",
       "    </tr>\n",
       "    <tr>\n",
       "      <th>88562</th>\n",
       "      <td>audi</td>\n",
       "      <td>andere</td>\n",
       "      <td>kombi</td>\n",
       "      <td>automatik</td>\n",
       "      <td>benzin</td>\n",
       "      <td>nein</td>\n",
       "      <td>851</td>\n",
       "      <td>150000</td>\n",
       "      <td>2008</td>\n",
       "      <td>5</td>\n",
       "      <td>2016-03-24 00:00:00</td>\n",
       "      <td>2016-04-05 15:17:38</td>\n",
       "      <td>39116</td>\n",
       "      <td>41000</td>\n",
       "    </tr>\n",
       "    <tr>\n",
       "      <th>104442</th>\n",
       "      <td>mercedes_benz</td>\n",
       "      <td>cl</td>\n",
       "      <td>coupe</td>\n",
       "      <td>automatik</td>\n",
       "      <td>benzin</td>\n",
       "      <td>nein</td>\n",
       "      <td>612</td>\n",
       "      <td>150000</td>\n",
       "      <td>2010</td>\n",
       "      <td>2</td>\n",
       "      <td>2016-03-08 00:00:00</td>\n",
       "      <td>2016-03-08 17:36:57</td>\n",
       "      <td>30938</td>\n",
       "      <td>23799</td>\n",
       "    </tr>\n",
       "    <tr>\n",
       "      <th>109798</th>\n",
       "      <td>ford</td>\n",
       "      <td>mustang</td>\n",
       "      <td>coupe</td>\n",
       "      <td>manuell</td>\n",
       "      <td>benzin</td>\n",
       "      <td>nein</td>\n",
       "      <td>604</td>\n",
       "      <td>60000</td>\n",
       "      <td>2010</td>\n",
       "      <td>7</td>\n",
       "      <td>2016-04-03 00:00:00</td>\n",
       "      <td>2016-04-06 00:45:21</td>\n",
       "      <td>80937</td>\n",
       "      <td>59900</td>\n",
       "    </tr>\n",
       "    <tr>\n",
       "      <th>111586</th>\n",
       "      <td>mercedes_benz</td>\n",
       "      <td>s_klasse</td>\n",
       "      <td>limousine</td>\n",
       "      <td>automatik</td>\n",
       "      <td>benzin</td>\n",
       "      <td>nein</td>\n",
       "      <td>612</td>\n",
       "      <td>150000</td>\n",
       "      <td>2006</td>\n",
       "      <td>12</td>\n",
       "      <td>2016-03-07 00:00:00</td>\n",
       "      <td>2016-03-11 17:16:01</td>\n",
       "      <td>50667</td>\n",
       "      <td>31500</td>\n",
       "    </tr>\n",
       "    <tr>\n",
       "      <th>112955</th>\n",
       "      <td>mercedes_benz</td>\n",
       "      <td>andere</td>\n",
       "      <td>coupe</td>\n",
       "      <td>automatik</td>\n",
       "      <td>benzin</td>\n",
       "      <td>nein</td>\n",
       "      <td>620</td>\n",
       "      <td>60000</td>\n",
       "      <td>2011</td>\n",
       "      <td>3</td>\n",
       "      <td>2016-03-10 00:00:00</td>\n",
       "      <td>2016-03-26 04:46:01</td>\n",
       "      <td>63225</td>\n",
       "      <td>68900</td>\n",
       "    </tr>\n",
       "    <tr>\n",
       "      <th>113792</th>\n",
       "      <td>jaguar</td>\n",
       "      <td>s_type</td>\n",
       "      <td>limousine</td>\n",
       "      <td>automatik</td>\n",
       "      <td>benzin</td>\n",
       "      <td>nein</td>\n",
       "      <td>600</td>\n",
       "      <td>150000</td>\n",
       "      <td>2002</td>\n",
       "      <td>12</td>\n",
       "      <td>2016-03-16 00:00:00</td>\n",
       "      <td>2016-03-22 16:19:52</td>\n",
       "      <td>13595</td>\n",
       "      <td>12000</td>\n",
       "    </tr>\n",
       "    <tr>\n",
       "      <th>118274</th>\n",
       "      <td>audi</td>\n",
       "      <td>andere</td>\n",
       "      <td>kombi</td>\n",
       "      <td>automatik</td>\n",
       "      <td>benzin</td>\n",
       "      <td>nein</td>\n",
       "      <td>702</td>\n",
       "      <td>150000</td>\n",
       "      <td>2009</td>\n",
       "      <td>3</td>\n",
       "      <td>2016-03-22 00:00:00</td>\n",
       "      <td>2016-04-06 01:44:20</td>\n",
       "      <td>82237</td>\n",
       "      <td>35500</td>\n",
       "    </tr>\n",
       "    <tr>\n",
       "      <th>119612</th>\n",
       "      <td>porsche</td>\n",
       "      <td>911</td>\n",
       "      <td>coupe</td>\n",
       "      <td>automatik</td>\n",
       "      <td>benzin</td>\n",
       "      <td>nein</td>\n",
       "      <td>680</td>\n",
       "      <td>100000</td>\n",
       "      <td>2006</td>\n",
       "      <td>11</td>\n",
       "      <td>2016-03-29 00:00:00</td>\n",
       "      <td>2016-04-05 19:18:38</td>\n",
       "      <td>86356</td>\n",
       "      <td>72900</td>\n",
       "    </tr>\n",
       "    <tr>\n",
       "      <th>120163</th>\n",
       "      <td>honda</td>\n",
       "      <td>civic</td>\n",
       "      <td>coupe</td>\n",
       "      <td>manuell</td>\n",
       "      <td>benzin</td>\n",
       "      <td>nein</td>\n",
       "      <td>903</td>\n",
       "      <td>150000</td>\n",
       "      <td>1997</td>\n",
       "      <td>9</td>\n",
       "      <td>2016-03-17 00:00:00</td>\n",
       "      <td>2016-04-07 12:17:01</td>\n",
       "      <td>85095</td>\n",
       "      <td>1350</td>\n",
       "    </tr>\n",
       "    <tr>\n",
       "      <th>124248</th>\n",
       "      <td>opel</td>\n",
       "      <td>corsa</td>\n",
       "      <td>kleinwagen</td>\n",
       "      <td>automatik</td>\n",
       "      <td>benzin</td>\n",
       "      <td>nein</td>\n",
       "      <td>606</td>\n",
       "      <td>150000</td>\n",
       "      <td>1997</td>\n",
       "      <td>0</td>\n",
       "      <td>2016-03-08 00:00:00</td>\n",
       "      <td>2016-03-11 09:17:20</td>\n",
       "      <td>16727</td>\n",
       "      <td>600</td>\n",
       "    </tr>\n",
       "    <tr>\n",
       "      <th>126624</th>\n",
       "      <td>volkswagen</td>\n",
       "      <td>polo</td>\n",
       "      <td>kleinwagen</td>\n",
       "      <td>automatik</td>\n",
       "      <td>benzin</td>\n",
       "      <td>nein</td>\n",
       "      <td>601</td>\n",
       "      <td>150000</td>\n",
       "      <td>1998</td>\n",
       "      <td>11</td>\n",
       "      <td>2016-03-13 00:00:00</td>\n",
       "      <td>2016-03-13 18:43:30</td>\n",
       "      <td>60528</td>\n",
       "      <td>1100</td>\n",
       "    </tr>\n",
       "    <tr>\n",
       "      <th>130505</th>\n",
       "      <td>toyota</td>\n",
       "      <td>andere</td>\n",
       "      <td>coupe</td>\n",
       "      <td>manuell</td>\n",
       "      <td>benzin</td>\n",
       "      <td>nein</td>\n",
       "      <td>600</td>\n",
       "      <td>5000</td>\n",
       "      <td>2000</td>\n",
       "      <td>4</td>\n",
       "      <td>2016-03-11 00:00:00</td>\n",
       "      <td>2016-04-07 03:46:16</td>\n",
       "      <td>15738</td>\n",
       "      <td>16500</td>\n",
       "    </tr>\n",
       "    <tr>\n",
       "      <th>131963</th>\n",
       "      <td>audi</td>\n",
       "      <td>andere</td>\n",
       "      <td>kombi</td>\n",
       "      <td>automatik</td>\n",
       "      <td>benzin</td>\n",
       "      <td>nein</td>\n",
       "      <td>748</td>\n",
       "      <td>150000</td>\n",
       "      <td>2008</td>\n",
       "      <td>10</td>\n",
       "      <td>2016-03-24 00:00:00</td>\n",
       "      <td>2016-04-06 23:45:11</td>\n",
       "      <td>72186</td>\n",
       "      <td>28500</td>\n",
       "    </tr>\n",
       "    <tr>\n",
       "      <th>134430</th>\n",
       "      <td>opel</td>\n",
       "      <td>andere</td>\n",
       "      <td>kleinwagen</td>\n",
       "      <td>manuell</td>\n",
       "      <td>benzin</td>\n",
       "      <td>nein</td>\n",
       "      <td>871</td>\n",
       "      <td>20000</td>\n",
       "      <td>2013</td>\n",
       "      <td>1</td>\n",
       "      <td>2016-03-31 00:00:00</td>\n",
       "      <td>2016-04-06 04:46:46</td>\n",
       "      <td>26817</td>\n",
       "      <td>13200</td>\n",
       "    </tr>\n",
       "    <tr>\n",
       "      <th>135053</th>\n",
       "      <td>audi</td>\n",
       "      <td>80</td>\n",
       "      <td>limousine</td>\n",
       "      <td>manuell</td>\n",
       "      <td>benzin</td>\n",
       "      <td>ja</td>\n",
       "      <td>909</td>\n",
       "      <td>150000</td>\n",
       "      <td>1985</td>\n",
       "      <td>7</td>\n",
       "      <td>2016-03-20 00:00:00</td>\n",
       "      <td>2016-04-07 00:45:55</td>\n",
       "      <td>91460</td>\n",
       "      <td>825</td>\n",
       "    </tr>\n",
       "    <tr>\n",
       "      <th>137032</th>\n",
       "      <td>fiat</td>\n",
       "      <td>punto</td>\n",
       "      <td>kleinwagen</td>\n",
       "      <td>manuell</td>\n",
       "      <td>elektro</td>\n",
       "      <td>nein</td>\n",
       "      <td>776</td>\n",
       "      <td>60000</td>\n",
       "      <td>2009</td>\n",
       "      <td>9</td>\n",
       "      <td>2016-03-29 00:00:00</td>\n",
       "      <td>2016-04-06 06:45:29</td>\n",
       "      <td>86860</td>\n",
       "      <td>7000</td>\n",
       "    </tr>\n",
       "    <tr>\n",
       "      <th>138546</th>\n",
       "      <td>ford</td>\n",
       "      <td>mustang</td>\n",
       "      <td>coupe</td>\n",
       "      <td>manuell</td>\n",
       "      <td>benzin</td>\n",
       "      <td>nein</td>\n",
       "      <td>672</td>\n",
       "      <td>5000</td>\n",
       "      <td>2014</td>\n",
       "      <td>1</td>\n",
       "      <td>2016-03-19 00:00:00</td>\n",
       "      <td>2016-04-01 14:16:01</td>\n",
       "      <td>32657</td>\n",
       "      <td>70999</td>\n",
       "    </tr>\n",
       "    <tr>\n",
       "      <th>154028</th>\n",
       "      <td>fiat</td>\n",
       "      <td>500</td>\n",
       "      <td>kleinwagen</td>\n",
       "      <td>manuell</td>\n",
       "      <td>benzin</td>\n",
       "      <td>nein</td>\n",
       "      <td>678</td>\n",
       "      <td>30000</td>\n",
       "      <td>1967</td>\n",
       "      <td>6</td>\n",
       "      <td>2016-04-01 00:00:00</td>\n",
       "      <td>2016-04-01 22:44:04</td>\n",
       "      <td>63762</td>\n",
       "      <td>12000</td>\n",
       "    </tr>\n",
       "    <tr>\n",
       "      <th>155722</th>\n",
       "      <td>seat</td>\n",
       "      <td>arosa</td>\n",
       "      <td>kleinwagen</td>\n",
       "      <td>manuell</td>\n",
       "      <td>benzin</td>\n",
       "      <td>nein</td>\n",
       "      <td>950</td>\n",
       "      <td>150000</td>\n",
       "      <td>2000</td>\n",
       "      <td>0</td>\n",
       "      <td>2016-03-08 00:00:00</td>\n",
       "      <td>2016-03-22 02:46:57</td>\n",
       "      <td>48432</td>\n",
       "      <td>950</td>\n",
       "    </tr>\n",
       "    <tr>\n",
       "      <th>157173</th>\n",
       "      <td>nissan</td>\n",
       "      <td>andere</td>\n",
       "      <td>coupe</td>\n",
       "      <td>automatik</td>\n",
       "      <td>benzin</td>\n",
       "      <td>nein</td>\n",
       "      <td>751</td>\n",
       "      <td>50000</td>\n",
       "      <td>2010</td>\n",
       "      <td>4</td>\n",
       "      <td>2016-03-31 00:00:00</td>\n",
       "      <td>2016-04-07 03:17:14</td>\n",
       "      <td>50823</td>\n",
       "      <td>45000</td>\n",
       "    </tr>\n",
       "    <tr>\n",
       "      <th>158404</th>\n",
       "      <td>bmw</td>\n",
       "      <td>m_reihe</td>\n",
       "      <td>limousine</td>\n",
       "      <td>automatik</td>\n",
       "      <td>benzin</td>\n",
       "      <td>nein</td>\n",
       "      <td>600</td>\n",
       "      <td>10000</td>\n",
       "      <td>2014</td>\n",
       "      <td>10</td>\n",
       "      <td>2016-03-16 00:00:00</td>\n",
       "      <td>2016-04-07 00:45:45</td>\n",
       "      <td>22964</td>\n",
       "      <td>92500</td>\n",
       "    </tr>\n",
       "    <tr>\n",
       "      <th>159024</th>\n",
       "      <td>volkswagen</td>\n",
       "      <td>golf</td>\n",
       "      <td>limousine</td>\n",
       "      <td>manuell</td>\n",
       "      <td>diesel</td>\n",
       "      <td>nein</td>\n",
       "      <td>603</td>\n",
       "      <td>150000</td>\n",
       "      <td>1998</td>\n",
       "      <td>12</td>\n",
       "      <td>2016-03-13 00:00:00</td>\n",
       "      <td>2016-04-06 00:16:29</td>\n",
       "      <td>65554</td>\n",
       "      <td>1200</td>\n",
       "    </tr>\n",
       "    <tr>\n",
       "      <th>164345</th>\n",
       "      <td>nissan</td>\n",
       "      <td>andere</td>\n",
       "      <td>coupe</td>\n",
       "      <td>manuell</td>\n",
       "      <td>benzin</td>\n",
       "      <td>nein</td>\n",
       "      <td>600</td>\n",
       "      <td>20000</td>\n",
       "      <td>2000</td>\n",
       "      <td>2</td>\n",
       "      <td>2016-03-16 00:00:00</td>\n",
       "      <td>2016-04-06 18:15:33</td>\n",
       "      <td>72285</td>\n",
       "      <td>49999</td>\n",
       "    </tr>\n",
       "    <tr>\n",
       "      <th>170042</th>\n",
       "      <td>mercedes_benz</td>\n",
       "      <td>s_klasse</td>\n",
       "      <td>limousine</td>\n",
       "      <td>automatik</td>\n",
       "      <td>benzin</td>\n",
       "      <td>nein</td>\n",
       "      <td>600</td>\n",
       "      <td>150000</td>\n",
       "      <td>2003</td>\n",
       "      <td>10</td>\n",
       "      <td>2016-03-27 00:00:00</td>\n",
       "      <td>2016-04-05 19:45:39</td>\n",
       "      <td>49082</td>\n",
       "      <td>15900</td>\n",
       "    </tr>\n",
       "    <tr>\n",
       "      <th>174361</th>\n",
       "      <td>suzuki</td>\n",
       "      <td>andere</td>\n",
       "      <td>suv</td>\n",
       "      <td>manuell</td>\n",
       "      <td>benzin</td>\n",
       "      <td>ja</td>\n",
       "      <td>645</td>\n",
       "      <td>150000</td>\n",
       "      <td>1987</td>\n",
       "      <td>5</td>\n",
       "      <td>2016-03-14 00:00:00</td>\n",
       "      <td>2016-03-25 17:45:50</td>\n",
       "      <td>80331</td>\n",
       "      <td>1250</td>\n",
       "    </tr>\n",
       "    <tr>\n",
       "      <th>174523</th>\n",
       "      <td>citroen</td>\n",
       "      <td>andere</td>\n",
       "      <td>bus</td>\n",
       "      <td>manuell</td>\n",
       "      <td>diesel</td>\n",
       "      <td>nein</td>\n",
       "      <td>907</td>\n",
       "      <td>150000</td>\n",
       "      <td>2009</td>\n",
       "      <td>11</td>\n",
       "      <td>2016-04-01 00:00:00</td>\n",
       "      <td>2016-04-07 05:44:35</td>\n",
       "      <td>67127</td>\n",
       "      <td>4899</td>\n",
       "    </tr>\n",
       "    <tr>\n",
       "      <th>174694</th>\n",
       "      <td>audi</td>\n",
       "      <td>andere</td>\n",
       "      <td>kombi</td>\n",
       "      <td>automatik</td>\n",
       "      <td>benzin</td>\n",
       "      <td>nein</td>\n",
       "      <td>625</td>\n",
       "      <td>150000</td>\n",
       "      <td>2004</td>\n",
       "      <td>10</td>\n",
       "      <td>2016-03-24 00:00:00</td>\n",
       "      <td>2016-04-05 13:46:09</td>\n",
       "      <td>99099</td>\n",
       "      <td>26999</td>\n",
       "    </tr>\n",
       "    <tr>\n",
       "      <th>176966</th>\n",
       "      <td>fiat</td>\n",
       "      <td>500</td>\n",
       "      <td>cabrio</td>\n",
       "      <td>manuell</td>\n",
       "      <td>benzin</td>\n",
       "      <td>ja</td>\n",
       "      <td>702</td>\n",
       "      <td>50000</td>\n",
       "      <td>2009</td>\n",
       "      <td>8</td>\n",
       "      <td>2016-03-07 00:00:00</td>\n",
       "      <td>2016-03-07 17:19:43</td>\n",
       "      <td>99734</td>\n",
       "      <td>2885</td>\n",
       "    </tr>\n",
       "    <tr>\n",
       "      <th>182263</th>\n",
       "      <td>hyundai</td>\n",
       "      <td>andere</td>\n",
       "      <td>kleinwagen</td>\n",
       "      <td>manuell</td>\n",
       "      <td>benzin</td>\n",
       "      <td>nein</td>\n",
       "      <td>999</td>\n",
       "      <td>125000</td>\n",
       "      <td>2001</td>\n",
       "      <td>4</td>\n",
       "      <td>2016-03-15 00:00:00</td>\n",
       "      <td>2016-04-06 05:16:42</td>\n",
       "      <td>10249</td>\n",
       "      <td>950</td>\n",
       "    </tr>\n",
       "    <tr>\n",
       "      <th>186316</th>\n",
       "      <td>mercedes_benz</td>\n",
       "      <td>e_klasse</td>\n",
       "      <td>limousine</td>\n",
       "      <td>automatik</td>\n",
       "      <td>benzin</td>\n",
       "      <td>nein</td>\n",
       "      <td>801</td>\n",
       "      <td>70000</td>\n",
       "      <td>2011</td>\n",
       "      <td>4</td>\n",
       "      <td>2016-04-04 00:00:00</td>\n",
       "      <td>2016-04-06 17:44:45</td>\n",
       "      <td>59759</td>\n",
       "      <td>74990</td>\n",
       "    </tr>\n",
       "    <tr>\n",
       "      <th>188662</th>\n",
       "      <td>mercedes_benz</td>\n",
       "      <td>s_klasse</td>\n",
       "      <td>limousine</td>\n",
       "      <td>automatik</td>\n",
       "      <td>benzin</td>\n",
       "      <td>nein</td>\n",
       "      <td>612</td>\n",
       "      <td>125000</td>\n",
       "      <td>2007</td>\n",
       "      <td>5</td>\n",
       "      <td>2016-03-25 00:00:00</td>\n",
       "      <td>2016-03-30 06:16:39</td>\n",
       "      <td>89520</td>\n",
       "      <td>35000</td>\n",
       "    </tr>\n",
       "    <tr>\n",
       "      <th>194153</th>\n",
       "      <td>mercedes_benz</td>\n",
       "      <td>sl</td>\n",
       "      <td>cabrio</td>\n",
       "      <td>automatik</td>\n",
       "      <td>benzin</td>\n",
       "      <td>nein</td>\n",
       "      <td>612</td>\n",
       "      <td>150000</td>\n",
       "      <td>2005</td>\n",
       "      <td>2</td>\n",
       "      <td>2016-03-21 00:00:00</td>\n",
       "      <td>2016-04-06 02:45:29</td>\n",
       "      <td>97080</td>\n",
       "      <td>47800</td>\n",
       "    </tr>\n",
       "    <tr>\n",
       "      <th>198287</th>\n",
       "      <td>audi</td>\n",
       "      <td>andere</td>\n",
       "      <td>kombi</td>\n",
       "      <td>automatik</td>\n",
       "      <td>benzin</td>\n",
       "      <td>nein</td>\n",
       "      <td>850</td>\n",
       "      <td>100000</td>\n",
       "      <td>2008</td>\n",
       "      <td>6</td>\n",
       "      <td>2016-03-09 00:00:00</td>\n",
       "      <td>2016-04-05 20:47:24</td>\n",
       "      <td>13509</td>\n",
       "      <td>50900</td>\n",
       "    </tr>\n",
       "    <tr>\n",
       "      <th>200470</th>\n",
       "      <td>audi</td>\n",
       "      <td>andere</td>\n",
       "      <td>kombi</td>\n",
       "      <td>manuell</td>\n",
       "      <td>benzin</td>\n",
       "      <td>nein</td>\n",
       "      <td>704</td>\n",
       "      <td>150000</td>\n",
       "      <td>1999</td>\n",
       "      <td>9</td>\n",
       "      <td>2016-04-01 00:00:00</td>\n",
       "      <td>2016-04-05 13:44:59</td>\n",
       "      <td>12305</td>\n",
       "      <td>22400</td>\n",
       "    </tr>\n",
       "    <tr>\n",
       "      <th>206623</th>\n",
       "      <td>mercedes_benz</td>\n",
       "      <td>c_klasse</td>\n",
       "      <td>limousine</td>\n",
       "      <td>automatik</td>\n",
       "      <td>benzin</td>\n",
       "      <td>nein</td>\n",
       "      <td>629</td>\n",
       "      <td>100000</td>\n",
       "      <td>2005</td>\n",
       "      <td>3</td>\n",
       "      <td>2016-03-27 00:00:00</td>\n",
       "      <td>2016-04-07 05:46:24</td>\n",
       "      <td>61462</td>\n",
       "      <td>39500</td>\n",
       "    </tr>\n",
       "    <tr>\n",
       "      <th>211138</th>\n",
       "      <td>nissan</td>\n",
       "      <td>micra</td>\n",
       "      <td>kleinwagen</td>\n",
       "      <td>manuell</td>\n",
       "      <td>benzin</td>\n",
       "      <td>nein</td>\n",
       "      <td>998</td>\n",
       "      <td>150000</td>\n",
       "      <td>1993</td>\n",
       "      <td>6</td>\n",
       "      <td>2016-03-15 00:00:00</td>\n",
       "      <td>2016-03-21 15:16:01</td>\n",
       "      <td>10315</td>\n",
       "      <td>230</td>\n",
       "    </tr>\n",
       "    <tr>\n",
       "      <th>215464</th>\n",
       "      <td>audi</td>\n",
       "      <td>andere</td>\n",
       "      <td>kombi</td>\n",
       "      <td>automatik</td>\n",
       "      <td>benzin</td>\n",
       "      <td>nein</td>\n",
       "      <td>751</td>\n",
       "      <td>150000</td>\n",
       "      <td>2008</td>\n",
       "      <td>11</td>\n",
       "      <td>2016-03-12 00:00:00</td>\n",
       "      <td>2016-03-14 12:29:57</td>\n",
       "      <td>35463</td>\n",
       "      <td>28900</td>\n",
       "    </tr>\n",
       "    <tr>\n",
       "      <th>225867</th>\n",
       "      <td>chrysler</td>\n",
       "      <td>andere</td>\n",
       "      <td>cabrio</td>\n",
       "      <td>manuell</td>\n",
       "      <td>benzin</td>\n",
       "      <td>ja</td>\n",
       "      <td>650</td>\n",
       "      <td>40000</td>\n",
       "      <td>2008</td>\n",
       "      <td>7</td>\n",
       "      <td>2016-03-26 00:00:00</td>\n",
       "      <td>2016-04-05 22:16:00</td>\n",
       "      <td>51061</td>\n",
       "      <td>23900</td>\n",
       "    </tr>\n",
       "    <tr>\n",
       "      <th>230019</th>\n",
       "      <td>chevrolet</td>\n",
       "      <td>matiz</td>\n",
       "      <td>kleinwagen</td>\n",
       "      <td>manuell</td>\n",
       "      <td>benzin</td>\n",
       "      <td>ja</td>\n",
       "      <td>603</td>\n",
       "      <td>5000</td>\n",
       "      <td>2002</td>\n",
       "      <td>11</td>\n",
       "      <td>2016-03-31 00:00:00</td>\n",
       "      <td>2016-04-07 01:44:38</td>\n",
       "      <td>44379</td>\n",
       "      <td>599</td>\n",
       "    </tr>\n",
       "    <tr>\n",
       "      <th>231819</th>\n",
       "      <td>volkswagen</td>\n",
       "      <td>polo</td>\n",
       "      <td>kleinwagen</td>\n",
       "      <td>manuell</td>\n",
       "      <td>benzin</td>\n",
       "      <td>nein</td>\n",
       "      <td>601</td>\n",
       "      <td>80000</td>\n",
       "      <td>2008</td>\n",
       "      <td>1</td>\n",
       "      <td>2016-03-06 00:00:00</td>\n",
       "      <td>2016-04-05 04:17:44</td>\n",
       "      <td>71282</td>\n",
       "      <td>4600</td>\n",
       "    </tr>\n",
       "  </tbody>\n",
       "</table>\n",
       "</div>"
      ],
      "text/plain": [
       "                brand     model vehicleType    gearbox fuelType  \\\n",
       "2845       mitsubishi      colt   limousine    manuell   diesel   \n",
       "4373        chevrolet     matiz  kleinwagen    manuell   benzin   \n",
       "4605             opel     corsa  kleinwagen    manuell   benzin   \n",
       "8884             ford        ka      cabrio    manuell   benzin   \n",
       "19893   mercedes_benz  s_klasse   limousine  automatik   benzin   \n",
       "30450         citroen        c4   limousine    manuell   diesel   \n",
       "35211          nissan    andere       coupe    manuell   benzin   \n",
       "38298   mercedes_benz  e_klasse   limousine  automatik   benzin   \n",
       "43371   mercedes_benz        sl      cabrio  automatik   benzin   \n",
       "44233   mercedes_benz    andere       coupe  automatik   benzin   \n",
       "44675            audi    andere       kombi  automatik   benzin   \n",
       "50103            ford   mustang       coupe  automatik   benzin   \n",
       "51655   mercedes_benz  e_klasse   limousine  automatik   benzin   \n",
       "61347   mercedes_benz  c_klasse   limousine  automatik   benzin   \n",
       "72008       chevrolet    andere       coupe  automatik   benzin   \n",
       "73904   mercedes_benz        sl      cabrio  automatik   benzin   \n",
       "74512             bmw   m_reihe   limousine  automatik   benzin   \n",
       "85805   mercedes_benz        cl       coupe  automatik   benzin   \n",
       "87209            audi    andere       kombi  automatik   benzin   \n",
       "88562            audi    andere       kombi  automatik   benzin   \n",
       "104442  mercedes_benz        cl       coupe  automatik   benzin   \n",
       "109798           ford   mustang       coupe    manuell   benzin   \n",
       "111586  mercedes_benz  s_klasse   limousine  automatik   benzin   \n",
       "112955  mercedes_benz    andere       coupe  automatik   benzin   \n",
       "113792         jaguar    s_type   limousine  automatik   benzin   \n",
       "118274           audi    andere       kombi  automatik   benzin   \n",
       "119612        porsche       911       coupe  automatik   benzin   \n",
       "120163          honda     civic       coupe    manuell   benzin   \n",
       "124248           opel     corsa  kleinwagen  automatik   benzin   \n",
       "126624     volkswagen      polo  kleinwagen  automatik   benzin   \n",
       "130505         toyota    andere       coupe    manuell   benzin   \n",
       "131963           audi    andere       kombi  automatik   benzin   \n",
       "134430           opel    andere  kleinwagen    manuell   benzin   \n",
       "135053           audi        80   limousine    manuell   benzin   \n",
       "137032           fiat     punto  kleinwagen    manuell  elektro   \n",
       "138546           ford   mustang       coupe    manuell   benzin   \n",
       "154028           fiat       500  kleinwagen    manuell   benzin   \n",
       "155722           seat     arosa  kleinwagen    manuell   benzin   \n",
       "157173         nissan    andere       coupe  automatik   benzin   \n",
       "158404            bmw   m_reihe   limousine  automatik   benzin   \n",
       "159024     volkswagen      golf   limousine    manuell   diesel   \n",
       "164345         nissan    andere       coupe    manuell   benzin   \n",
       "170042  mercedes_benz  s_klasse   limousine  automatik   benzin   \n",
       "174361         suzuki    andere         suv    manuell   benzin   \n",
       "174523        citroen    andere         bus    manuell   diesel   \n",
       "174694           audi    andere       kombi  automatik   benzin   \n",
       "176966           fiat       500      cabrio    manuell   benzin   \n",
       "182263        hyundai    andere  kleinwagen    manuell   benzin   \n",
       "186316  mercedes_benz  e_klasse   limousine  automatik   benzin   \n",
       "188662  mercedes_benz  s_klasse   limousine  automatik   benzin   \n",
       "194153  mercedes_benz        sl      cabrio  automatik   benzin   \n",
       "198287           audi    andere       kombi  automatik   benzin   \n",
       "200470           audi    andere       kombi    manuell   benzin   \n",
       "206623  mercedes_benz  c_klasse   limousine  automatik   benzin   \n",
       "211138         nissan     micra  kleinwagen    manuell   benzin   \n",
       "215464           audi    andere       kombi  automatik   benzin   \n",
       "225867       chrysler    andere      cabrio    manuell   benzin   \n",
       "230019      chevrolet     matiz  kleinwagen    manuell   benzin   \n",
       "231819     volkswagen      polo  kleinwagen    manuell   benzin   \n",
       "\n",
       "       notRepairedDamage  powerPS  kilometer  yearOfRegistration  \\\n",
       "2845                nein      953     150000                2005   \n",
       "4373                  ja      603       5000                2002   \n",
       "4605                  ja      603     150000                1996   \n",
       "8884                nein      952      70000                2003   \n",
       "19893               nein      751      60000                2009   \n",
       "30450               nein      900     100000                2005   \n",
       "35211               nein      600      20000                2000   \n",
       "38298               nein      632     100000                2004   \n",
       "43371               nein      721     100000                2006   \n",
       "44233               nein      650      60000                2011   \n",
       "44675               nein      700     150000                2009   \n",
       "50103               nein      650       5000                1970   \n",
       "51655               nein      751      40000                2014   \n",
       "61347               nein      629     100000                2005   \n",
       "72008               nein      600       5000                1974   \n",
       "73904               nein      620     150000                2002   \n",
       "74512               nein      676      80000                2011   \n",
       "85805               nein      612      90000                2003   \n",
       "87209               nein      740     150000                2008   \n",
       "88562               nein      851     150000                2008   \n",
       "104442              nein      612     150000                2010   \n",
       "109798              nein      604      60000                2010   \n",
       "111586              nein      612     150000                2006   \n",
       "112955              nein      620      60000                2011   \n",
       "113792              nein      600     150000                2002   \n",
       "118274              nein      702     150000                2009   \n",
       "119612              nein      680     100000                2006   \n",
       "120163              nein      903     150000                1997   \n",
       "124248              nein      606     150000                1997   \n",
       "126624              nein      601     150000                1998   \n",
       "130505              nein      600       5000                2000   \n",
       "131963              nein      748     150000                2008   \n",
       "134430              nein      871      20000                2013   \n",
       "135053                ja      909     150000                1985   \n",
       "137032              nein      776      60000                2009   \n",
       "138546              nein      672       5000                2014   \n",
       "154028              nein      678      30000                1967   \n",
       "155722              nein      950     150000                2000   \n",
       "157173              nein      751      50000                2010   \n",
       "158404              nein      600      10000                2014   \n",
       "159024              nein      603     150000                1998   \n",
       "164345              nein      600      20000                2000   \n",
       "170042              nein      600     150000                2003   \n",
       "174361                ja      645     150000                1987   \n",
       "174523              nein      907     150000                2009   \n",
       "174694              nein      625     150000                2004   \n",
       "176966                ja      702      50000                2009   \n",
       "182263              nein      999     125000                2001   \n",
       "186316              nein      801      70000                2011   \n",
       "188662              nein      612     125000                2007   \n",
       "194153              nein      612     150000                2005   \n",
       "198287              nein      850     100000                2008   \n",
       "200470              nein      704     150000                1999   \n",
       "206623              nein      629     100000                2005   \n",
       "211138              nein      998     150000                1993   \n",
       "215464              nein      751     150000                2008   \n",
       "225867                ja      650      40000                2008   \n",
       "230019                ja      603       5000                2002   \n",
       "231819              nein      601      80000                2008   \n",
       "\n",
       "        monthOfRegistration          dateCreated             lastSeen  \\\n",
       "2845                      4  2016-04-03 00:00:00  2016-04-07 14:56:46   \n",
       "4373                     11  2016-03-31 00:00:00  2016-04-01 03:41:52   \n",
       "4605                      8  2016-03-31 00:00:00  2016-04-06 14:17:51   \n",
       "8884                      5  2016-03-09 00:00:00  2016-03-12 04:16:07   \n",
       "19893                    10  2016-04-01 00:00:00  2016-04-07 10:44:22   \n",
       "30450                     2  2016-03-29 00:00:00  2016-04-04 05:16:35   \n",
       "35211                     2  2016-03-12 00:00:00  2016-03-16 06:45:56   \n",
       "38298                    10  2016-03-20 00:00:00  2016-03-22 15:17:12   \n",
       "43371                     7  2016-03-15 00:00:00  2016-03-17 04:15:23   \n",
       "44233                     2  2016-03-29 00:00:00  2016-04-05 13:15:52   \n",
       "44675                     3  2016-03-22 00:00:00  2016-04-06 01:17:49   \n",
       "50103                     6  2016-03-17 00:00:00  2016-03-25 11:47:57   \n",
       "51655                     8  2016-03-21 00:00:00  2016-03-21 08:38:42   \n",
       "61347                     3  2016-03-27 00:00:00  2016-04-06 03:45:33   \n",
       "72008                     7  2016-03-19 00:00:00  2016-03-28 13:15:43   \n",
       "73904                    12  2016-03-30 00:00:00  2016-04-06 23:16:46   \n",
       "74512                    12  2016-03-25 00:00:00  2016-03-29 22:16:18   \n",
       "85805                    10  2016-03-10 00:00:00  2016-04-07 07:44:29   \n",
       "87209                     6  2016-03-08 00:00:00  2016-03-08 18:19:27   \n",
       "88562                     5  2016-03-24 00:00:00  2016-04-05 15:17:38   \n",
       "104442                    2  2016-03-08 00:00:00  2016-03-08 17:36:57   \n",
       "109798                    7  2016-04-03 00:00:00  2016-04-06 00:45:21   \n",
       "111586                   12  2016-03-07 00:00:00  2016-03-11 17:16:01   \n",
       "112955                    3  2016-03-10 00:00:00  2016-03-26 04:46:01   \n",
       "113792                   12  2016-03-16 00:00:00  2016-03-22 16:19:52   \n",
       "118274                    3  2016-03-22 00:00:00  2016-04-06 01:44:20   \n",
       "119612                   11  2016-03-29 00:00:00  2016-04-05 19:18:38   \n",
       "120163                    9  2016-03-17 00:00:00  2016-04-07 12:17:01   \n",
       "124248                    0  2016-03-08 00:00:00  2016-03-11 09:17:20   \n",
       "126624                   11  2016-03-13 00:00:00  2016-03-13 18:43:30   \n",
       "130505                    4  2016-03-11 00:00:00  2016-04-07 03:46:16   \n",
       "131963                   10  2016-03-24 00:00:00  2016-04-06 23:45:11   \n",
       "134430                    1  2016-03-31 00:00:00  2016-04-06 04:46:46   \n",
       "135053                    7  2016-03-20 00:00:00  2016-04-07 00:45:55   \n",
       "137032                    9  2016-03-29 00:00:00  2016-04-06 06:45:29   \n",
       "138546                    1  2016-03-19 00:00:00  2016-04-01 14:16:01   \n",
       "154028                    6  2016-04-01 00:00:00  2016-04-01 22:44:04   \n",
       "155722                    0  2016-03-08 00:00:00  2016-03-22 02:46:57   \n",
       "157173                    4  2016-03-31 00:00:00  2016-04-07 03:17:14   \n",
       "158404                   10  2016-03-16 00:00:00  2016-04-07 00:45:45   \n",
       "159024                   12  2016-03-13 00:00:00  2016-04-06 00:16:29   \n",
       "164345                    2  2016-03-16 00:00:00  2016-04-06 18:15:33   \n",
       "170042                   10  2016-03-27 00:00:00  2016-04-05 19:45:39   \n",
       "174361                    5  2016-03-14 00:00:00  2016-03-25 17:45:50   \n",
       "174523                   11  2016-04-01 00:00:00  2016-04-07 05:44:35   \n",
       "174694                   10  2016-03-24 00:00:00  2016-04-05 13:46:09   \n",
       "176966                    8  2016-03-07 00:00:00  2016-03-07 17:19:43   \n",
       "182263                    4  2016-03-15 00:00:00  2016-04-06 05:16:42   \n",
       "186316                    4  2016-04-04 00:00:00  2016-04-06 17:44:45   \n",
       "188662                    5  2016-03-25 00:00:00  2016-03-30 06:16:39   \n",
       "194153                    2  2016-03-21 00:00:00  2016-04-06 02:45:29   \n",
       "198287                    6  2016-03-09 00:00:00  2016-04-05 20:47:24   \n",
       "200470                    9  2016-04-01 00:00:00  2016-04-05 13:44:59   \n",
       "206623                    3  2016-03-27 00:00:00  2016-04-07 05:46:24   \n",
       "211138                    6  2016-03-15 00:00:00  2016-03-21 15:16:01   \n",
       "215464                   11  2016-03-12 00:00:00  2016-03-14 12:29:57   \n",
       "225867                    7  2016-03-26 00:00:00  2016-04-05 22:16:00   \n",
       "230019                   11  2016-03-31 00:00:00  2016-04-07 01:44:38   \n",
       "231819                    1  2016-03-06 00:00:00  2016-04-05 04:17:44   \n",
       "\n",
       "        postalCode  price  \n",
       "2845         60326   3100  \n",
       "4373         44379    599  \n",
       "4605         70327    600  \n",
       "8884         26903   3500  \n",
       "19893        86159  89000  \n",
       "30450        46459   2850  \n",
       "35211        72285  49999  \n",
       "38298        21129  22500  \n",
       "43371        49635  99900  \n",
       "44233        63225  68500  \n",
       "44675        82237  35500  \n",
       "50103        52146  54990  \n",
       "51655        74613  74900  \n",
       "61347        61462  39500  \n",
       "72008        38527  19500  \n",
       "73904        70190  45000  \n",
       "74512        86150  69500  \n",
       "85805        34298  33800  \n",
       "87209        83229  21400  \n",
       "88562        39116  41000  \n",
       "104442       30938  23799  \n",
       "109798       80937  59900  \n",
       "111586       50667  31500  \n",
       "112955       63225  68900  \n",
       "113792       13595  12000  \n",
       "118274       82237  35500  \n",
       "119612       86356  72900  \n",
       "120163       85095   1350  \n",
       "124248       16727    600  \n",
       "126624       60528   1100  \n",
       "130505       15738  16500  \n",
       "131963       72186  28500  \n",
       "134430       26817  13200  \n",
       "135053       91460    825  \n",
       "137032       86860   7000  \n",
       "138546       32657  70999  \n",
       "154028       63762  12000  \n",
       "155722       48432    950  \n",
       "157173       50823  45000  \n",
       "158404       22964  92500  \n",
       "159024       65554   1200  \n",
       "164345       72285  49999  \n",
       "170042       49082  15900  \n",
       "174361       80331   1250  \n",
       "174523       67127   4899  \n",
       "174694       99099  26999  \n",
       "176966       99734   2885  \n",
       "182263       10249    950  \n",
       "186316       59759  74990  \n",
       "188662       89520  35000  \n",
       "194153       97080  47800  \n",
       "198287       13509  50900  \n",
       "200470       12305  22400  \n",
       "206623       61462  39500  \n",
       "211138       10315    230  \n",
       "215464       35463  28900  \n",
       "225867       51061  23900  \n",
       "230019       44379    599  \n",
       "231819       71282   4600  "
      ]
     },
     "execution_count": 15,
     "metadata": {},
     "output_type": "execute_result"
    }
   ],
   "source": [
    "data[data['powerPS'] >= 600]"
   ]
  },
  {
   "cell_type": "code",
   "execution_count": 6,
   "metadata": {},
   "outputs": [],
   "source": [
    "data['notRepairedDamage'] = (data['notRepairedDamage'] == 'ja')*1"
   ]
  },
  {
   "cell_type": "code",
   "execution_count": 7,
   "metadata": {},
   "outputs": [],
   "source": [
    "data['gearbox'] = (data['gearbox'] == 'automatik')*1"
   ]
  },
  {
   "cell_type": "code",
   "execution_count": 9,
   "metadata": {},
   "outputs": [
    {
     "data": {
      "text/plain": [
       "0    223265\n",
       "1     24607\n",
       "Name: notRepairedDamage, dtype: int64"
      ]
     },
     "execution_count": 9,
     "metadata": {},
     "output_type": "execute_result"
    }
   ],
   "source": [
    "data.notRepairedDamage.value_counts()"
   ]
  },
  {
   "cell_type": "code",
   "execution_count": 13,
   "metadata": {},
   "outputs": [
    {
     "data": {
      "text/plain": [
       "85"
      ]
     },
     "execution_count": 13,
     "metadata": {},
     "output_type": "execute_result"
    }
   ],
   "source": [
    "len(data.yearOfRegistration.unique())"
   ]
  },
  {
   "cell_type": "code",
   "execution_count": null,
   "metadata": {},
   "outputs": [],
   "source": []
  },
  {
   "cell_type": "code",
   "execution_count": 14,
   "metadata": {},
   "outputs": [
    {
     "data": {
      "text/plain": [
       "benzin     159581\n",
       "diesel      83841\n",
       "lpg          3718\n",
       "cng           429\n",
       "hybrid        198\n",
       "andere         53\n",
       "elektro        52\n",
       "Name: fuelType, dtype: int64"
      ]
     },
     "execution_count": 14,
     "metadata": {},
     "output_type": "execute_result"
    }
   ],
   "source": [
    "data.fuelType.value_counts()"
   ]
  },
  {
   "cell_type": "code",
   "execution_count": 26,
   "metadata": {},
   "outputs": [
    {
     "data": {
      "image/png": "[encoded data removed]",
      "text/plain": [
       "<Figure size 432x288 with 1 Axes>"
      ]
     },
     "metadata": {
      "needs_background": "light"
     },
     "output_type": "display_data"
    }
   ],
   "source": [
    "plt.hist(data['powerPS'].value_counts())\n",
    "plt.show()"
   ]
  },
  {
   "cell_type": "code",
   "execution_count": 16,
   "metadata": {},
   "outputs": [
    {
     "name": "stdout",
     "output_type": "stream",
     "text": [
      "We do not need to worry about missing values.\n"
     ]
    }
   ],
   "source": [
    "print('We do not need to worry about missing values.') if data.count().min() == data.shape[0] else print('oops')"
   ]
  },
  {
   "cell_type": "code",
   "execution_count": 8,
   "metadata": {},
   "outputs": [
    {
     "data": {
      "image/png": "[encoded data removed]",
      "text/plain": [
       "<Figure size 720x360 with 1 Axes>"
      ]
     },
     "metadata": {
      "needs_background": "light"
     },
     "output_type": "display_data"
    }
   ],
   "source": [
    "num_features = ['fuelType', 'powerPS', 'yearOfRegistration', 'postalCode', 'monthOfRegistration', 'kilometer', 'notRepairedDamage']\n",
    "correlations = data[num_features].corrwith(price).sort_values(ascending=False)\n",
    "\n",
    "\n",
    "plot = sns.barplot(y=correlations.index, x=correlations)\n",
    "plot.figure.set_size_inches(10, 5)"
   ]
  },
  {
   "cell_type": "code",
   "execution_count": 24,
   "metadata": {},
   "outputs": [
    {
     "data": {
      "text/html": [
       "<div>\n",
       "<style scoped>\n",
       "    .dataframe tbody tr th:only-of-type {\n",
       "        vertical-align: middle;\n",
       "    }\n",
       "\n",
       "    .dataframe tbody tr th {\n",
       "        vertical-align: top;\n",
       "    }\n",
       "\n",
       "    .dataframe thead th {\n",
       "        text-align: right;\n",
       "    }\n",
       "</style>\n",
       "<table border=\"1\" class=\"dataframe\">\n",
       "  <thead>\n",
       "    <tr style=\"text-align: right;\">\n",
       "      <th></th>\n",
       "      <th>brand</th>\n",
       "      <th>model</th>\n",
       "      <th>vehicleType</th>\n",
       "      <th>gearbox</th>\n",
       "      <th>fuelType</th>\n",
       "      <th>notRepairedDamage</th>\n",
       "      <th>powerPS</th>\n",
       "      <th>kilometer</th>\n",
       "      <th>yearOfRegistration</th>\n",
       "      <th>monthOfRegistration</th>\n",
       "      <th>dateCreated</th>\n",
       "      <th>lastSeen</th>\n",
       "      <th>postalCode</th>\n",
       "      <th>price</th>\n",
       "    </tr>\n",
       "  </thead>\n",
       "  <tbody>\n",
       "    <tr>\n",
       "      <th>0</th>\n",
       "      <td>volkswagen</td>\n",
       "      <td>golf</td>\n",
       "      <td>kleinwagen</td>\n",
       "      <td>0</td>\n",
       "      <td>benzin</td>\n",
       "      <td>0</td>\n",
       "      <td>75</td>\n",
       "      <td>150000</td>\n",
       "      <td>2001</td>\n",
       "      <td>6</td>\n",
       "      <td>2016-03-17 00:00:00</td>\n",
       "      <td>2016-03-17 17:40:17</td>\n",
       "      <td>91074</td>\n",
       "      <td>1500</td>\n",
       "    </tr>\n",
       "    <tr>\n",
       "      <th>2</th>\n",
       "      <td>bmw</td>\n",
       "      <td>3er</td>\n",
       "      <td>limousine</td>\n",
       "      <td>0</td>\n",
       "      <td>benzin</td>\n",
       "      <td>1</td>\n",
       "      <td>102</td>\n",
       "      <td>150000</td>\n",
       "      <td>1995</td>\n",
       "      <td>10</td>\n",
       "      <td>2016-04-04 00:00:00</td>\n",
       "      <td>2016-04-06 19:17:07</td>\n",
       "      <td>33775</td>\n",
       "      <td>650</td>\n",
       "    </tr>\n",
       "    <tr>\n",
       "      <th>3</th>\n",
       "      <td>peugeot</td>\n",
       "      <td>2_reihe</td>\n",
       "      <td>cabrio</td>\n",
       "      <td>0</td>\n",
       "      <td>benzin</td>\n",
       "      <td>0</td>\n",
       "      <td>109</td>\n",
       "      <td>150000</td>\n",
       "      <td>2004</td>\n",
       "      <td>8</td>\n",
       "      <td>2016-04-01 00:00:00</td>\n",
       "      <td>2016-04-05 18:18:39</td>\n",
       "      <td>67112</td>\n",
       "      <td>2200</td>\n",
       "    </tr>\n",
       "    <tr>\n",
       "      <th>4</th>\n",
       "      <td>mazda</td>\n",
       "      <td>3_reihe</td>\n",
       "      <td>limousine</td>\n",
       "      <td>0</td>\n",
       "      <td>benzin</td>\n",
       "      <td>0</td>\n",
       "      <td>105</td>\n",
       "      <td>150000</td>\n",
       "      <td>2004</td>\n",
       "      <td>12</td>\n",
       "      <td>2016-03-26 00:00:00</td>\n",
       "      <td>2016-04-06 10:45:34</td>\n",
       "      <td>96224</td>\n",
       "      <td>2000</td>\n",
       "    </tr>\n",
       "    <tr>\n",
       "      <th>5</th>\n",
       "      <td>volkswagen</td>\n",
       "      <td>passat</td>\n",
       "      <td>kombi</td>\n",
       "      <td>0</td>\n",
       "      <td>diesel</td>\n",
       "      <td>1</td>\n",
       "      <td>140</td>\n",
       "      <td>150000</td>\n",
       "      <td>2005</td>\n",
       "      <td>12</td>\n",
       "      <td>2016-04-07 00:00:00</td>\n",
       "      <td>2016-04-07 10:25:17</td>\n",
       "      <td>57290</td>\n",
       "      <td>2799</td>\n",
       "    </tr>\n",
       "    <tr>\n",
       "      <th>7</th>\n",
       "      <td>renault</td>\n",
       "      <td>twingo</td>\n",
       "      <td>kleinwagen</td>\n",
       "      <td>1</td>\n",
       "      <td>benzin</td>\n",
       "      <td>0</td>\n",
       "      <td>75</td>\n",
       "      <td>150000</td>\n",
       "      <td>2004</td>\n",
       "      <td>2</td>\n",
       "      <td>2016-03-20 00:00:00</td>\n",
       "      <td>2016-04-06 13:16:07</td>\n",
       "      <td>65599</td>\n",
       "      <td>1750</td>\n",
       "    </tr>\n",
       "    <tr>\n",
       "      <th>8</th>\n",
       "      <td>ford</td>\n",
       "      <td>c_max</td>\n",
       "      <td>bus</td>\n",
       "      <td>0</td>\n",
       "      <td>diesel</td>\n",
       "      <td>0</td>\n",
       "      <td>136</td>\n",
       "      <td>150000</td>\n",
       "      <td>2007</td>\n",
       "      <td>6</td>\n",
       "      <td>2016-03-23 00:00:00</td>\n",
       "      <td>2016-04-05 18:45:11</td>\n",
       "      <td>88361</td>\n",
       "      <td>7550</td>\n",
       "    </tr>\n",
       "    <tr>\n",
       "      <th>9</th>\n",
       "      <td>mercedes_benz</td>\n",
       "      <td>a_klasse</td>\n",
       "      <td>bus</td>\n",
       "      <td>0</td>\n",
       "      <td>benzin</td>\n",
       "      <td>0</td>\n",
       "      <td>102</td>\n",
       "      <td>150000</td>\n",
       "      <td>2004</td>\n",
       "      <td>1</td>\n",
       "      <td>2016-04-01 00:00:00</td>\n",
       "      <td>2016-04-05 22:46:05</td>\n",
       "      <td>49565</td>\n",
       "      <td>1850</td>\n",
       "    </tr>\n",
       "    <tr>\n",
       "      <th>11</th>\n",
       "      <td>bmw</td>\n",
       "      <td>5er</td>\n",
       "      <td>limousine</td>\n",
       "      <td>1</td>\n",
       "      <td>benzin</td>\n",
       "      <td>0</td>\n",
       "      <td>231</td>\n",
       "      <td>150000</td>\n",
       "      <td>2002</td>\n",
       "      <td>7</td>\n",
       "      <td>2016-03-27 00:00:00</td>\n",
       "      <td>2016-04-07 06:44:26</td>\n",
       "      <td>68309</td>\n",
       "      <td>3699</td>\n",
       "    </tr>\n",
       "    <tr>\n",
       "      <th>12</th>\n",
       "      <td>seat</td>\n",
       "      <td>arosa</td>\n",
       "      <td>kleinwagen</td>\n",
       "      <td>0</td>\n",
       "      <td>benzin</td>\n",
       "      <td>0</td>\n",
       "      <td>50</td>\n",
       "      <td>150000</td>\n",
       "      <td>1997</td>\n",
       "      <td>5</td>\n",
       "      <td>2016-03-12 00:00:00</td>\n",
       "      <td>2016-03-21 01:46:11</td>\n",
       "      <td>9526</td>\n",
       "      <td>450</td>\n",
       "    </tr>\n",
       "    <tr>\n",
       "      <th>13</th>\n",
       "      <td>mercedes_benz</td>\n",
       "      <td>andere</td>\n",
       "      <td>limousine</td>\n",
       "      <td>0</td>\n",
       "      <td>benzin</td>\n",
       "      <td>1</td>\n",
       "      <td>118</td>\n",
       "      <td>150000</td>\n",
       "      <td>1990</td>\n",
       "      <td>10</td>\n",
       "      <td>2016-03-13 00:00:00</td>\n",
       "      <td>2016-03-13 20:40:49</td>\n",
       "      <td>35390</td>\n",
       "      <td>500</td>\n",
       "    </tr>\n",
       "    <tr>\n",
       "      <th>14</th>\n",
       "      <td>bmw</td>\n",
       "      <td>5er</td>\n",
       "      <td>kombi</td>\n",
       "      <td>1</td>\n",
       "      <td>diesel</td>\n",
       "      <td>1</td>\n",
       "      <td>193</td>\n",
       "      <td>150000</td>\n",
       "      <td>2002</td>\n",
       "      <td>9</td>\n",
       "      <td>2016-03-18 00:00:00</td>\n",
       "      <td>2016-03-18 21:44:09</td>\n",
       "      <td>73765</td>\n",
       "      <td>2500</td>\n",
       "    </tr>\n",
       "    <tr>\n",
       "      <th>17</th>\n",
       "      <td>fiat</td>\n",
       "      <td>punto</td>\n",
       "      <td>kleinwagen</td>\n",
       "      <td>0</td>\n",
       "      <td>benzin</td>\n",
       "      <td>0</td>\n",
       "      <td>60</td>\n",
       "      <td>150000</td>\n",
       "      <td>2003</td>\n",
       "      <td>3</td>\n",
       "      <td>2016-03-08 00:00:00</td>\n",
       "      <td>2016-03-09 11:45:28</td>\n",
       "      <td>86199</td>\n",
       "      <td>690</td>\n",
       "    </tr>\n",
       "    <tr>\n",
       "      <th>18</th>\n",
       "      <td>mercedes_benz</td>\n",
       "      <td>e_klasse</td>\n",
       "      <td>limousine</td>\n",
       "      <td>1</td>\n",
       "      <td>diesel</td>\n",
       "      <td>0</td>\n",
       "      <td>113</td>\n",
       "      <td>150000</td>\n",
       "      <td>1995</td>\n",
       "      <td>1</td>\n",
       "      <td>2016-04-03 00:00:00</td>\n",
       "      <td>2016-04-05 15:16:05</td>\n",
       "      <td>53879</td>\n",
       "      <td>3300</td>\n",
       "    </tr>\n",
       "    <tr>\n",
       "      <th>20</th>\n",
       "      <td>mercedes_benz</td>\n",
       "      <td>e_klasse</td>\n",
       "      <td>limousine</td>\n",
       "      <td>1</td>\n",
       "      <td>diesel</td>\n",
       "      <td>0</td>\n",
       "      <td>122</td>\n",
       "      <td>150000</td>\n",
       "      <td>2004</td>\n",
       "      <td>11</td>\n",
       "      <td>2016-03-17 00:00:00</td>\n",
       "      <td>2016-03-30 15:46:10</td>\n",
       "      <td>67071</td>\n",
       "      <td>3500</td>\n",
       "    </tr>\n",
       "    <tr>\n",
       "      <th>21</th>\n",
       "      <td>volkswagen</td>\n",
       "      <td>andere</td>\n",
       "      <td>andere</td>\n",
       "      <td>0</td>\n",
       "      <td>diesel</td>\n",
       "      <td>0</td>\n",
       "      <td>129</td>\n",
       "      <td>150000</td>\n",
       "      <td>2002</td>\n",
       "      <td>11</td>\n",
       "      <td>2016-04-01 00:00:00</td>\n",
       "      <td>2016-04-05 12:47:30</td>\n",
       "      <td>10551</td>\n",
       "      <td>11900</td>\n",
       "    </tr>\n",
       "    <tr>\n",
       "      <th>22</th>\n",
       "      <td>mercedes_benz</td>\n",
       "      <td>andere</td>\n",
       "      <td>bus</td>\n",
       "      <td>0</td>\n",
       "      <td>diesel</td>\n",
       "      <td>0</td>\n",
       "      <td>70</td>\n",
       "      <td>150000</td>\n",
       "      <td>1984</td>\n",
       "      <td>8</td>\n",
       "      <td>2016-03-25 00:00:00</td>\n",
       "      <td>2016-03-27 03:17:02</td>\n",
       "      <td>22767</td>\n",
       "      <td>1500</td>\n",
       "    </tr>\n",
       "    <tr>\n",
       "      <th>25</th>\n",
       "      <td>bmw</td>\n",
       "      <td>1er</td>\n",
       "      <td>limousine</td>\n",
       "      <td>0</td>\n",
       "      <td>diesel</td>\n",
       "      <td>0</td>\n",
       "      <td>177</td>\n",
       "      <td>150000</td>\n",
       "      <td>2007</td>\n",
       "      <td>8</td>\n",
       "      <td>2016-03-15 00:00:00</td>\n",
       "      <td>2016-03-16 16:47:48</td>\n",
       "      <td>53604</td>\n",
       "      <td>7999</td>\n",
       "    </tr>\n",
       "    <tr>\n",
       "      <th>26</th>\n",
       "      <td>bmw</td>\n",
       "      <td>5er</td>\n",
       "      <td>kombi</td>\n",
       "      <td>1</td>\n",
       "      <td>benzin</td>\n",
       "      <td>0</td>\n",
       "      <td>193</td>\n",
       "      <td>150000</td>\n",
       "      <td>1998</td>\n",
       "      <td>2</td>\n",
       "      <td>2016-04-03 00:00:00</td>\n",
       "      <td>2016-04-06 08:16:21</td>\n",
       "      <td>86157</td>\n",
       "      <td>2100</td>\n",
       "    </tr>\n",
       "    <tr>\n",
       "      <th>27</th>\n",
       "      <td>mercedes_benz</td>\n",
       "      <td>b_klasse</td>\n",
       "      <td>bus</td>\n",
       "      <td>1</td>\n",
       "      <td>diesel</td>\n",
       "      <td>0</td>\n",
       "      <td>109</td>\n",
       "      <td>150000</td>\n",
       "      <td>2012</td>\n",
       "      <td>7</td>\n",
       "      <td>2016-04-04 00:00:00</td>\n",
       "      <td>2016-04-05 12:09:29</td>\n",
       "      <td>35576</td>\n",
       "      <td>13500</td>\n",
       "    </tr>\n",
       "    <tr>\n",
       "      <th>30</th>\n",
       "      <td>volkswagen</td>\n",
       "      <td>golf</td>\n",
       "      <td>limousine</td>\n",
       "      <td>0</td>\n",
       "      <td>benzin</td>\n",
       "      <td>0</td>\n",
       "      <td>101</td>\n",
       "      <td>150000</td>\n",
       "      <td>1998</td>\n",
       "      <td>10</td>\n",
       "      <td>2016-03-31 00:00:00</td>\n",
       "      <td>2016-04-06 03:15:47</td>\n",
       "      <td>39624</td>\n",
       "      <td>1000</td>\n",
       "    </tr>\n",
       "    <tr>\n",
       "      <th>31</th>\n",
       "      <td>audi</td>\n",
       "      <td>a8</td>\n",
       "      <td>limousine</td>\n",
       "      <td>1</td>\n",
       "      <td>diesel</td>\n",
       "      <td>1</td>\n",
       "      <td>232</td>\n",
       "      <td>150000</td>\n",
       "      <td>2004</td>\n",
       "      <td>3</td>\n",
       "      <td>2016-03-25 00:00:00</td>\n",
       "      <td>2016-04-07 01:44:24</td>\n",
       "      <td>71711</td>\n",
       "      <td>7499</td>\n",
       "    </tr>\n",
       "    <tr>\n",
       "      <th>35</th>\n",
       "      <td>volkswagen</td>\n",
       "      <td>scirocco</td>\n",
       "      <td>coupe</td>\n",
       "      <td>0</td>\n",
       "      <td>benzin</td>\n",
       "      <td>0</td>\n",
       "      <td>160</td>\n",
       "      <td>150000</td>\n",
       "      <td>2008</td>\n",
       "      <td>8</td>\n",
       "      <td>2016-03-15 00:00:00</td>\n",
       "      <td>2016-04-06 04:17:09</td>\n",
       "      <td>55218</td>\n",
       "      <td>9700</td>\n",
       "    </tr>\n",
       "    <tr>\n",
       "      <th>36</th>\n",
       "      <td>honda</td>\n",
       "      <td>andere</td>\n",
       "      <td>suv</td>\n",
       "      <td>0</td>\n",
       "      <td>benzin</td>\n",
       "      <td>0</td>\n",
       "      <td>105</td>\n",
       "      <td>150000</td>\n",
       "      <td>2000</td>\n",
       "      <td>8</td>\n",
       "      <td>2016-02-09 00:00:00</td>\n",
       "      <td>2016-03-31 16:46:09</td>\n",
       "      <td>85244</td>\n",
       "      <td>2100</td>\n",
       "    </tr>\n",
       "    <tr>\n",
       "      <th>37</th>\n",
       "      <td>ford</td>\n",
       "      <td>fiesta</td>\n",
       "      <td>kleinwagen</td>\n",
       "      <td>0</td>\n",
       "      <td>benzin</td>\n",
       "      <td>0</td>\n",
       "      <td>50</td>\n",
       "      <td>150000</td>\n",
       "      <td>2002</td>\n",
       "      <td>4</td>\n",
       "      <td>2016-03-05 00:00:00</td>\n",
       "      <td>2016-03-11 06:16:00</td>\n",
       "      <td>70327</td>\n",
       "      <td>750</td>\n",
       "    </tr>\n",
       "    <tr>\n",
       "      <th>38</th>\n",
       "      <td>mercedes_benz</td>\n",
       "      <td>c_klasse</td>\n",
       "      <td>kombi</td>\n",
       "      <td>0</td>\n",
       "      <td>benzin</td>\n",
       "      <td>0</td>\n",
       "      <td>156</td>\n",
       "      <td>150000</td>\n",
       "      <td>2008</td>\n",
       "      <td>10</td>\n",
       "      <td>2016-03-22 00:00:00</td>\n",
       "      <td>2016-03-25 09:47:43</td>\n",
       "      <td>83355</td>\n",
       "      <td>7999</td>\n",
       "    </tr>\n",
       "    <tr>\n",
       "      <th>39</th>\n",
       "      <td>volkswagen</td>\n",
       "      <td>golf</td>\n",
       "      <td>limousine</td>\n",
       "      <td>0</td>\n",
       "      <td>diesel</td>\n",
       "      <td>0</td>\n",
       "      <td>105</td>\n",
       "      <td>150000</td>\n",
       "      <td>2006</td>\n",
       "      <td>10</td>\n",
       "      <td>2016-03-31 00:00:00</td>\n",
       "      <td>2016-03-31 18:46:36</td>\n",
       "      <td>41812</td>\n",
       "      <td>6600</td>\n",
       "    </tr>\n",
       "    <tr>\n",
       "      <th>41</th>\n",
       "      <td>mercedes_benz</td>\n",
       "      <td>vito</td>\n",
       "      <td>andere</td>\n",
       "      <td>0</td>\n",
       "      <td>diesel</td>\n",
       "      <td>0</td>\n",
       "      <td>82</td>\n",
       "      <td>150000</td>\n",
       "      <td>2003</td>\n",
       "      <td>8</td>\n",
       "      <td>2016-03-11 00:00:00</td>\n",
       "      <td>2016-03-11 14:50:52</td>\n",
       "      <td>4668</td>\n",
       "      <td>1400</td>\n",
       "    </tr>\n",
       "    <tr>\n",
       "      <th>42</th>\n",
       "      <td>mercedes_benz</td>\n",
       "      <td>sprinter</td>\n",
       "      <td>bus</td>\n",
       "      <td>0</td>\n",
       "      <td>diesel</td>\n",
       "      <td>0</td>\n",
       "      <td>109</td>\n",
       "      <td>150000</td>\n",
       "      <td>2006</td>\n",
       "      <td>4</td>\n",
       "      <td>2016-03-10 00:00:00</td>\n",
       "      <td>2016-03-12 14:45:39</td>\n",
       "      <td>26382</td>\n",
       "      <td>5000</td>\n",
       "    </tr>\n",
       "    <tr>\n",
       "      <th>44</th>\n",
       "      <td>alfa_romeo</td>\n",
       "      <td>156</td>\n",
       "      <td>kombi</td>\n",
       "      <td>0</td>\n",
       "      <td>benzin</td>\n",
       "      <td>1</td>\n",
       "      <td>155</td>\n",
       "      <td>150000</td>\n",
       "      <td>2000</td>\n",
       "      <td>0</td>\n",
       "      <td>2016-04-01 00:00:00</td>\n",
       "      <td>2016-04-05 20:18:14</td>\n",
       "      <td>8396</td>\n",
       "      <td>250</td>\n",
       "    </tr>\n",
       "    <tr>\n",
       "      <th>...</th>\n",
       "      <td>...</td>\n",
       "      <td>...</td>\n",
       "      <td>...</td>\n",
       "      <td>...</td>\n",
       "      <td>...</td>\n",
       "      <td>...</td>\n",
       "      <td>...</td>\n",
       "      <td>...</td>\n",
       "      <td>...</td>\n",
       "      <td>...</td>\n",
       "      <td>...</td>\n",
       "      <td>...</td>\n",
       "      <td>...</td>\n",
       "      <td>...</td>\n",
       "    </tr>\n",
       "    <tr>\n",
       "      <th>247830</th>\n",
       "      <td>bmw</td>\n",
       "      <td>5er</td>\n",
       "      <td>kombi</td>\n",
       "      <td>0</td>\n",
       "      <td>diesel</td>\n",
       "      <td>0</td>\n",
       "      <td>136</td>\n",
       "      <td>150000</td>\n",
       "      <td>2001</td>\n",
       "      <td>8</td>\n",
       "      <td>2016-03-15 00:00:00</td>\n",
       "      <td>2016-04-07 09:45:33</td>\n",
       "      <td>47228</td>\n",
       "      <td>5390</td>\n",
       "    </tr>\n",
       "    <tr>\n",
       "      <th>247832</th>\n",
       "      <td>seat</td>\n",
       "      <td>arosa</td>\n",
       "      <td>kleinwagen</td>\n",
       "      <td>0</td>\n",
       "      <td>benzin</td>\n",
       "      <td>1</td>\n",
       "      <td>60</td>\n",
       "      <td>150000</td>\n",
       "      <td>1999</td>\n",
       "      <td>1</td>\n",
       "      <td>2016-03-09 00:00:00</td>\n",
       "      <td>2016-04-06 22:15:32</td>\n",
       "      <td>91301</td>\n",
       "      <td>99</td>\n",
       "    </tr>\n",
       "    <tr>\n",
       "      <th>247833</th>\n",
       "      <td>mercedes_benz</td>\n",
       "      <td>vito</td>\n",
       "      <td>bus</td>\n",
       "      <td>0</td>\n",
       "      <td>diesel</td>\n",
       "      <td>0</td>\n",
       "      <td>66</td>\n",
       "      <td>150000</td>\n",
       "      <td>2002</td>\n",
       "      <td>2</td>\n",
       "      <td>2016-03-10 00:00:00</td>\n",
       "      <td>2016-03-10 12:42:33</td>\n",
       "      <td>27576</td>\n",
       "      <td>1650</td>\n",
       "    </tr>\n",
       "    <tr>\n",
       "      <th>247834</th>\n",
       "      <td>volkswagen</td>\n",
       "      <td>golf</td>\n",
       "      <td>limousine</td>\n",
       "      <td>0</td>\n",
       "      <td>diesel</td>\n",
       "      <td>0</td>\n",
       "      <td>105</td>\n",
       "      <td>150000</td>\n",
       "      <td>2006</td>\n",
       "      <td>6</td>\n",
       "      <td>2016-03-08 00:00:00</td>\n",
       "      <td>2016-03-08 20:43:20</td>\n",
       "      <td>1217</td>\n",
       "      <td>3000</td>\n",
       "    </tr>\n",
       "    <tr>\n",
       "      <th>247836</th>\n",
       "      <td>volkswagen</td>\n",
       "      <td>golf</td>\n",
       "      <td>kleinwagen</td>\n",
       "      <td>0</td>\n",
       "      <td>benzin</td>\n",
       "      <td>0</td>\n",
       "      <td>54</td>\n",
       "      <td>150000</td>\n",
       "      <td>1990</td>\n",
       "      <td>11</td>\n",
       "      <td>2016-04-04 00:00:00</td>\n",
       "      <td>2016-04-06 21:46:44</td>\n",
       "      <td>49086</td>\n",
       "      <td>1550</td>\n",
       "    </tr>\n",
       "    <tr>\n",
       "      <th>247837</th>\n",
       "      <td>renault</td>\n",
       "      <td>megane</td>\n",
       "      <td>kombi</td>\n",
       "      <td>0</td>\n",
       "      <td>diesel</td>\n",
       "      <td>0</td>\n",
       "      <td>103</td>\n",
       "      <td>150000</td>\n",
       "      <td>2008</td>\n",
       "      <td>1</td>\n",
       "      <td>2016-03-10 00:00:00</td>\n",
       "      <td>2016-03-12 14:16:31</td>\n",
       "      <td>46414</td>\n",
       "      <td>2600</td>\n",
       "    </tr>\n",
       "    <tr>\n",
       "      <th>247838</th>\n",
       "      <td>volkswagen</td>\n",
       "      <td>golf</td>\n",
       "      <td>cabrio</td>\n",
       "      <td>0</td>\n",
       "      <td>benzin</td>\n",
       "      <td>0</td>\n",
       "      <td>90</td>\n",
       "      <td>150000</td>\n",
       "      <td>1998</td>\n",
       "      <td>4</td>\n",
       "      <td>2016-03-29 00:00:00</td>\n",
       "      <td>2016-03-31 07:15:48</td>\n",
       "      <td>38518</td>\n",
       "      <td>1300</td>\n",
       "    </tr>\n",
       "    <tr>\n",
       "      <th>247842</th>\n",
       "      <td>bmw</td>\n",
       "      <td>5er</td>\n",
       "      <td>kombi</td>\n",
       "      <td>1</td>\n",
       "      <td>diesel</td>\n",
       "      <td>0</td>\n",
       "      <td>204</td>\n",
       "      <td>150000</td>\n",
       "      <td>2011</td>\n",
       "      <td>7</td>\n",
       "      <td>2016-03-07 00:00:00</td>\n",
       "      <td>2016-03-21 06:18:39</td>\n",
       "      <td>85376</td>\n",
       "      <td>23900</td>\n",
       "    </tr>\n",
       "    <tr>\n",
       "      <th>247843</th>\n",
       "      <td>mercedes_benz</td>\n",
       "      <td>a_klasse</td>\n",
       "      <td>kleinwagen</td>\n",
       "      <td>0</td>\n",
       "      <td>diesel</td>\n",
       "      <td>0</td>\n",
       "      <td>95</td>\n",
       "      <td>150000</td>\n",
       "      <td>2001</td>\n",
       "      <td>10</td>\n",
       "      <td>2016-03-23 00:00:00</td>\n",
       "      <td>2016-03-24 19:45:29</td>\n",
       "      <td>91623</td>\n",
       "      <td>1300</td>\n",
       "    </tr>\n",
       "    <tr>\n",
       "      <th>247844</th>\n",
       "      <td>opel</td>\n",
       "      <td>vectra</td>\n",
       "      <td>kombi</td>\n",
       "      <td>0</td>\n",
       "      <td>benzin</td>\n",
       "      <td>0</td>\n",
       "      <td>101</td>\n",
       "      <td>150000</td>\n",
       "      <td>1999</td>\n",
       "      <td>5</td>\n",
       "      <td>2016-03-13 00:00:00</td>\n",
       "      <td>2016-03-16 15:16:56</td>\n",
       "      <td>49536</td>\n",
       "      <td>1600</td>\n",
       "    </tr>\n",
       "    <tr>\n",
       "      <th>247846</th>\n",
       "      <td>porsche</td>\n",
       "      <td>andere</td>\n",
       "      <td>cabrio</td>\n",
       "      <td>0</td>\n",
       "      <td>benzin</td>\n",
       "      <td>0</td>\n",
       "      <td>211</td>\n",
       "      <td>150000</td>\n",
       "      <td>1991</td>\n",
       "      <td>7</td>\n",
       "      <td>2016-03-12 00:00:00</td>\n",
       "      <td>2016-04-07 06:46:00</td>\n",
       "      <td>21147</td>\n",
       "      <td>12800</td>\n",
       "    </tr>\n",
       "    <tr>\n",
       "      <th>247848</th>\n",
       "      <td>mercedes_benz</td>\n",
       "      <td>e_klasse</td>\n",
       "      <td>limousine</td>\n",
       "      <td>1</td>\n",
       "      <td>diesel</td>\n",
       "      <td>1</td>\n",
       "      <td>177</td>\n",
       "      <td>150000</td>\n",
       "      <td>2002</td>\n",
       "      <td>5</td>\n",
       "      <td>2016-03-14 00:00:00</td>\n",
       "      <td>2016-04-05 23:16:30</td>\n",
       "      <td>86609</td>\n",
       "      <td>3800</td>\n",
       "    </tr>\n",
       "    <tr>\n",
       "      <th>247849</th>\n",
       "      <td>mercedes_benz</td>\n",
       "      <td>andere</td>\n",
       "      <td>coupe</td>\n",
       "      <td>0</td>\n",
       "      <td>benzin</td>\n",
       "      <td>1</td>\n",
       "      <td>143</td>\n",
       "      <td>150000</td>\n",
       "      <td>2003</td>\n",
       "      <td>3</td>\n",
       "      <td>2016-03-14 00:00:00</td>\n",
       "      <td>2016-04-05 13:17:05</td>\n",
       "      <td>72766</td>\n",
       "      <td>2999</td>\n",
       "    </tr>\n",
       "    <tr>\n",
       "      <th>247851</th>\n",
       "      <td>volkswagen</td>\n",
       "      <td>passat</td>\n",
       "      <td>limousine</td>\n",
       "      <td>0</td>\n",
       "      <td>lpg</td>\n",
       "      <td>0</td>\n",
       "      <td>116</td>\n",
       "      <td>150000</td>\n",
       "      <td>2002</td>\n",
       "      <td>4</td>\n",
       "      <td>2016-03-15 00:00:00</td>\n",
       "      <td>2016-04-07 03:16:40</td>\n",
       "      <td>60439</td>\n",
       "      <td>3200</td>\n",
       "    </tr>\n",
       "    <tr>\n",
       "      <th>247852</th>\n",
       "      <td>opel</td>\n",
       "      <td>astra</td>\n",
       "      <td>kombi</td>\n",
       "      <td>0</td>\n",
       "      <td>benzin</td>\n",
       "      <td>0</td>\n",
       "      <td>116</td>\n",
       "      <td>150000</td>\n",
       "      <td>2008</td>\n",
       "      <td>2</td>\n",
       "      <td>2016-03-05 00:00:00</td>\n",
       "      <td>2016-04-05 18:44:48</td>\n",
       "      <td>88213</td>\n",
       "      <td>4900</td>\n",
       "    </tr>\n",
       "    <tr>\n",
       "      <th>247853</th>\n",
       "      <td>opel</td>\n",
       "      <td>corsa</td>\n",
       "      <td>kleinwagen</td>\n",
       "      <td>0</td>\n",
       "      <td>benzin</td>\n",
       "      <td>0</td>\n",
       "      <td>54</td>\n",
       "      <td>150000</td>\n",
       "      <td>1998</td>\n",
       "      <td>1</td>\n",
       "      <td>2016-03-08 00:00:00</td>\n",
       "      <td>2016-03-13 00:16:40</td>\n",
       "      <td>24850</td>\n",
       "      <td>600</td>\n",
       "    </tr>\n",
       "    <tr>\n",
       "      <th>247855</th>\n",
       "      <td>chrysler</td>\n",
       "      <td>voyager</td>\n",
       "      <td>bus</td>\n",
       "      <td>1</td>\n",
       "      <td>benzin</td>\n",
       "      <td>0</td>\n",
       "      <td>174</td>\n",
       "      <td>150000</td>\n",
       "      <td>2003</td>\n",
       "      <td>7</td>\n",
       "      <td>2016-03-26 00:00:00</td>\n",
       "      <td>2016-04-06 09:16:04</td>\n",
       "      <td>34320</td>\n",
       "      <td>3900</td>\n",
       "    </tr>\n",
       "    <tr>\n",
       "      <th>247856</th>\n",
       "      <td>audi</td>\n",
       "      <td>a4</td>\n",
       "      <td>kombi</td>\n",
       "      <td>0</td>\n",
       "      <td>benzin</td>\n",
       "      <td>0</td>\n",
       "      <td>125</td>\n",
       "      <td>150000</td>\n",
       "      <td>1998</td>\n",
       "      <td>2</td>\n",
       "      <td>2016-04-01 00:00:00</td>\n",
       "      <td>2016-04-07 09:44:29</td>\n",
       "      <td>34414</td>\n",
       "      <td>1600</td>\n",
       "    </tr>\n",
       "    <tr>\n",
       "      <th>247858</th>\n",
       "      <td>opel</td>\n",
       "      <td>astra</td>\n",
       "      <td>kombi</td>\n",
       "      <td>0</td>\n",
       "      <td>benzin</td>\n",
       "      <td>1</td>\n",
       "      <td>101</td>\n",
       "      <td>150000</td>\n",
       "      <td>2000</td>\n",
       "      <td>11</td>\n",
       "      <td>2016-04-03 00:00:00</td>\n",
       "      <td>2016-04-05 20:45:39</td>\n",
       "      <td>58730</td>\n",
       "      <td>800</td>\n",
       "    </tr>\n",
       "    <tr>\n",
       "      <th>247859</th>\n",
       "      <td>volkswagen</td>\n",
       "      <td>golf</td>\n",
       "      <td>limousine</td>\n",
       "      <td>0</td>\n",
       "      <td>diesel</td>\n",
       "      <td>0</td>\n",
       "      <td>105</td>\n",
       "      <td>150000</td>\n",
       "      <td>2006</td>\n",
       "      <td>9</td>\n",
       "      <td>2016-03-20 00:00:00</td>\n",
       "      <td>2016-04-07 02:44:27</td>\n",
       "      <td>1217</td>\n",
       "      <td>5900</td>\n",
       "    </tr>\n",
       "    <tr>\n",
       "      <th>247860</th>\n",
       "      <td>opel</td>\n",
       "      <td>astra</td>\n",
       "      <td>limousine</td>\n",
       "      <td>0</td>\n",
       "      <td>benzin</td>\n",
       "      <td>0</td>\n",
       "      <td>125</td>\n",
       "      <td>150000</td>\n",
       "      <td>2001</td>\n",
       "      <td>2</td>\n",
       "      <td>2016-04-02 00:00:00</td>\n",
       "      <td>2016-04-06 15:18:04</td>\n",
       "      <td>23820</td>\n",
       "      <td>1400</td>\n",
       "    </tr>\n",
       "    <tr>\n",
       "      <th>247861</th>\n",
       "      <td>mercedes_benz</td>\n",
       "      <td>e_klasse</td>\n",
       "      <td>limousine</td>\n",
       "      <td>1</td>\n",
       "      <td>diesel</td>\n",
       "      <td>0</td>\n",
       "      <td>145</td>\n",
       "      <td>150000</td>\n",
       "      <td>2003</td>\n",
       "      <td>3</td>\n",
       "      <td>2016-03-05 00:00:00</td>\n",
       "      <td>2016-03-12 12:18:05</td>\n",
       "      <td>60437</td>\n",
       "      <td>6500</td>\n",
       "    </tr>\n",
       "    <tr>\n",
       "      <th>247862</th>\n",
       "      <td>audi</td>\n",
       "      <td>a3</td>\n",
       "      <td>limousine</td>\n",
       "      <td>0</td>\n",
       "      <td>benzin</td>\n",
       "      <td>0</td>\n",
       "      <td>150</td>\n",
       "      <td>150000</td>\n",
       "      <td>1997</td>\n",
       "      <td>12</td>\n",
       "      <td>2016-03-31 00:00:00</td>\n",
       "      <td>2016-04-06 12:46:41</td>\n",
       "      <td>4275</td>\n",
       "      <td>1999</td>\n",
       "    </tr>\n",
       "    <tr>\n",
       "      <th>247863</th>\n",
       "      <td>mercedes_benz</td>\n",
       "      <td>e_klasse</td>\n",
       "      <td>limousine</td>\n",
       "      <td>1</td>\n",
       "      <td>diesel</td>\n",
       "      <td>1</td>\n",
       "      <td>260</td>\n",
       "      <td>150000</td>\n",
       "      <td>2003</td>\n",
       "      <td>12</td>\n",
       "      <td>2016-03-25 00:00:00</td>\n",
       "      <td>2016-04-07 00:44:51</td>\n",
       "      <td>90473</td>\n",
       "      <td>5000</td>\n",
       "    </tr>\n",
       "    <tr>\n",
       "      <th>247864</th>\n",
       "      <td>seat</td>\n",
       "      <td>leon</td>\n",
       "      <td>limousine</td>\n",
       "      <td>0</td>\n",
       "      <td>diesel</td>\n",
       "      <td>0</td>\n",
       "      <td>105</td>\n",
       "      <td>150000</td>\n",
       "      <td>2008</td>\n",
       "      <td>7</td>\n",
       "      <td>2016-03-21 00:00:00</td>\n",
       "      <td>2016-04-06 15:45:01</td>\n",
       "      <td>45896</td>\n",
       "      <td>4400</td>\n",
       "    </tr>\n",
       "    <tr>\n",
       "      <th>247865</th>\n",
       "      <td>volkswagen</td>\n",
       "      <td>lupo</td>\n",
       "      <td>kleinwagen</td>\n",
       "      <td>0</td>\n",
       "      <td>benzin</td>\n",
       "      <td>0</td>\n",
       "      <td>50</td>\n",
       "      <td>150000</td>\n",
       "      <td>1998</td>\n",
       "      <td>9</td>\n",
       "      <td>2016-04-04 00:00:00</td>\n",
       "      <td>2016-04-06 11:17:13</td>\n",
       "      <td>48653</td>\n",
       "      <td>1490</td>\n",
       "    </tr>\n",
       "    <tr>\n",
       "      <th>247866</th>\n",
       "      <td>volkswagen</td>\n",
       "      <td>golf</td>\n",
       "      <td>limousine</td>\n",
       "      <td>0</td>\n",
       "      <td>diesel</td>\n",
       "      <td>0</td>\n",
       "      <td>140</td>\n",
       "      <td>150000</td>\n",
       "      <td>2010</td>\n",
       "      <td>7</td>\n",
       "      <td>2016-03-28 00:00:00</td>\n",
       "      <td>2016-04-02 18:16:20</td>\n",
       "      <td>75223</td>\n",
       "      <td>7900</td>\n",
       "    </tr>\n",
       "    <tr>\n",
       "      <th>247867</th>\n",
       "      <td>bmw</td>\n",
       "      <td>3er</td>\n",
       "      <td>kombi</td>\n",
       "      <td>0</td>\n",
       "      <td>diesel</td>\n",
       "      <td>0</td>\n",
       "      <td>3</td>\n",
       "      <td>150000</td>\n",
       "      <td>2005</td>\n",
       "      <td>5</td>\n",
       "      <td>2016-04-02 00:00:00</td>\n",
       "      <td>2016-04-06 20:47:12</td>\n",
       "      <td>81825</td>\n",
       "      <td>3999</td>\n",
       "    </tr>\n",
       "    <tr>\n",
       "      <th>247868</th>\n",
       "      <td>seat</td>\n",
       "      <td>leon</td>\n",
       "      <td>limousine</td>\n",
       "      <td>0</td>\n",
       "      <td>benzin</td>\n",
       "      <td>1</td>\n",
       "      <td>225</td>\n",
       "      <td>150000</td>\n",
       "      <td>2004</td>\n",
       "      <td>5</td>\n",
       "      <td>2016-03-19 00:00:00</td>\n",
       "      <td>2016-03-19 20:44:43</td>\n",
       "      <td>96465</td>\n",
       "      <td>3200</td>\n",
       "    </tr>\n",
       "    <tr>\n",
       "      <th>247870</th>\n",
       "      <td>volkswagen</td>\n",
       "      <td>transporter</td>\n",
       "      <td>bus</td>\n",
       "      <td>0</td>\n",
       "      <td>diesel</td>\n",
       "      <td>0</td>\n",
       "      <td>102</td>\n",
       "      <td>150000</td>\n",
       "      <td>1996</td>\n",
       "      <td>3</td>\n",
       "      <td>2016-03-19 00:00:00</td>\n",
       "      <td>2016-04-07 07:15:26</td>\n",
       "      <td>87439</td>\n",
       "      <td>9200</td>\n",
       "    </tr>\n",
       "  </tbody>\n",
       "</table>\n",
       "<p>151762 rows × 14 columns</p>\n",
       "</div>"
      ],
      "text/plain": [
       "                brand        model vehicleType  gearbox fuelType  \\\n",
       "0          volkswagen         golf  kleinwagen        0   benzin   \n",
       "2                 bmw          3er   limousine        0   benzin   \n",
       "3             peugeot      2_reihe      cabrio        0   benzin   \n",
       "4               mazda      3_reihe   limousine        0   benzin   \n",
       "5          volkswagen       passat       kombi        0   diesel   \n",
       "7             renault       twingo  kleinwagen        1   benzin   \n",
       "8                ford        c_max         bus        0   diesel   \n",
       "9       mercedes_benz     a_klasse         bus        0   benzin   \n",
       "11                bmw          5er   limousine        1   benzin   \n",
       "12               seat        arosa  kleinwagen        0   benzin   \n",
       "13      mercedes_benz       andere   limousine        0   benzin   \n",
       "14                bmw          5er       kombi        1   diesel   \n",
       "17               fiat        punto  kleinwagen        0   benzin   \n",
       "18      mercedes_benz     e_klasse   limousine        1   diesel   \n",
       "20      mercedes_benz     e_klasse   limousine        1   diesel   \n",
       "21         volkswagen       andere      andere        0   diesel   \n",
       "22      mercedes_benz       andere         bus        0   diesel   \n",
       "25                bmw          1er   limousine        0   diesel   \n",
       "26                bmw          5er       kombi        1   benzin   \n",
       "27      mercedes_benz     b_klasse         bus        1   diesel   \n",
       "30         volkswagen         golf   limousine        0   benzin   \n",
       "31               audi           a8   limousine        1   diesel   \n",
       "35         volkswagen     scirocco       coupe        0   benzin   \n",
       "36              honda       andere         suv        0   benzin   \n",
       "37               ford       fiesta  kleinwagen        0   benzin   \n",
       "38      mercedes_benz     c_klasse       kombi        0   benzin   \n",
       "39         volkswagen         golf   limousine        0   diesel   \n",
       "41      mercedes_benz         vito      andere        0   diesel   \n",
       "42      mercedes_benz     sprinter         bus        0   diesel   \n",
       "44         alfa_romeo          156       kombi        0   benzin   \n",
       "...               ...          ...         ...      ...      ...   \n",
       "247830            bmw          5er       kombi        0   diesel   \n",
       "247832           seat        arosa  kleinwagen        0   benzin   \n",
       "247833  mercedes_benz         vito         bus        0   diesel   \n",
       "247834     volkswagen         golf   limousine        0   diesel   \n",
       "247836     volkswagen         golf  kleinwagen        0   benzin   \n",
       "247837        renault       megane       kombi        0   diesel   \n",
       "247838     volkswagen         golf      cabrio        0   benzin   \n",
       "247842            bmw          5er       kombi        1   diesel   \n",
       "247843  mercedes_benz     a_klasse  kleinwagen        0   diesel   \n",
       "247844           opel       vectra       kombi        0   benzin   \n",
       "247846        porsche       andere      cabrio        0   benzin   \n",
       "247848  mercedes_benz     e_klasse   limousine        1   diesel   \n",
       "247849  mercedes_benz       andere       coupe        0   benzin   \n",
       "247851     volkswagen       passat   limousine        0      lpg   \n",
       "247852           opel        astra       kombi        0   benzin   \n",
       "247853           opel        corsa  kleinwagen        0   benzin   \n",
       "247855       chrysler      voyager         bus        1   benzin   \n",
       "247856           audi           a4       kombi        0   benzin   \n",
       "247858           opel        astra       kombi        0   benzin   \n",
       "247859     volkswagen         golf   limousine        0   diesel   \n",
       "247860           opel        astra   limousine        0   benzin   \n",
       "247861  mercedes_benz     e_klasse   limousine        1   diesel   \n",
       "247862           audi           a3   limousine        0   benzin   \n",
       "247863  mercedes_benz     e_klasse   limousine        1   diesel   \n",
       "247864           seat         leon   limousine        0   diesel   \n",
       "247865     volkswagen         lupo  kleinwagen        0   benzin   \n",
       "247866     volkswagen         golf   limousine        0   diesel   \n",
       "247867            bmw          3er       kombi        0   diesel   \n",
       "247868           seat         leon   limousine        0   benzin   \n",
       "247870     volkswagen  transporter         bus        0   diesel   \n",
       "\n",
       "        notRepairedDamage  powerPS  kilometer  yearOfRegistration  \\\n",
       "0                       0       75     150000                2001   \n",
       "2                       1      102     150000                1995   \n",
       "3                       0      109     150000                2004   \n",
       "4                       0      105     150000                2004   \n",
       "5                       1      140     150000                2005   \n",
       "7                       0       75     150000                2004   \n",
       "8                       0      136     150000                2007   \n",
       "9                       0      102     150000                2004   \n",
       "11                      0      231     150000                2002   \n",
       "12                      0       50     150000                1997   \n",
       "13                      1      118     150000                1990   \n",
       "14                      1      193     150000                2002   \n",
       "17                      0       60     150000                2003   \n",
       "18                      0      113     150000                1995   \n",
       "20                      0      122     150000                2004   \n",
       "21                      0      129     150000                2002   \n",
       "22                      0       70     150000                1984   \n",
       "25                      0      177     150000                2007   \n",
       "26                      0      193     150000                1998   \n",
       "27                      0      109     150000                2012   \n",
       "30                      0      101     150000                1998   \n",
       "31                      1      232     150000                2004   \n",
       "35                      0      160     150000                2008   \n",
       "36                      0      105     150000                2000   \n",
       "37                      0       50     150000                2002   \n",
       "38                      0      156     150000                2008   \n",
       "39                      0      105     150000                2006   \n",
       "41                      0       82     150000                2003   \n",
       "42                      0      109     150000                2006   \n",
       "44                      1      155     150000                2000   \n",
       "...                   ...      ...        ...                 ...   \n",
       "247830                  0      136     150000                2001   \n",
       "247832                  1       60     150000                1999   \n",
       "247833                  0       66     150000                2002   \n",
       "247834                  0      105     150000                2006   \n",
       "247836                  0       54     150000                1990   \n",
       "247837                  0      103     150000                2008   \n",
       "247838                  0       90     150000                1998   \n",
       "247842                  0      204     150000                2011   \n",
       "247843                  0       95     150000                2001   \n",
       "247844                  0      101     150000                1999   \n",
       "247846                  0      211     150000                1991   \n",
       "247848                  1      177     150000                2002   \n",
       "247849                  1      143     150000                2003   \n",
       "247851                  0      116     150000                2002   \n",
       "247852                  0      116     150000                2008   \n",
       "247853                  0       54     150000                1998   \n",
       "247855                  0      174     150000                2003   \n",
       "247856                  0      125     150000                1998   \n",
       "247858                  1      101     150000                2000   \n",
       "247859                  0      105     150000                2006   \n",
       "247860                  0      125     150000                2001   \n",
       "247861                  0      145     150000                2003   \n",
       "247862                  0      150     150000                1997   \n",
       "247863                  1      260     150000                2003   \n",
       "247864                  0      105     150000                2008   \n",
       "247865                  0       50     150000                1998   \n",
       "247866                  0      140     150000                2010   \n",
       "247867                  0        3     150000                2005   \n",
       "247868                  1      225     150000                2004   \n",
       "247870                  0      102     150000                1996   \n",
       "\n",
       "        monthOfRegistration          dateCreated             lastSeen  \\\n",
       "0                         6  2016-03-17 00:00:00  2016-03-17 17:40:17   \n",
       "2                        10  2016-04-04 00:00:00  2016-04-06 19:17:07   \n",
       "3                         8  2016-04-01 00:00:00  2016-04-05 18:18:39   \n",
       "4                        12  2016-03-26 00:00:00  2016-04-06 10:45:34   \n",
       "5                        12  2016-04-07 00:00:00  2016-04-07 10:25:17   \n",
       "7                         2  2016-03-20 00:00:00  2016-04-06 13:16:07   \n",
       "8                         6  2016-03-23 00:00:00  2016-04-05 18:45:11   \n",
       "9                         1  2016-04-01 00:00:00  2016-04-05 22:46:05   \n",
       "11                        7  2016-03-27 00:00:00  2016-04-07 06:44:26   \n",
       "12                        5  2016-03-12 00:00:00  2016-03-21 01:46:11   \n",
       "13                       10  2016-03-13 00:00:00  2016-03-13 20:40:49   \n",
       "14                        9  2016-03-18 00:00:00  2016-03-18 21:44:09   \n",
       "17                        3  2016-03-08 00:00:00  2016-03-09 11:45:28   \n",
       "18                        1  2016-04-03 00:00:00  2016-04-05 15:16:05   \n",
       "20                       11  2016-03-17 00:00:00  2016-03-30 15:46:10   \n",
       "21                       11  2016-04-01 00:00:00  2016-04-05 12:47:30   \n",
       "22                        8  2016-03-25 00:00:00  2016-03-27 03:17:02   \n",
       "25                        8  2016-03-15 00:00:00  2016-03-16 16:47:48   \n",
       "26                        2  2016-04-03 00:00:00  2016-04-06 08:16:21   \n",
       "27                        7  2016-04-04 00:00:00  2016-04-05 12:09:29   \n",
       "30                       10  2016-03-31 00:00:00  2016-04-06 03:15:47   \n",
       "31                        3  2016-03-25 00:00:00  2016-04-07 01:44:24   \n",
       "35                        8  2016-03-15 00:00:00  2016-04-06 04:17:09   \n",
       "36                        8  2016-02-09 00:00:00  2016-03-31 16:46:09   \n",
       "37                        4  2016-03-05 00:00:00  2016-03-11 06:16:00   \n",
       "38                       10  2016-03-22 00:00:00  2016-03-25 09:47:43   \n",
       "39                       10  2016-03-31 00:00:00  2016-03-31 18:46:36   \n",
       "41                        8  2016-03-11 00:00:00  2016-03-11 14:50:52   \n",
       "42                        4  2016-03-10 00:00:00  2016-03-12 14:45:39   \n",
       "44                        0  2016-04-01 00:00:00  2016-04-05 20:18:14   \n",
       "...                     ...                  ...                  ...   \n",
       "247830                    8  2016-03-15 00:00:00  2016-04-07 09:45:33   \n",
       "247832                    1  2016-03-09 00:00:00  2016-04-06 22:15:32   \n",
       "247833                    2  2016-03-10 00:00:00  2016-03-10 12:42:33   \n",
       "247834                    6  2016-03-08 00:00:00  2016-03-08 20:43:20   \n",
       "247836                   11  2016-04-04 00:00:00  2016-04-06 21:46:44   \n",
       "247837                    1  2016-03-10 00:00:00  2016-03-12 14:16:31   \n",
       "247838                    4  2016-03-29 00:00:00  2016-03-31 07:15:48   \n",
       "247842                    7  2016-03-07 00:00:00  2016-03-21 06:18:39   \n",
       "247843                   10  2016-03-23 00:00:00  2016-03-24 19:45:29   \n",
       "247844                    5  2016-03-13 00:00:00  2016-03-16 15:16:56   \n",
       "247846                    7  2016-03-12 00:00:00  2016-04-07 06:46:00   \n",
       "247848                    5  2016-03-14 00:00:00  2016-04-05 23:16:30   \n",
       "247849                    3  2016-03-14 00:00:00  2016-04-05 13:17:05   \n",
       "247851                    4  2016-03-15 00:00:00  2016-04-07 03:16:40   \n",
       "247852                    2  2016-03-05 00:00:00  2016-04-05 18:44:48   \n",
       "247853                    1  2016-03-08 00:00:00  2016-03-13 00:16:40   \n",
       "247855                    7  2016-03-26 00:00:00  2016-04-06 09:16:04   \n",
       "247856                    2  2016-04-01 00:00:00  2016-04-07 09:44:29   \n",
       "247858                   11  2016-04-03 00:00:00  2016-04-05 20:45:39   \n",
       "247859                    9  2016-03-20 00:00:00  2016-04-07 02:44:27   \n",
       "247860                    2  2016-04-02 00:00:00  2016-04-06 15:18:04   \n",
       "247861                    3  2016-03-05 00:00:00  2016-03-12 12:18:05   \n",
       "247862                   12  2016-03-31 00:00:00  2016-04-06 12:46:41   \n",
       "247863                   12  2016-03-25 00:00:00  2016-04-07 00:44:51   \n",
       "247864                    7  2016-03-21 00:00:00  2016-04-06 15:45:01   \n",
       "247865                    9  2016-04-04 00:00:00  2016-04-06 11:17:13   \n",
       "247866                    7  2016-03-28 00:00:00  2016-04-02 18:16:20   \n",
       "247867                    5  2016-04-02 00:00:00  2016-04-06 20:47:12   \n",
       "247868                    5  2016-03-19 00:00:00  2016-03-19 20:44:43   \n",
       "247870                    3  2016-03-19 00:00:00  2016-04-07 07:15:26   \n",
       "\n",
       "        postalCode  price  \n",
       "0            91074   1500  \n",
       "2            33775    650  \n",
       "3            67112   2200  \n",
       "4            96224   2000  \n",
       "5            57290   2799  \n",
       "7            65599   1750  \n",
       "8            88361   7550  \n",
       "9            49565   1850  \n",
       "11           68309   3699  \n",
       "12            9526    450  \n",
       "13           35390    500  \n",
       "14           73765   2500  \n",
       "17           86199    690  \n",
       "18           53879   3300  \n",
       "20           67071   3500  \n",
       "21           10551  11900  \n",
       "22           22767   1500  \n",
       "25           53604   7999  \n",
       "26           86157   2100  \n",
       "27           35576  13500  \n",
       "30           39624   1000  \n",
       "31           71711   7499  \n",
       "35           55218   9700  \n",
       "36           85244   2100  \n",
       "37           70327    750  \n",
       "38           83355   7999  \n",
       "39           41812   6600  \n",
       "41            4668   1400  \n",
       "42           26382   5000  \n",
       "44            8396    250  \n",
       "...            ...    ...  \n",
       "247830       47228   5390  \n",
       "247832       91301     99  \n",
       "247833       27576   1650  \n",
       "247834        1217   3000  \n",
       "247836       49086   1550  \n",
       "247837       46414   2600  \n",
       "247838       38518   1300  \n",
       "247842       85376  23900  \n",
       "247843       91623   1300  \n",
       "247844       49536   1600  \n",
       "247846       21147  12800  \n",
       "247848       86609   3800  \n",
       "247849       72766   2999  \n",
       "247851       60439   3200  \n",
       "247852       88213   4900  \n",
       "247853       24850    600  \n",
       "247855       34320   3900  \n",
       "247856       34414   1600  \n",
       "247858       58730    800  \n",
       "247859        1217   5900  \n",
       "247860       23820   1400  \n",
       "247861       60437   6500  \n",
       "247862        4275   1999  \n",
       "247863       90473   5000  \n",
       "247864       45896   4400  \n",
       "247865       48653   1490  \n",
       "247866       75223   7900  \n",
       "247867       81825   3999  \n",
       "247868       96465   3200  \n",
       "247870       87439   9200  \n",
       "\n",
       "[151762 rows x 14 columns]"
      ]
     },
     "execution_count": 24,
     "metadata": {},
     "output_type": "execute_result"
    }
   ],
   "source": [
    "data[data['kilometer'] >= data['kilometer'].quantile(0.999)]"
   ]
  },
  {
   "cell_type": "code",
   "execution_count": 9,
   "metadata": {},
   "outputs": [],
   "source": [
    "price = np.log1p(data['price'])"
   ]
  },
  {
   "cell_type": "code",
   "execution_count": 10,
   "metadata": {},
   "outputs": [],
   "source": [
    "data = data.drop(['dateCreated', 'lastSeen', 'postalCode'], axis = 1)"
   ]
  },
  {
   "cell_type": "code",
   "execution_count": 20,
   "metadata": {},
   "outputs": [
    {
     "data": {
      "text/plain": [
       "golf                  20126\n",
       "andere                18931\n",
       "3er                   14997\n",
       "polo                   8266\n",
       "corsa                  7673\n",
       "a4                     7607\n",
       "passat                 7241\n",
       "astra                  7189\n",
       "5er                    6606\n",
       "c_klasse               6599\n",
       "e_klasse               5655\n",
       "a3                     4833\n",
       "a6                     4586\n",
       "focus                  4235\n",
       "transporter            3908\n",
       "fiesta                 3733\n",
       "2_reihe                3694\n",
       "1er                    3316\n",
       "a_klasse               2942\n",
       "twingo                 2784\n",
       "fortwo                 2766\n",
       "vectra                 2572\n",
       "touran                 2531\n",
       "3_reihe                2514\n",
       "mondeo                 2417\n",
       "clio                   2215\n",
       "zafira                 2067\n",
       "x_reihe                1967\n",
       "punto                  1949\n",
       "megane                 1917\n",
       "                      ...  \n",
       "range_rover_evoque       64\n",
       "gl                       54\n",
       "crossfire                54\n",
       "90                       53\n",
       "v60                      44\n",
       "lanos                    43\n",
       "nubira                   41\n",
       "amarok                   33\n",
       "lybra                    33\n",
       "croma                    32\n",
       "lodgy                    29\n",
       "delta                    27\n",
       "145                      26\n",
       "move                     25\n",
       "terios                   25\n",
       "b_max                    24\n",
       "9000                     21\n",
       "musa                     17\n",
       "charade                  13\n",
       "materia                  12\n",
       "200                      11\n",
       "kappa                    10\n",
       "kalina                    5\n",
       "i3                        5\n",
       "elefantino                4\n",
       "serie_2                   4\n",
       "rangerover                3\n",
       "serie_3                   3\n",
       "samara                    2\n",
       "discovery_sport           1\n",
       "Name: model, Length: 250, dtype: int64"
      ]
     },
     "execution_count": 20,
     "metadata": {},
     "output_type": "execute_result"
    }
   ],
   "source": [
    "#data[data['monthOfRegistration'] == 0].count() # решить что делать с нулями -> выкинуть нафиг\n",
    "data['model'].value_counts()"
   ]
  },
  {
   "cell_type": "code",
   "execution_count": 30,
   "metadata": {},
   "outputs": [
    {
     "data": {
      "image/png": "[encoded data removed]",
      "text/plain": [
       "<Figure size 432x288 with 1 Axes>"
      ]
     },
     "metadata": {
      "needs_background": "light"
     },
     "output_type": "display_data"
    }
   ],
   "source": [
    "plt.hist(data.powerPS, bins=100)\n",
    "plt.show() "
   ]
  },
  {
   "cell_type": "code",
   "execution_count": 11,
   "metadata": {},
   "outputs": [],
   "source": [
    "y = np.log1p(data['price'])"
   ]
  },
  {
   "cell_type": "code",
   "execution_count": 12,
   "metadata": {},
   "outputs": [],
   "source": [
    "data['price'] = np.log1p(data['price'])"
   ]
  },
  {
   "cell_type": "code",
   "execution_count": 13,
   "metadata": {},
   "outputs": [],
   "source": [
    "data.insert(0, 'ones', 1)"
   ]
  },
  {
   "cell_type": "code",
   "execution_count": 14,
   "metadata": {},
   "outputs": [
    {
     "data": {
      "text/html": [
       "<div>\n",
       "<style scoped>\n",
       "    .dataframe tbody tr th:only-of-type {\n",
       "        vertical-align: middle;\n",
       "    }\n",
       "\n",
       "    .dataframe tbody tr th {\n",
       "        vertical-align: top;\n",
       "    }\n",
       "\n",
       "    .dataframe thead th {\n",
       "        text-align: right;\n",
       "    }\n",
       "</style>\n",
       "<table border=\"1\" class=\"dataframe\">\n",
       "  <thead>\n",
       "    <tr style=\"text-align: right;\">\n",
       "      <th></th>\n",
       "      <th>ones</th>\n",
       "      <th>brand</th>\n",
       "      <th>model</th>\n",
       "      <th>vehicleType</th>\n",
       "      <th>gearbox</th>\n",
       "      <th>fuelType</th>\n",
       "      <th>notRepairedDamage</th>\n",
       "      <th>powerPS</th>\n",
       "      <th>kilometer</th>\n",
       "      <th>yearOfRegistration</th>\n",
       "      <th>monthOfRegistration</th>\n",
       "      <th>price</th>\n",
       "    </tr>\n",
       "  </thead>\n",
       "  <tbody>\n",
       "    <tr>\n",
       "      <th>0</th>\n",
       "      <td>1</td>\n",
       "      <td>volkswagen</td>\n",
       "      <td>golf</td>\n",
       "      <td>kleinwagen</td>\n",
       "      <td>0</td>\n",
       "      <td>benzin</td>\n",
       "      <td>0</td>\n",
       "      <td>75</td>\n",
       "      <td>150000</td>\n",
       "      <td>2001</td>\n",
       "      <td>6</td>\n",
       "      <td>7.313887</td>\n",
       "    </tr>\n",
       "  </tbody>\n",
       "</table>\n",
       "</div>"
      ],
      "text/plain": [
       "   ones       brand model vehicleType  gearbox fuelType  notRepairedDamage  \\\n",
       "0     1  volkswagen  golf  kleinwagen        0   benzin                  0   \n",
       "\n",
       "   powerPS  kilometer  yearOfRegistration  monthOfRegistration     price  \n",
       "0       75     150000                2001                    6  7.313887  "
      ]
     },
     "execution_count": 14,
     "metadata": {},
     "output_type": "execute_result"
    }
   ],
   "source": [
    "data.head(1)"
   ]
  },
  {
   "cell_type": "code",
   "execution_count": 15,
   "metadata": {},
   "outputs": [],
   "source": [
    "df_2 = data.copy()"
   ]
  },
  {
   "cell_type": "code",
   "execution_count": 16,
   "metadata": {},
   "outputs": [],
   "source": [
    "from sklearn.model_selection import cross_val_score\n",
    "from sklearn.pipeline import Pipeline\n",
    "from sklearn.preprocessing import OneHotEncoder\n",
    "from sklearn.compose import ColumnTransformer\n",
    "from sklearn.preprocessing import StandardScaler\n",
    "numeric = ['gearbox', 'notRepairedDamage','powerPS', 'kilometer' ]\n",
    "categorical = ['brand', 'model','vehicleType', 'fuelType', 'yearOfRegistration', 'monthOfRegistration' ]"
   ]
  },
  {
   "cell_type": "code",
   "execution_count": 17,
   "metadata": {},
   "outputs": [],
   "source": [
    "scaler = StandardScaler()\n",
    "df2_scaled = scaler.fit_transform(data[numeric])\n",
    "#column_transformer.fit(X_train2, y_train)"
   ]
  },
  {
   "cell_type": "code",
   "execution_count": 18,
   "metadata": {},
   "outputs": [
    {
     "data": {
      "text/plain": [
       "array([[-0.55455826, -0.33198542, -0.87505988,  0.65904506],\n",
       "       [-0.55455826, -0.33198542, -0.97176906, -0.84643896],\n",
       "       [-0.55455826,  3.01218047, -0.43986858,  0.65904506],\n",
       "       ...,\n",
       "       [ 1.80323704, -0.33198542, -0.45598678,  0.03176005],\n",
       "       [-0.55455826, -0.33198542, -0.43986858,  0.65904506],\n",
       "       [-0.55455826, -0.33198542,  3.07389824, -1.85009497]])"
      ]
     },
     "execution_count": 18,
     "metadata": {},
     "output_type": "execute_result"
    }
   ],
   "source": [
    "df2_scaled"
   ]
  },
  {
   "cell_type": "code",
   "execution_count": 19,
   "metadata": {},
   "outputs": [],
   "source": [
    "enc = OneHotEncoder(handle_unknown='ignore')"
   ]
  },
  {
   "cell_type": "code",
   "execution_count": 20,
   "metadata": {},
   "outputs": [],
   "source": [
    "df2_categorical = enc.fit_transform(data[categorical])"
   ]
  },
  {
   "cell_type": "code",
   "execution_count": 21,
   "metadata": {},
   "outputs": [
    {
     "data": {
      "text/plain": [
       "<247872x402 sparse matrix of type '<class 'numpy.float64'>'\n",
       "\twith 1487232 stored elements in Compressed Sparse Row format>"
      ]
     },
     "execution_count": 21,
     "metadata": {},
     "output_type": "execute_result"
    }
   ],
   "source": [
    "df2_categorical"
   ]
  },
  {
   "cell_type": "code",
   "execution_count": 22,
   "metadata": {},
   "outputs": [],
   "source": [
    "from scipy.sparse import hstack # concatenate sparse матриces\n",
    "df2_full = hstack([df2_scaled, df2_categorical]).toarray()"
   ]
  },
  {
   "cell_type": "code",
   "execution_count": 25,
   "metadata": {},
   "outputs": [
    {
     "data": {
      "text/plain": [
       "(407,)"
      ]
     },
     "execution_count": 25,
     "metadata": {},
     "output_type": "execute_result"
    }
   ],
   "source": [
    "w0 = np.zeros(df2_full.shape[1])\n",
    "w0.shape"
   ]
  },
  {
   "cell_type": "code",
   "execution_count": 24,
   "metadata": {},
   "outputs": [],
   "source": [
    "df2_full = np.insert(df2_full, 0,data['ones'] , axis=1)\n"
   ]
  },
  {
   "cell_type": "code",
   "execution_count": 26,
   "metadata": {},
   "outputs": [],
   "source": [
    "from sklearn.model_selection import train_test_split\n",
    "\n",
    "X_train, X_test, y_train, y_test  = train_test_split(df2_full, y, test_size=0.4, random_state=10)\n",
    "\n",
    "X_val, X_test, y_val, y_test = train_test_split(X_test, y_test, test_size=0.5, random_state=10)"
   ]
  },
  {
   "cell_type": "code",
   "execution_count": 27,
   "metadata": {},
   "outputs": [
    {
     "name": "stdout",
     "output_type": "stream",
     "text": [
      "(148723, 407)\n",
      "(148723,)\n"
     ]
    }
   ],
   "source": [
    "print(X_train.shape)\n",
    "print(y_train.shape)"
   ]
  },
  {
   "cell_type": "code",
   "execution_count": 32,
   "metadata": {},
   "outputs": [],
   "source": [
    "tolerance_default: float = 1e-3\n",
    "max_iter_default: int = 50\n",
    "\n",
    "\n",
    "reg = LinearRegression(descent = GradientDescent(lambda_ = lambda_, w0 = w0),\n",
    "    tolerance = tolerance_default,\n",
    "    max_iter = max_iter_default)"
   ]
  },
  {
   "cell_type": "code",
   "execution_count": 33,
   "metadata": {},
   "outputs": [
    {
     "data": {
      "text/plain": [
       "<bound method LinearRegression.fit of LinearRegression(descent=<utils.GradientDescent object at 0x1a23d27208>,\n",
       "                 max_iter=50, tolerance=0.001)>"
      ]
     },
     "execution_count": 33,
     "metadata": {},
     "output_type": "execute_result"
    }
   ],
   "source": [
    "reg.fit(X_train, y_train)"
   ]
  },
  {
   "cell_type": "code",
   "execution_count": 34,
   "metadata": {},
   "outputs": [
    {
     "name": "stdout",
     "output_type": "stream",
     "text": [
      "[69.1823932358185, 63.9206070145952, 60.46955737105837, 57.8009851057703, 55.59132631926768, 53.69067396633112, 52.01541014618932, 50.51339171883735, 49.14957224166229, 47.899088795298844, 46.74356732020413, 45.66898733368254, 44.66437097867784, 43.72093843406754, 42.831541933905065, 41.99027384654193, 41.19218764679739, 40.43309447737279, 39.709411728290625, 39.01804827737273, 38.35631611551231, 37.72186131655185, 37.11260942674583, 36.52672176351708, 35.962560079171965, 35.418657717156655, 34.89369586375181] 27 \n",
      "\n"
     ]
    }
   ],
   "source": [
    "#reg.calc_loss(X_val, y_val)\n",
    "print( reg.loss_history, len(reg.loss_history), \"\\n\")"
   ]
  },
  {
   "cell_type": "markdown",
   "metadata": {},
   "source": [
    "Итого по предобработке- выбросов сильных нет. Их не удалял. Заменил Ja, Nein на соответствующие числоыве признаки. Удалил незначимые столбцы. Сделал ван-хот кодирование всех категориальных. Добавил bias."
   ]
  },
  {
   "cell_type": "markdown",
   "metadata": {},
   "source": [
    "Итерации ячеек непоследовательно так как на SAG kernel умер, заново не перезапускал задания."
   ]
  },
  {
   "cell_type": "markdown",
   "metadata": {},
   "source": [
    "## Задание 5. Сравнение методов градиентного спуска (2 балла)"
   ]
  },
  {
   "cell_type": "code",
   "execution_count": 163,
   "metadata": {},
   "outputs": [
    {
     "name": "stdout",
     "output_type": "stream",
     "text": [
      "26 произошла сходимость\n",
      "0 0.01 значение MSE 34.33937186081321 28 \n",
      "\n",
      "0 0.01 значение r^2 -23.7273323851671 28 \n",
      "\n",
      "34 произошла сходимость\n",
      "1 0.03593813663804628 значение MSE 4.518581084892793 36 \n",
      "\n",
      "1 0.03593813663804628 значение r^2 -2.2537711187133826 36 \n",
      "\n",
      "15 произошла сходимость\n",
      "2 0.1291549665014884 значение MSE 1.0357907012215093 17 \n",
      "\n",
      "2 0.1291549665014884 значение r^2 0.2541406681990769 17 \n",
      "\n",
      "13 произошла сходимость\n",
      "3 0.464158883361278 значение MSE 0.6017225478904562 15 \n",
      "\n",
      "3 0.464158883361278 значение r^2 0.5667074661223992 15 \n",
      "\n",
      "29 произошла сходимость\n",
      "4 1.6681005372000592 значение MSE 0.3850243924221764 31 \n",
      "\n",
      "4 1.6681005372000592 значение r^2 0.7227489726250717 31 \n",
      "\n",
      "5 5.994842503189409 значение MSE 5.9558886627343585e+65 51 \n",
      "\n",
      "5 5.994842503189409 значение r^2 -4.288757499974642e+65 51 \n",
      "\n",
      "6 21.544346900318846 значение MSE 4.0660169735335085e+128 51 \n",
      "\n",
      "6 21.544346900318846 значение r^2 -2.9278856234126014e+128 51 \n",
      "\n",
      "7 77.42636826811278 значение MSE 9.253568747284922e+185 51 \n",
      "\n",
      "7 77.42636826811278 значение r^2 -6.663373782448968e+185 51 \n",
      "\n",
      "8 278.2559402207126 значение MSE 1.0200727532928763e+242 51 \n",
      "\n",
      "8 278.2559402207126 значение r^2 -7.345410431490686e+241 51 \n",
      "\n",
      "9 1000.0 значение MSE 4.9952320186257605e+297 51 \n",
      "\n",
      "9 1000.0 значение r^2 -3.5970012196566503e+297 51 \n",
      "\n"
     ]
    }
   ],
   "source": [
    "tolerance_default: float = 1e-3\n",
    "max_iter_default: int = 50\n",
    "alphas = np.logspace(-2, 3, 10)\n",
    "for j in range(len(alphas)):\n",
    "    model1 = LinearRegression(descent = GradientDescent(lambda_ = alphas[j], w0 = w0),\n",
    "    tolerance = tolerance_default,\n",
    "    max_iter = max_iter_default)\n",
    "    \n",
    "    model1.fit(X_train, y_train)\n",
    "    model1.calc_loss(X_val, y_val)\n",
    "    print(j, alphas[j],\"значение MSE\",  model1.loss_history[len(model1.loss_history)-1], len(model1.loss_history), \"\\n\")\n",
    "    print(j, alphas[j],\"значение r^2\",  model1.rquad[len(model1.rquad)-1], len(model1.rquad), \"\\n\")"
   ]
  },
  {
   "cell_type": "markdown",
   "metadata": {},
   "source": [
    "В данном случае в обычном градиентном спуске быстрее всего сходится при lambda= 0.464158883361278. потребовалось 15 итераций до сходимости. R^2 в данном случае равен 0.5667074661223992."
   ]
  },
  {
   "cell_type": "code",
   "execution_count": 159,
   "metadata": {},
   "outputs": [],
   "source": [
    "model_best = LinearRegression(descent = GradientDescent(lambda_ = 0.464158883361278, w0 = w0),\n",
    "    tolerance = tolerance_default,\n",
    "    max_iter = max_iter_default)\n"
   ]
  },
  {
   "cell_type": "code",
   "execution_count": 160,
   "metadata": {},
   "outputs": [
    {
     "name": "stdout",
     "output_type": "stream",
     "text": [
      "13 произошла сходимость\n",
      "[69.28035695274147, 50.18735789960306, 5.9201235771746115, 0.8600540015125783, 0.7614446205889541, 0.7160889360873522, 0.6837104677490191, 0.6592082138495962, 0.6398699912363759, 0.6241014352690932, 0.6109062421171196, 0.5996310793387521, 0.5898302053593187, 0.5811892132835923, 0.5734799341480253] 15 \n",
      "\n",
      "[-49.94055840848805, -35.90183118133109, -3.352956799490003, 0.36761828279275766, 0.4401239272424714, 0.47347311880461707, 0.4972804045940269, 0.5152964563409105, 0.5295154918926046, 0.5411098179267041, 0.5508119981266113, 0.5591024156899682, 0.5663088161094134, 0.5726623769295618, 0.5783308665471971] 15 \n",
      "\n"
     ]
    }
   ],
   "source": [
    "model_best.fit(X_test, y_test)\n",
    "model_best.calc_loss(X_test, y_test)\n",
    "print(model_best.loss_history, len(model_best.loss_history), \"\\n\")\n",
    "print(model_best.rquad, len(model_best.rquad), \"\\n\")"
   ]
  },
  {
   "cell_type": "markdown",
   "metadata": {},
   "source": [
    "Тут замерил качество для тестовой выборки. По метрикам MSE и R^2."
   ]
  },
  {
   "cell_type": "markdown",
   "metadata": {},
   "source": [
    "В этом задании вам предстоит сравнить методы градиентного спуска на подготовленных вами данных из предыдущего задания.\n",
    "\n",
    "* **Задание 5.1. (1.5 балла)** Подберите по валидационной выборке наилучшую длину $\\lambda$ шага для каждого метода. Для этого можно сделать перебор по логарифмической сетке, так как нас интересует скорее порядок величины, нежели её точное значение. Сравните качество методов по метрикам MSE и R^2 на обучающей и тестовой выборках, сравните количество итераций до сходимости. Все параметры кроме $\\lambda$ стоит выставить равным значениям по умолчанию.\n",
    "\n",
    "* **Задание 5.2. (0.5 балла)** Постройте график зависимости значения функции ошибки от номера итерации (все методы на одном графике).\n",
    "\n",
    "Посмотрите на получившиеся результаты. Сравните методы между собой."
   ]
  },
  {
   "cell_type": "markdown",
   "metadata": {},
   "source": [
    "# Моментум"
   ]
  },
  {
   "cell_type": "code",
   "execution_count": 162,
   "metadata": {},
   "outputs": [
    {
     "name": "stdout",
     "output_type": "stream",
     "text": [
      "29 произошла сходимость\n",
      "0 0.01 значение MSE =  30.3329074228472 31 \n",
      "\n",
      "0 0.01 значение R^2 =  -20.842329763439146 31 \n",
      "\n",
      "33 произошла сходимость\n",
      "1 0.03593813663804628 значение MSE =  3.6419880116025563 35 \n",
      "\n",
      "1 0.03593813663804628 значение R^2 =  -1.622547915865038 35 \n",
      "\n",
      "14 произошла сходимость\n",
      "2 0.1291549665014884 значение MSE =  0.9853376215597597 16 \n",
      "\n",
      "2 0.1291549665014884 значение R^2 =  0.29047127074207435 16 \n",
      "\n",
      "14 произошла сходимость\n",
      "3 0.464158883361278 значение MSE =  0.5761047085659062 16 \n",
      "\n",
      "3 0.464158883361278 значение R^2 =  0.5851545370395825 16 \n",
      "\n",
      "24 произошла сходимость\n",
      "4 1.6681005372000592 значение MSE =  0.3845228600132622 26 \n",
      "\n",
      "4 1.6681005372000592 значение R^2 =  0.723110119550747 26 \n",
      "\n",
      "5 5.994842503189409 значение MSE =  1.9931375173041554e+64 51 \n",
      "\n",
      "5 5.994842503189409 значение R^2 =  -1.4352322482627802e+64 51 \n",
      "\n",
      "6 21.544346900318846 значение MSE =  2.1726978830507845e+128 51 \n",
      "\n",
      "6 21.544346900318846 значение R^2 =  -1.5645313182928259e+128 51 \n",
      "\n",
      "7 77.42636826811278 значение MSE =  7.897626321322273e+185 51 \n",
      "\n",
      "7 77.42636826811278 значение R^2 =  -5.686977382484817e+185 51 \n",
      "\n",
      "8 278.2559402207126 значение MSE =  9.771635980804898e+241 51 \n",
      "\n",
      "8 278.2559402207126 значение R^2 =  -7.036427218983467e+241 51 \n",
      "\n",
      "9 1000.0 значение MSE =  4.9362684554183646e+297 51 \n",
      "\n",
      "9 1000.0 значение R^2 =  -3.554542329262476e+297 51 \n",
      "\n"
     ]
    }
   ],
   "source": [
    "alphas = np.logspace(-2, 3, 10)\n",
    "for j in range(len(alphas)):\n",
    "    model1 = LinearRegression(descent = MomentumDescent(lambda_ = alphas[j], w0 = w0),\n",
    "    tolerance = tolerance_default,\n",
    "    max_iter = max_iter_default\n",
    ")\n",
    "    \n",
    "    model1.fit(X_train, y_train)\n",
    "    model1.calc_loss(X_val, y_val)\n",
    "    print(j, alphas[j],\"значение MSE = \", model1.loss_history[len(model1.loss_history)-1], len(model1.loss_history), \"\\n\")\n",
    "    print(j, alphas[j],\"значение R^2 = \", model1.rquad[len(model1.rquad)-1], len(model1.rquad), \"\\n\")"
   ]
  },
  {
   "cell_type": "markdown",
   "metadata": {},
   "source": [
    "В данном случае в Моментном спуске быстрее всего сходится при lambda= 0.464158883361278. потребовалось 14 итераций до сходимости  (Правда есть еще одно значение при 14 итерациях - но ошибка в данном случае больше). Значение R^2 составляет 0.5851545370395825."
   ]
  },
  {
   "cell_type": "code",
   "execution_count": 164,
   "metadata": {},
   "outputs": [],
   "source": [
    "model_best_mom = LinearRegression(descent = MomentumDescent(lambda_ = 0.464158883361278, w0 = w0),\n",
    "    tolerance = tolerance_default,\n",
    "    max_iter = max_iter_default\n",
    ")\n",
    "\n"
   ]
  },
  {
   "cell_type": "code",
   "execution_count": 165,
   "metadata": {},
   "outputs": [
    {
     "name": "stdout",
     "output_type": "stream",
     "text": [
      "13 произошла сходимость\n",
      "[69.28035695274147, 50.18735789960306, 1.4908414672349524, 1.2909417309208162, 0.7236961632251514, 0.6842826020362037, 0.6529940248291867, 0.6310749033246564, 0.6141636288820013, 0.6002866297574226, 0.5885764182712971, 0.5784842393375639, 0.5696389894738033, 0.5617805639160982, 0.5547205766647203] 15\n",
      "[-49.94055840848805, -35.90183118133109, -0.09618801316630532, 0.0507945464140066, 0.4678796661235919, 0.49685972488976804, 0.5198656339935529, 0.5359823565160122, 0.5484169021996564, 0.5586204016550986, 0.567230702444854, 0.5746512939812607, 0.5811550417553942, 0.5869331959643008, 0.5921242733311123] 15 \n",
      "\n"
     ]
    }
   ],
   "source": [
    "model_best_mom.fit(X_test, y_test)\n",
    "model_best_mom.calc_loss(X_test, y_test)\n",
    "print(model_best_mom.loss_history, len(model_best_mom.loss_history))\n",
    "print(model_best_mom.rquad, len(model_best_mom.rquad), \"\\n\")\n"
   ]
  },
  {
   "cell_type": "markdown",
   "metadata": {},
   "source": [
    "#  Адаград"
   ]
  },
  {
   "cell_type": "code",
   "execution_count": 258,
   "metadata": {},
   "outputs": [
    {
     "name": "stdout",
     "output_type": "stream",
     "text": [
      "0 0.01 значение MSE 66.11397790158205 8 \n",
      "\n",
      "0 0.01 значение R^2 =  -46.60781046037737 8 \n",
      "\n",
      "1 0.03593813663804628 значение MSE 54.43078729464878 24 \n",
      "\n",
      "1 0.03593813663804628 значение R^2 =  -38.19489776564704 24 \n",
      "\n",
      "2 0.1291549665014884 значение MSE 18.911477712939433 70 \n",
      "\n",
      "2 0.1291549665014884 значение R^2 =  -12.617907665811883 70 \n",
      "\n",
      "3 0.464158883361278 значение MSE 0.46852022008469596 63 \n",
      "\n",
      "3 0.464158883361278 значение R^2 =  0.662624719573669 63 \n",
      "\n",
      "4 1.6681005372000592 значение MSE 0.3004341243824433 74 \n",
      "\n",
      "4 1.6681005372000592 значение R^2 =  0.7836613178725925 74 \n",
      "\n",
      "5 5.994842503189409 значение MSE 0.30594332144795033 80 \n",
      "\n",
      "5 5.994842503189409 значение R^2 =  0.7796942171473275 80 \n",
      "\n",
      "6 21.544346900318846 значение MSE 0.2997023016717017 121 \n",
      "\n",
      "6 21.544346900318846 значение R^2 =  0.7841882938315259 121 \n",
      "\n",
      "7 77.42636826811278 значение MSE 0.2954862812985144 151 \n",
      "\n",
      "7 77.42636826811278 значение R^2 =  0.7872241949404045 151 \n",
      "\n",
      "8 278.2559402207126 значение MSE 0.29839030115539006 151 \n",
      "\n",
      "8 278.2559402207126 значение R^2 =  0.7851330482372805 151 \n",
      "\n",
      "9 1000.0 значение MSE 0.3282515689200904 151 \n",
      "\n",
      "9 1000.0 значение R^2 =  0.7636303400208019 151 \n",
      "\n"
     ]
    }
   ],
   "source": [
    "alphas = np.logspace(-2, 3, 10)\n",
    "for j in range(len(alphas)):\n",
    "    model1 = LinearRegression(descent = Adagrad(lambda_ = alphas[j], w0 = w0),\n",
    "    tolerance = tolerance_default,\n",
    "    max_iter = max_iter_default\n",
    ")\n",
    "    \n",
    "    model1.fit(X_train, y_train)\n",
    "    model1.calc_loss(X_val, y_val)\n",
    "    print(j, alphas[j],\"значение MSE\", model1.loss_history[len(model1.loss_history)-1], len(model1.loss_history), \"\\n\")\n",
    "    print(j, alphas[j],\"значение R^2 = \", model1.rquad[len(model1.rquad)-1], len(model1.rquad), \"\\n\")"
   ]
  },
  {
   "cell_type": "markdown",
   "metadata": {},
   "source": [
    "В данном случае в Адаграде быстрее всего сходится при lambda=0.01. потребовалось 8 итераций до сходимости\n",
    "R^2 в данном же случае непрезентативно(отрицательное значение)"
   ]
  },
  {
   "cell_type": "code",
   "execution_count": 167,
   "metadata": {},
   "outputs": [],
   "source": [
    "model_best_adag = LinearRegression(descent = MomentumDescent(lambda_ = 0.01, w0 = w0),\n",
    "    tolerance = tolerance_default,\n",
    "    max_iter = max_iter_default\n",
    ")"
   ]
  },
  {
   "cell_type": "code",
   "execution_count": 168,
   "metadata": {},
   "outputs": [
    {
     "name": "stdout",
     "output_type": "stream",
     "text": [
      "29 произошла сходимость\n",
      "[69.28035695274147, 64.0055034938746, 60.04491821999988, 57.01277654506996, 54.53890596337984, 52.433303121557266, 50.59180617122384, 48.95098789885915, 47.46893451850694, 46.11625809876559, 44.871425816470705, 43.71811517487888, 42.643613837774396, 41.63779987717752, 40.692464165579196, 39.80084433654184, 38.95729484689118, 38.157047558287495, 37.3960342618981, 36.67075265005498, 35.97816342680953, 35.315610165568295, 34.68075606779377, 34.07153347142312, 33.48610310991914, 32.92282092140069, 32.380210770306974, 31.856941847260835, 31.351809805721107, 30.863720909622558, 30.391678626825477] 31\n",
      "[-49.94055840848805, -46.06205673014197, -43.14991201337562, -40.92043461331055, -39.10144356874089, -37.553232946470175, -36.19921447596054, -34.99275130634778, -33.90302501007844, -32.90842718757268, -31.993125154295477, -31.14511728185893, -30.355056425791073, -29.61550012063508, -28.920412347557452, -28.26482086424241, -27.644574607755718, -27.0561676546253, -26.496608726532543, -25.963322641763966, -25.45407466251509, -24.966911567699974, -24.5001151527997, -24.052165104341388, -23.621709043835832, -23.207538123148193, -22.8085669672449, -22.423817056733306, -22.052402857992877, -21.693520167229565, -21.346436252888548] 31 \n",
      "\n"
     ]
    }
   ],
   "source": [
    "model_best_adag.fit(X_test, y_test)\n",
    "model_best_adag.calc_loss(X_test, y_test)\n",
    "print(model_best_adag.loss_history, len(model_best_adag.loss_history))\n",
    "print(model_best_adag.rquad, len(model_best_adag.rquad), \"\\n\")\n",
    "\n"
   ]
  },
  {
   "cell_type": "markdown",
   "metadata": {},
   "source": [
    "# Cтохастический градиентный"
   ]
  },
  {
   "cell_type": "code",
   "execution_count": 169,
   "metadata": {},
   "outputs": [
    {
     "name": "stdout",
     "output_type": "stream",
     "text": [
      "35 произошла сходимость\n",
      "0 0.01 значение MSE =  31.910393702666244 37 \n",
      "\n",
      "0 0.01 значение R^2 =  -21.978256993914773 37 \n",
      "\n",
      "29 произошла сходимость\n",
      "1 0.03593813663804628 значение MSE =  7.621404941600068 31 \n",
      "\n",
      "1 0.03593813663804628 значение R^2 =  -4.4880739809908965 31 \n",
      "\n",
      "23 произошла сходимость\n",
      "2 0.1291549665014884 значение MSE =  1.7700466233558128 25 \n",
      "\n",
      "2 0.1291549665014884 значение R^2 =  -0.2745874144223601 25 \n",
      "\n",
      "3 0.464158883361278 значение MSE =  503.13946172699644 51 \n",
      "\n",
      "3 0.464158883361278 значение R^2 =  -361.3041433793679 51 \n",
      "\n",
      "4 1.6681005372000592 значение MSE =  7.849675134372707e+21 51 \n",
      "\n",
      "4 1.6681005372000592 значение R^2 =  -5.652448360149431e+21 51 \n",
      "\n",
      "5 5.994842503189409 значение MSE =  1.252388764274611e+73 51 \n",
      "\n",
      "5 5.994842503189409 значение R^2 =  -9.018287630650218e+72 51 \n",
      "\n",
      "6 21.544346900318846 значение MSE =  1.7247663890503973e+125 51 \n",
      "\n",
      "6 21.544346900318846 значение R^2 =  -1.2419817101396337e+125 51 \n",
      "\n",
      "7 77.42636826811278 значение MSE =  5.222671251625074e+180 51 \n",
      "\n",
      "7 77.42636826811278 значение R^2 =  -3.760777235554581e+180 51 \n",
      "\n",
      "8 278.2559402207126 значение MSE =  1.1470784399698458e+237 51 \n",
      "\n",
      "8 278.2559402207126 значение R^2 =  -8.259961763995299e+236 51 \n",
      "\n",
      "9 1000.0 значение MSE =  1.2800640123916615e+293 51 \n",
      "\n",
      "9 1000.0 значение R^2 =  -9.217573471348198e+292 51 \n",
      "\n"
     ]
    }
   ],
   "source": [
    "alphas = np.logspace(-2, 3, 10)\n",
    "for j in range(len(alphas)):\n",
    "    model1 = LinearRegression(descent = StochasticDescent(lambda_ = alphas[j], w0 = w0, batch_size = 2 ),\n",
    "    tolerance = tolerance_default,\n",
    "    max_iter = max_iter_default, \n",
    ")\n",
    "    \n",
    "    model1.fit(X_train, y_train)\n",
    "    model1.calc_loss(X_val, y_val)\n",
    "    print(j, alphas[j],\"значение MSE = \", model1.loss_history[len(model1.loss_history)-1], len(model1.loss_history), \"\\n\")\n",
    "    print(j, alphas[j],\"значение R^2 = \", model1.rquad[len(model1.rquad)-1], len(model1.rquad), \"\\n\")"
   ]
  },
  {
   "cell_type": "markdown",
   "metadata": {},
   "source": [
    "В данном случае в Стохастическом градиентном спуску быстрее всего сходится при lambda=0.03593813663804628. потребовалось 22 итераций до сходимости. Значение R^2 нерепрезентативно(отрицательно)"
   ]
  },
  {
   "cell_type": "code",
   "execution_count": 170,
   "metadata": {},
   "outputs": [],
   "source": [
    "model_best_stoch = LinearRegression(descent = StochasticDescent(lambda_ = 0.03593813663804628, w0 = w0, batch_size = 2),\n",
    "    tolerance = tolerance_default,\n",
    "    max_iter = max_iter_default\n",
    ")"
   ]
  },
  {
   "cell_type": "code",
   "execution_count": 171,
   "metadata": {},
   "outputs": [
    {
     "name": "stdout",
     "output_type": "stream",
     "text": [
      "21 произошла сходимость\n",
      "[69.28035695274147, 53.023991719764396, 40.91885142192373, 35.94669948237494, 29.156881682713237, 25.89419881624034, 24.101934242709273, 21.5054564905037, 19.46899794106861, 18.525128299462995, 17.024422870844155, 16.242549116659482, 15.502102211894508, 13.936958881443243, 12.773287714823091, 12.369919003503288, 12.066030755233859, 11.281383072429744, 10.363920360401506, 9.978796086304978, 9.61841390137048, 8.937142299639898, 8.900480562632723] 23\n",
      "[-49.94055840848805, -37.987555290662534, -29.086870688160733, -25.430939809149294, -20.438513017200265, -18.039522965210367, -16.721704146036252, -14.81256232849638, -13.315192218889027, -12.6211824198199, -11.517741619238574, -10.942844384366115, -10.39840754166489, -9.247586749894225, -8.391960976026997, -8.095371462015697, -7.87192808294677, -7.294991229933252, -6.62039795522532, -6.337223236704122, -6.07224091633939, -5.571314573773431, -5.544357880166256] 23 \n",
      "\n"
     ]
    }
   ],
   "source": [
    "model_best_stoch.fit(X_test, y_test)\n",
    "model_best_stoch.calc_loss(X_test, y_test)\n",
    "print(model_best_stoch.loss_history, len(model_best_stoch.loss_history))\n",
    "print(model_best_stoch.rquad, len(model_best_stoch.rquad), \"\\n\")"
   ]
  },
  {
   "cell_type": "code",
   "execution_count": 174,
   "metadata": {},
   "outputs": [],
   "source": [
    "bet_adag = np.arange(len(model_best_adag.loss_history))\n",
    "bet_mom = np.arange(len(model_best_mom.loss_history))\n",
    "bet_grad = np.arange(len(model_best.loss_history))\n",
    "bet_stoch = np.arange(len(model_best_stoch.loss_history))"
   ]
  },
  {
   "cell_type": "code",
   "execution_count": 175,
   "metadata": {},
   "outputs": [
    {
     "data": {
      "text/plain": [
       "<matplotlib.legend.Legend at 0x1a1b04c4a8>"
      ]
     },
     "execution_count": 175,
     "metadata": {},
     "output_type": "execute_result"
    },
    {
     "data": {
      "image/png": "[encoded data removed]",
      "text/plain": [
       "<Figure size 432x288 with 1 Axes>"
      ]
     },
     "metadata": {
      "needs_background": "light"
     },
     "output_type": "display_data"
    }
   ],
   "source": [
    "line_adag, = plt.plot(bet_adag, model_best_adag.loss_history, label = 'Adag')\n",
    "line_mom, = plt.plot(bet_mom,model_best_mom.loss_history, label = 'Momentum' )\n",
    "line_grad, = plt.plot(bet_grad, model_best.loss_history, label = 'Gradient')\n",
    "line_stoch,  = plt.plot(bet_stoch, model_best_stoch.loss_history, label = 'Stochastic')\n",
    "plt.xlabel(\"iteration number\")\n",
    "plt.ylabel(\"MSE score\")\n",
    "plt.legend(handles=[line_adag, line_mom,line_grad, line_stoch ])"
   ]
  },
  {
   "cell_type": "markdown",
   "metadata": {},
   "source": [
    "Как видно из данного графика лучше всего себя показали методы: обычный градиентный и моментум. Они сходятся быстрее остальных методов. Также из следующего метода они имеют лучший R^2 на тестовой выборке."
   ]
  },
  {
   "cell_type": "code",
   "execution_count": 176,
   "metadata": {},
   "outputs": [
    {
     "data": {
      "text/plain": [
       "<matplotlib.legend.Legend at 0x1a1c6632b0>"
      ]
     },
     "execution_count": 176,
     "metadata": {},
     "output_type": "execute_result"
    },
    {
     "data": {
      "image/png": "[encoded data removed]",
      "text/plain": [
       "<Figure size 432x288 with 1 Axes>"
      ]
     },
     "metadata": {
      "needs_background": "light"
     },
     "output_type": "display_data"
    }
   ],
   "source": [
    "line_adag, = plt.plot(bet_adag, model_best_adag.rquad, label = 'Adag')\n",
    "line_mom, = plt.plot(bet_mom,model_best_mom.rquad, label = 'Momentum' )\n",
    "line_grad, = plt.plot(bet_grad, model_best.rquad, label = 'Gradient')\n",
    "line_stoch,  = plt.plot(bet_stoch, model_best_stoch.rquad, label = 'Stochastic')\n",
    "plt.xlabel(\"iteration number\")\n",
    "plt.ylabel(\"r^2 score\")\n",
    "plt.legend(handles=[line_adag, line_mom,line_grad, line_stoch ])"
   ]
  },
  {
   "cell_type": "markdown",
   "metadata": {},
   "source": [
    "Как видно из данного графика для лучшей lambdы имеют довольно неплохой R^2 обычный градиентный спуск и Моментум. Остальные же методы для лучшей лямбы имеют непрезентативный R^2."
   ]
  },
  {
   "cell_type": "markdown",
   "metadata": {},
   "source": [
    "## Задание 6. Сходимость стохастического градиентного спуска в зависимости от размера батча (1 балл)"
   ]
  },
  {
   "cell_type": "markdown",
   "metadata": {},
   "source": [
    "В этом задании вам предстоит исследовать влияние размера батча на работу стохастического градиентного спуска. \n",
    "\n",
    "* Сделайте по несколько запусков (например, k) стохастического градиентного спуска на обучающей выборке для каждого размера батча из списка. Замерьте время и количество итераций до сходимости. Посчитайте среднее и дисперсию этих значений для каждого размера батча.\n",
    "* Постройте график зависимости количества шагов до сходимости от размера батча.\n",
    "* Постройте график зависимости времени до сходимости от размера батча.\n",
    "\n",
    "Посмотрите на получившиеся результаты. Какие выводы можно сделать про подбор размера батча для стохастического градиентного спуска?"
   ]
  },
  {
   "cell_type": "markdown",
   "metadata": {},
   "source": [
    "Для данного случая возьму lambda которая показала самые лучшие результаты\n",
    "lambda=0.03593813663804628. "
   ]
  },
  {
   "cell_type": "code",
   "execution_count": 198,
   "metadata": {},
   "outputs": [
    {
     "name": "stdout",
     "output_type": "stream",
     "text": [
      "1.0785059928894043\n",
      "0.9312970638275146\n"
     ]
    }
   ],
   "source": [
    "for i in range(2):\n",
    "    start = time.time()\n",
    "    model1 = LinearRegression(descent = StochasticDescent(lambda_ = 0.03593813663804628, w0 = w0, batch_size = batch_sizes[j] ),\n",
    "        tolerance = tolerance_default,\n",
    "        max_iter = max_iter_default, )\n",
    "    \n",
    "    model1.fit(X_train, y_train)\n",
    "    model1.calc_loss(X_val, y_val)\n",
    "    end = time.time()\n",
    "    print(end- start)"
   ]
  },
  {
   "cell_type": "code",
   "execution_count": 200,
   "metadata": {},
   "outputs": [],
   "source": [
    "def toFixed(numObj, digits=0):\n",
    "    return f\"{numObj:.{digits}f}\""
   ]
  },
  {
   "cell_type": "code",
   "execution_count": 202,
   "metadata": {},
   "outputs": [
    {
     "name": "stdout",
     "output_type": "stream",
     "text": [
      "0 5 мо кол-во итераций  35.8 дисперсия =  49.760 средняя время до сход =  0.8218589782714844 дисперсия =  0.029 \n",
      "\n",
      "1 15 мо кол-во итераций  38.0 дисперсия =  10.000 средняя время до сход =  0.8263496875762939 дисперсия =  0.003 \n",
      "\n",
      "2 25 мо кол-во итераций  37.2 дисперсия =  7.360 средняя время до сход =  0.8032102584838867 дисперсия =  0.004 \n",
      "\n",
      "3 35 мо кол-во итераций  37.6 дисперсия =  2.640 средняя время до сход =  0.8379086017608642 дисперсия =  0.001 \n",
      "\n",
      "4 45 мо кол-во итераций  36.4 дисперсия =  2.640 средняя время до сход =  0.8054668426513671 дисперсия =  0.003 \n",
      "\n",
      "5 55 мо кол-во итераций  36.8 дисперсия =  0.960 средняя время до сход =  0.8395589351654053 дисперсия =  0.004 \n",
      "\n",
      "6 65 мо кол-во итераций  37.8 дисперсия =  4.560 средняя время до сход =  0.8374045848846435 дисперсия =  0.001 \n",
      "\n",
      "7 75 мо кол-во итераций  36.8 дисперсия =  1.360 средняя время до сход =  0.869540023803711 дисперсия =  0.008 \n",
      "\n",
      "8 85 мо кол-во итераций  35.8 дисперсия =  2.960 средняя время до сход =  0.770296859741211 дисперсия =  0.002 \n",
      "\n",
      "9 95 мо кол-во итераций  37.2 дисперсия =  0.560 средняя время до сход =  0.8044654846191406 дисперсия =  0.000 \n",
      "\n",
      "10 105 мо кол-во итераций  36.6 дисперсия =  3.040 средняя время до сход =  0.7878821849822998 дисперсия =  0.001 \n",
      "\n",
      "11 115 мо кол-во итераций  37.0 дисперсия =  1.200 средняя время до сход =  0.796671199798584 дисперсия =  0.001 \n",
      "\n",
      "12 125 мо кол-во итераций  36.2 дисперсия =  2.160 средняя время до сход =  0.7810744285583496 дисперсия =  0.001 \n",
      "\n",
      "13 135 мо кол-во итераций  37.2 дисперсия =  0.960 средняя время до сход =  0.8059473514556885 дисперсия =  0.001 \n",
      "\n",
      "14 145 мо кол-во итераций  37.0 дисперсия =  0.400 средняя время до сход =  0.8691048145294189 дисперсия =  0.022 \n",
      "\n",
      "15 155 мо кол-во итераций  36.4 дисперсия =  0.640 средняя время до сход =  0.8060474395751953 дисперсия =  0.001 \n",
      "\n",
      "16 165 мо кол-во итераций  37.2 дисперсия =  1.360 средняя время до сход =  0.964501428604126 дисперсия =  0.008 \n",
      "\n",
      "17 175 мо кол-во итераций  36.2 дисперсия =  1.360 средняя время до сход =  0.9467546939849854 дисперсия =  0.009 \n",
      "\n",
      "18 185 мо кол-во итераций  36.6 дисперсия =  1.840 средняя время до сход =  1.0859828472137452 дисперсия =  0.064 \n",
      "\n",
      "19 195 мо кол-во итераций  36.8 дисперсия =  0.960 средняя время до сход =  0.8935086250305175 дисперсия =  0.002 \n",
      "\n",
      "20 205 мо кол-во итераций  36.0 дисперсия =  0.400 средняя время до сход =  0.9405888080596924 дисперсия =  0.006 \n",
      "\n",
      "21 215 мо кол-во итераций  37.0 дисперсия =  0.000 средняя время до сход =  0.9510229110717774 дисперсия =  0.001 \n",
      "\n",
      "22 225 мо кол-во итераций  36.6 дисперсия =  0.640 средняя время до сход =  0.8701952934265137 дисперсия =  0.005 \n",
      "\n",
      "23 235 мо кол-во итераций  37.0 дисперсия =  1.200 средняя время до сход =  0.9237846374511719 дисперсия =  0.015 \n",
      "\n",
      "24 245 мо кол-во итераций  36.4 дисперсия =  1.040 средняя время до сход =  0.8991220474243165 дисперсия =  0.003 \n",
      "\n",
      "25 255 мо кол-во итераций  36.0 дисперсия =  0.400 средняя время до сход =  0.7976485252380371 дисперсия =  0.000 \n",
      "\n",
      "26 265 мо кол-во итераций  36.6 дисперсия =  0.240 средняя время до сход =  0.8136392116546631 дисперсия =  0.000 \n",
      "\n",
      "27 275 мо кол-во итераций  36.6 дисперсия =  0.240 средняя время до сход =  0.8811966419219971 дисперсия =  0.019 \n",
      "\n",
      "28 285 мо кол-во итераций  37.2 дисперсия =  0.160 средняя время до сход =  0.8743757247924805 дисперсия =  0.004 \n",
      "\n",
      "29 295 мо кол-во итераций  36.6 дисперсия =  1.040 средняя время до сход =  0.8140434265136719 дисперсия =  0.000 \n",
      "\n",
      "30 305 мо кол-во итераций  36.6 дисперсия =  0.640 средняя время до сход =  0.8171273708343506 дисперсия =  0.000 \n",
      "\n",
      "31 315 мо кол-во итераций  36.2 дисперсия =  1.360 средняя время до сход =  0.80596923828125 дисперсия =  0.001 \n",
      "\n",
      "32 325 мо кол-во итераций  37.0 дисперсия =  0.400 средняя время до сход =  0.8267717838287354 дисперсия =  0.001 \n",
      "\n",
      "33 335 мо кол-во итераций  36.6 дисперсия =  0.640 средняя время до сход =  0.8132555484771729 дисперсия =  0.001 \n",
      "\n",
      "34 345 мо кол-во итераций  36.8 дисперсия =  0.160 средняя время до сход =  0.822868537902832 дисперсия =  0.000 \n",
      "\n",
      "35 355 мо кол-во итераций  36.4 дисперсия =  0.640 средняя время до сход =  0.8820009708404541 дисперсия =  0.012 \n",
      "\n",
      "36 365 мо кол-во итераций  36.0 дисперсия =  0.800 средняя время до сход =  0.8023265838623047 дисперсия =  0.000 \n",
      "\n",
      "37 375 мо кол-во итераций  36.4 дисперсия =  0.240 средняя время до сход =  0.8252088546752929 дисперсия =  0.000 \n",
      "\n",
      "38 385 мо кол-во итераций  36.4 дисперсия =  0.640 средняя время до сход =  0.8166807174682618 дисперсия =  0.000 \n",
      "\n",
      "39 395 мо кол-во итераций  36.2 дисперсия =  0.560 средняя время до сход =  0.8163383960723877 дисперсия =  0.000 \n",
      "\n",
      "40 405 мо кол-во итераций  36.6 дисперсия =  0.240 средняя время до сход =  0.8225917339324951 дисперсия =  0.000 \n",
      "\n",
      "41 415 мо кол-во итераций  36.4 дисперсия =  0.240 средняя время до сход =  0.8178205966949463 дисперсия =  0.000 \n",
      "\n",
      "42 425 мо кол-во итераций  36.4 дисперсия =  0.240 средняя время до сход =  0.8247776985168457 дисперсия =  0.000 \n",
      "\n",
      "43 435 мо кол-во итераций  36.6 дисперсия =  0.640 средняя время до сход =  0.8228162288665771 дисперсия =  0.001 \n",
      "\n",
      "44 445 мо кол-во итераций  36.6 дисперсия =  0.240 средняя время до сход =  0.8272465705871582 дисперсия =  0.000 \n",
      "\n",
      "45 455 мо кол-во итераций  36.4 дисперсия =  0.640 средняя время до сход =  0.8191769123077393 дисперсия =  0.000 \n",
      "\n",
      "46 465 мо кол-во итераций  36.6 дисперсия =  0.240 средняя время до сход =  0.8508202075958252 дисперсия =  0.000 \n",
      "\n",
      "47 475 мо кол-во итераций  36.8 дисперсия =  0.560 средняя время до сход =  0.8288478374481201 дисперсия =  0.000 \n",
      "\n",
      "48 485 мо кол-во итераций  36.8 дисперсия =  0.160 средняя время до сход =  0.8278738975524902 дисперсия =  0.000 \n",
      "\n",
      "49 495 мо кол-во итераций  36.0 дисперсия =  0.400 средняя время до сход =  0.8131716251373291 дисперсия =  0.000 \n",
      "\n"
     ]
    }
   ],
   "source": [
    "batch_sizes = np.arange(5, 500, 10)\n",
    "steps = []\n",
    "steps_time = []\n",
    "k = 5\n",
    "for j in range(len(batch_sizes)):\n",
    "    cur_iter = 0\n",
    "    cur1_iter = 0\n",
    "    cur_time = 0\n",
    "    cur1_time = 0\n",
    "    for i in range(k):\n",
    "        start = time.time()\n",
    "        model1 = LinearRegression(descent = StochasticDescent(lambda_ = 0.03593813663804628, w0 = w0, batch_size = batch_sizes[j] ),\n",
    "        tolerance = tolerance_default,\n",
    "        max_iter = max_iter_default, )\n",
    "    \n",
    "        model1.fit(X_train, y_train)\n",
    "        model1.calc_loss(X_val, y_val)\n",
    "        end = time.time()\n",
    "        cur_iter += len(model1.loss_history)\n",
    "        cur1_iter += len(model1.loss_history)**2\n",
    "        cur_time += end - start\n",
    "        cur1_time += (end - start)**2\n",
    "        \n",
    "    print(j, batch_sizes[j],\"мо кол-во итераций \", cur_iter/k, \"дисперсия = \", toFixed(cur1_iter/k - (cur_iter/k)**2, 3) ,\"средняя время до сход = \",cur_time/k, \"дисперсия = \", toFixed(cur1_time/k - (cur_time/k)**2, 3)  ,  \"\\n\")\n",
    "    #print(j, batch_sizes[j],\"значение R^2 = \", len(model1.rquad), \"\\n\")\n",
    "    steps.append(cur_iter/k)\n",
    "    steps_time.append(cur_time/k)"
   ]
  },
  {
   "cell_type": "code",
   "execution_count": 203,
   "metadata": {},
   "outputs": [
    {
     "data": {
      "text/plain": [
       "Text(0, 0.5, 'Количество итераций до сходимости')"
      ]
     },
     "execution_count": 203,
     "metadata": {},
     "output_type": "execute_result"
    },
    {
     "data": {
      "image/png": "[encoded data removed]",
      "text/plain": [
       "<Figure size 432x288 with 1 Axes>"
      ]
     },
     "metadata": {
      "needs_background": "light"
     },
     "output_type": "display_data"
    }
   ],
   "source": [
    "plt.plot(batch_sizes, steps)\n",
    "plt.xlabel(\"Размер батча\")\n",
    "plt.ylabel(\"Среднее время до сходимости, секунды\")"
   ]
  },
  {
   "cell_type": "markdown",
   "metadata": {},
   "source": [
    "Видна убывающая зависимость среднего количества итераций до сходимости от размера батча(k=5)"
   ]
  },
  {
   "cell_type": "code",
   "execution_count": 204,
   "metadata": {},
   "outputs": [
    {
     "data": {
      "text/plain": [
       "Text(0, 0.5, 'Количество итераций до сходимости')"
      ]
     },
     "execution_count": 204,
     "metadata": {},
     "output_type": "execute_result"
    },
    {
     "data": {
      "image/png": "[encoded data removed]",
      "text/plain": [
       "<Figure size 432x288 with 1 Axes>"
      ]
     },
     "metadata": {
      "needs_background": "light"
     },
     "output_type": "display_data"
    }
   ],
   "source": [
    "plt.plot(batch_sizes, steps_time)\n",
    "plt.xlabel(\"Размер батча\")\n",
    "plt.ylabel(\"Количество итераций до сходимости\")"
   ]
  },
  {
   "cell_type": "code",
   "execution_count": null,
   "metadata": {},
   "outputs": [],
   "source": [
    "Самое долгое время наблюдается для размера батча 160-210. "
   ]
  },
  {
   "cell_type": "markdown",
   "metadata": {},
   "source": [
    "Можно сделать вывод, что чем больше размер батча, тем быстрее происходит сходимость(делаю вывод из графика почти линейной зависимости)"
   ]
  },
  {
   "cell_type": "markdown",
   "metadata": {},
   "source": [
    "## Задание 7. Регуляризация (1 балл)"
   ]
  },
  {
   "cell_type": "markdown",
   "metadata": {},
   "source": [
    "В этом задании вам предстоит исследовать влияние регуляризации на работу различных методов градиентного спуска. (Напомним, регуляризация - это добавка к функции потерь, которая штрафует за норму весов). Мы будем использовать l2 регуляризацию, таким образом функция потерь приобретает следующий вид:\n",
    "\n",
    "$$\n",
    "    Q(w) = \\dfrac{1}{\\ell} \\sum\\limits_{i=1}^{\\ell} (a_w(x_i) - y_i)^2 + \\dfrac{1}{2} \\| w \\|^2\n",
    "$$"
   ]
  },
  {
   "cell_type": "markdown",
   "metadata": {},
   "source": [
    "Допишите классы **GradientDescentReg**, **StochasticDescentReg**, **MomentumDescentReg**, **AdagradReg** в файле `utils.py`. Мы будем использовать тот же самый класс для линейной регрессии, так как для сравнения методов с регуляризацией и без неё нам нужна только MSE часть функции потерь."
   ]
  },
  {
   "cell_type": "markdown",
   "metadata": {},
   "source": [
    "Найдите по валидационной выборке лучшие параметры обучения с регуляризацией. Сравните для каждого метода результаты на тестовой выборке по метрикам MSE и R^2 с регуляризацией и без регуляризации. Постройте для каждого метода график со значениями функции потерь MSE с регуляризацией и без регуляризации."
   ]
  },
  {
   "cell_type": "markdown",
   "metadata": {},
   "source": [
    "Посмотрите на получившиеся результаты. Какие можно сделать выводы, как регуляризация влияет на сходимость? Чем вы можете объяснить это?"
   ]
  },
  {
   "cell_type": "code",
   "execution_count": 205,
   "metadata": {},
   "outputs": [],
   "source": [
    "%autoreload 2\n",
    "\n",
    "from utils import (\n",
    "    AdagradReg,\n",
    "    GradientDescentReg,\n",
    "    MomentumDescentReg,\n",
    "    StochasticDescentReg,\n",
    ")\n",
    "\n",
    "# YOUR CODE:"
   ]
  },
  {
   "cell_type": "code",
   "execution_count": 210,
   "metadata": {},
   "outputs": [
    {
     "name": "stdout",
     "output_type": "stream",
     "text": [
      "0 0.0001 значение MSE 4.524954159115919 36 \n",
      "\n",
      "0 0.0001 значение r^2 -2.258360286076994 36 \n",
      "\n",
      "1 0.00035938136638046257 значение MSE 4.541494930866178 36 \n",
      "\n",
      "1 0.00035938136638046257 значение r^2 -2.2702710793970837 36 \n",
      "\n",
      "2 0.001291549665014884 значение MSE 4.60106843945784 36 \n",
      "\n",
      "2 0.001291549665014884 значение r^2 -2.313169183482023 36 \n",
      "\n",
      "3 0.004641588833612782 значение MSE 4.666698323014027 37 \n",
      "\n",
      "3 0.004641588833612782 значение r^2 -2.360428403938109 37 \n",
      "\n",
      "4 0.016681005372000592 значение MSE 4.161990546176672 51 \n",
      "\n",
      "4 0.016681005372000592 значение r^2 -1.9969949373673992 51 \n",
      "\n",
      "5 0.05994842503189409 значение MSE 20.970111752414027 51 \n",
      "\n",
      "5 0.05994842503189409 значение r^2 -14.100303102741753 51 \n",
      "\n",
      "6 0.21544346900318845 значение MSE nan 51 \n",
      "\n",
      "6 0.21544346900318845 значение r^2 nan 51 \n",
      "\n",
      "7 0.7742636826811278 значение MSE nan 51 \n",
      "\n",
      "7 0.7742636826811278 значение r^2 nan 51 \n",
      "\n",
      "8 2.782559402207126 значение MSE nan 51 \n",
      "\n",
      "8 2.782559402207126 значение r^2 nan 51 \n",
      "\n",
      "9 10.0 значение MSE nan 51 \n",
      "\n",
      "9 10.0 значение r^2 nan 51 \n",
      "\n"
     ]
    }
   ],
   "source": [
    "tolerance_default: float = 1e-3\n",
    "max_iter_default: int = 50\n",
    "mus = np.logspace(-4, 1, 10)\n",
    "for j in range(len(mus)):\n",
    "    model1 = LinearRegression(descent = GradientDescentReg(lambda_ = 0.03593813663804628, w0 = w0, mu = mus[j]),\n",
    "    tolerance = tolerance_default,\n",
    "    max_iter = max_iter_default)\n",
    "    \n",
    "    model1.fit(X_train, y_train)\n",
    "    model1.calc_loss(X_val, y_val)\n",
    "    print(j, mus[j],\"значение MSE\",  model1.loss_history[len(model1.loss_history)-1], len(model1.loss_history), \"\\n\")\n",
    "    print(j, mus[j],\"значение r^2\",  model1.rquad[len(model1.rquad)-1], len(model1.rquad), \"\\n\")"
   ]
  },
  {
   "cell_type": "markdown",
   "metadata": {},
   "source": [
    "Адекватное значение для lambda = 0.03593813663804628(взял оптимальное значения для предыдущего номера, ибо потом нужно будет сравнивать графики). Оптимальное mu в данном случае 0.0001, ибо имеет лучшую ошибку и лучший R^2."
   ]
  },
  {
   "cell_type": "code",
   "execution_count": 213,
   "metadata": {},
   "outputs": [],
   "source": [
    "model_best_reg = LinearRegression(descent = GradientDescentReg(lambda_ = 0.464158883361278, w0 = w0,mu = 0.0001 ),\n",
    "    tolerance = tolerance_default,\n",
    "    max_iter = max_iter_default)\n",
    "\n"
   ]
  },
  {
   "cell_type": "code",
   "execution_count": 214,
   "metadata": {},
   "outputs": [
    {
     "name": "stdout",
     "output_type": "stream",
     "text": [
      "[69.28035695274147, 50.18735789960306, 6.038488199197068, 0.8626394879486694, 0.7645031290846713, 0.7192979575237818, 0.6869727753589898, 0.6625083619402581, 0.6432033750717877, 0.6274657482985934, 0.6142998986614413, 0.6030528136415941, 0.5932789362895585, 0.5846639854377049, 0.5769798863951772, 0.5700570003984524] 16 \n",
      "\n",
      "[-49.94055840848805, -35.90183118133109, -3.4399881054306825, 0.36571722268560647, 0.4378750628092928, 0.471113585004466, 0.49488169046116626, 0.512869918806127, 0.5270645167326248, 0.538636101105346, 0.548316705564359, 0.5565864780738969, 0.5637730283751372, 0.5701074415675297, 0.5757574167309011, 0.5808476860941496] 16 \n",
      "\n"
     ]
    }
   ],
   "source": [
    "model_best_reg.fit(X_test, y_test)\n",
    "model_best_reg.calc_loss(X_test, y_test)\n",
    "print(model_best_reg.loss_history, len(model_best_reg.loss_history), \"\\n\")\n",
    "print(model_best_reg.rquad, len(model_best_reg.rquad), \"\\n\")"
   ]
  },
  {
   "cell_type": "code",
   "execution_count": 216,
   "metadata": {},
   "outputs": [],
   "source": [
    "bet_grad_reg = np.arange(len(model_best_reg.loss_history))"
   ]
  },
  {
   "cell_type": "code",
   "execution_count": 217,
   "metadata": {},
   "outputs": [
    {
     "data": {
      "text/plain": [
       "<matplotlib.legend.Legend at 0x1a1ef55c50>"
      ]
     },
     "execution_count": 217,
     "metadata": {},
     "output_type": "execute_result"
    },
    {
     "data": {
      "image/png": "[encoded data removed]",
      "text/plain": [
       "<Figure size 432x288 with 1 Axes>"
      ]
     },
     "metadata": {
      "needs_background": "light"
     },
     "output_type": "display_data"
    }
   ],
   "source": [
    "line_grad, = plt.plot(bet_grad, model_best.loss_history, label = 'Gradient')\n",
    "line_grad_reg, = plt.plot(bet_grad_reg, model_best_reg.loss_history, label = 'GradientReg')\n",
    "plt.xlabel(\"iteration number\")\n",
    "plt.ylabel(\"MSE score\")\n",
    "plt.legend(handles=[line_grad, line_grad_reg])"
   ]
  },
  {
   "cell_type": "markdown",
   "metadata": {},
   "source": [
    "Как видно из этого графика мю никак не повлияло на ошибку. Посмотрю что будет с этим же графиком, если mu=0.01. До этого я ставил ограничение на max_iter = 50 для быстроты работы(так как можно численно посмотреть очень большое значние MSE для данной итерации). Но теперь же значение MSE на данной итерации маленькое => на больших итерациях будет схожимость.\n",
    "Поставлю max_iter_default = 300"
   ]
  },
  {
   "cell_type": "code",
   "execution_count": 218,
   "metadata": {},
   "outputs": [
    {
     "name": "stdout",
     "output_type": "stream",
     "text": [
      "0 0.0001 значение MSE 4.524954159115919 36 \n",
      "\n",
      "0 0.0001 значение r^2 -2.258360286076994 36 \n",
      "\n",
      "1 0.00035938136638046257 значение MSE 4.541494930866178 36 \n",
      "\n",
      "1 0.00035938136638046257 значение r^2 -2.2702710793970837 36 \n",
      "\n",
      "2 0.001291549665014884 значение MSE 4.60106843945784 36 \n",
      "\n",
      "2 0.001291549665014884 значение r^2 -2.313169183482023 36 \n",
      "\n",
      "3 0.004641588833612782 значение MSE 4.666698323014027 37 \n",
      "\n",
      "3 0.004641588833612782 значение r^2 -2.360428403938109 37 \n",
      "\n",
      "4 0.016681005372000592 значение MSE 229.36511051567425 301 \n",
      "\n",
      "4 0.016681005372000592 значение r^2 -164.16281509953484 301 \n",
      "\n",
      "5 0.05994842503189409 значение MSE nan 301 \n",
      "\n",
      "5 0.05994842503189409 значение r^2 nan 301 \n",
      "\n",
      "6 0.21544346900318845 значение MSE nan 301 \n",
      "\n",
      "6 0.21544346900318845 значение r^2 nan 301 \n",
      "\n",
      "7 0.7742636826811278 значение MSE nan 301 \n",
      "\n",
      "7 0.7742636826811278 значение r^2 nan 301 \n",
      "\n",
      "8 2.782559402207126 значение MSE nan 301 \n",
      "\n",
      "8 2.782559402207126 значение r^2 nan 301 \n",
      "\n",
      "9 10.0 значение MSE nan 301 \n",
      "\n",
      "9 10.0 значение r^2 nan 301 \n",
      "\n"
     ]
    }
   ],
   "source": [
    "tolerance_default: float = 1e-3\n",
    "max_iter_default: int = 300\n",
    "mus = np.logspace(-4, 1, 10)\n",
    "for j in range(len(mus)):\n",
    "    model1 = LinearRegression(descent = GradientDescentReg(lambda_ = 0.03593813663804628, w0 = w0, mu = mus[j]),\n",
    "    tolerance = tolerance_default,\n",
    "    max_iter = max_iter_default)\n",
    "    \n",
    "    model1.fit(X_train, y_train)\n",
    "    model1.calc_loss(X_val, y_val)\n",
    "    print(j, mus[j],\"значение MSE\",  model1.loss_history[len(model1.loss_history)-1], len(model1.loss_history), \"\\n\")\n",
    "    print(j, mus[j],\"значение r^2\",  model1.rquad[len(model1.rquad)-1], len(model1.rquad), \"\\n\")"
   ]
  },
  {
   "cell_type": "markdown",
   "metadata": {},
   "source": [
    "Построю график для mu = 0.016681005372000592. (По крайней мере такое мю предлагается изначально).\n",
    "ВИдно что сходимость какая-то есть, так как MSE не доходит до беск, как для остальных случаев для мю больших этого значения."
   ]
  },
  {
   "cell_type": "code",
   "execution_count": 234,
   "metadata": {},
   "outputs": [
    {
     "name": "stdout",
     "output_type": "stream",
     "text": [
      "[69.28035695274147, 50.18735789960306, 47.175236130634595, 25.873479063352537, 400.4254854331112, 24482.149122742372, 32100202.243744317, 29763966197180.25, 2.0532599771827743e+25, 8.662427905499605e+48, 1.3876256202742787e+96, 3.237016982942047e+190, inf, nan, nan, nan, nan, nan, nan, nan, nan, nan, nan, nan, nan, nan, nan, nan, nan, nan, nan, nan, nan, nan, nan, nan, nan, nan, nan, nan, nan, nan, nan, nan, nan, nan, nan, nan, nan, nan, nan, nan, nan, nan, nan, nan, nan, nan, nan, nan, nan, nan, nan, nan, nan, nan, nan, nan, nan, nan, nan, nan, nan, nan, nan, nan, nan, nan, nan, nan, nan, nan, nan, nan, nan, nan, nan, nan, nan, nan, nan, nan, nan, nan, nan, nan, nan, nan, nan, nan, nan, nan, nan, nan, nan, nan, nan, nan, nan, nan, nan, nan, nan, nan, nan, nan, nan, nan, nan, nan, nan, nan, nan, nan, nan, nan, nan, nan, nan, nan, nan, nan, nan, nan, nan, nan, nan, nan, nan, nan, nan, nan, nan, nan, nan, nan, nan, nan, nan, nan, nan] 151 \n",
      "\n",
      "[-49.94055840848805, -35.90183118133109, -33.68707404590983, -18.024288116133153, -293.425414737206, -18000.269078377954, -23602680.903575707, -21884890973785.004, -1.5097238870584526e+25, -6.369322187246007e+48, -1.0202953198828639e+96, -2.3801184050092007e+190, -inf, nan, nan, nan, nan, nan, nan, nan, nan, nan, nan, nan, nan, nan, nan, nan, nan, nan, nan, nan, nan, nan, nan, nan, nan, nan, nan, nan, nan, nan, nan, nan, nan, nan, nan, nan, nan, nan, nan, nan, nan, nan, nan, nan, nan, nan, nan, nan, nan, nan, nan, nan, nan, nan, nan, nan, nan, nan, nan, nan, nan, nan, nan, nan, nan, nan, nan, nan, nan, nan, nan, nan, nan, nan, nan, nan, nan, nan, nan, nan, nan, nan, nan, nan, nan, nan, nan, nan, nan, nan, nan, nan, nan, nan, nan, nan, nan, nan, nan, nan, nan, nan, nan, nan, nan, nan, nan, nan, nan, nan, nan, nan, nan, nan, nan, nan, nan, nan, nan, nan, nan, nan, nan, nan, nan, nan, nan, nan, nan, nan, nan, nan, nan, nan, nan, nan, nan, nan, nan] 151 \n",
      "\n"
     ]
    }
   ],
   "source": [
    "model_best_reg1 = LinearRegression(descent = GradientDescentReg(lambda_ = 0.464158883361278, w0 = w0,mu = 0.016681005372000592 ),\n",
    "    tolerance = tolerance_default,\n",
    "    max_iter = max_iter_default)\n",
    "\n",
    "model_best_reg1.fit(X_test, y_test)\n",
    "model_best_reg1.calc_loss(X_test, y_test)\n",
    "print(model_best_reg1.loss_history, len(model_best_reg1.loss_history), \"\\n\")\n",
    "print(model_best_reg1.rquad, len(model_best_reg1.rquad), \"\\n\")\n"
   ]
  },
  {
   "cell_type": "markdown",
   "metadata": {},
   "source": [
    "Но как видно отсюда произошла на тестовой выборке расходимость. Но тем не менее хочется построить более-менее разумный график, чтобы не сильно совпадал, но и различался. Пусть это будет мю = 0.001291549665014884"
   ]
  },
  {
   "cell_type": "code",
   "execution_count": 235,
   "metadata": {},
   "outputs": [
    {
     "name": "stdout",
     "output_type": "stream",
     "text": [
      "[69.28035695274147, 50.18735789960306, 7.568547853528082, 0.8982684372394978, 0.8104098417414548, 0.7675496012503573, 0.7364965703938016, 0.7132045107254094, 0.6950683696729468, 0.6805093531629711, 0.6685345705939517, 0.6584924597509821, 0.6499389517426168, 0.6425613871576297, 0.6361333953396046, 0.6304870810138431, 0.6254952845897997, 0.6210599234811256, 0.6171041248241879, 0.6135667907446248, 0.6103987646529323, 0.6075600756421021, 0.605017923969515, 0.6027451855694543, 0.6007192863323366, 0.5989213439708917, 0.5973355063502657, 0.595948436013619, 0.5947489048709135, 0.5937274728855927, 0.5928762315297658, 0.592188597718578, 0.5916591474965675, 0.5912834813471995, 0.5910581149130858, 0.5909803903424447, 0.5910484045522807, 0.5912609515157681, 0.5916174763082406, 0.5921180391318576, 0.5927632879189401, 0.5935544384141518, 0.5944932608754943, 0.5955820727278432, 0.5968237366614007, 0.5982216637992473, 0.5997798216695368, 0.6015027468137408, 0.6033955619466675, 0.6054639976598734, 0.6077144187301454, 0.610153855161073, 0.6127900381502157, 0.6156314412386279, 0.6186873269649729, 0.6219677994145815, 0.6254838631259577, 0.6292474888947387, 0.6332716870994936, 0.6375705892665066, 0.6421595386934862, 0.64705519106693, 0.6522756261366676, 0.65784047165635, 0.6637710409630718, 0.6700904857560528, 0.6768239658470451, 0.6839988378980885, 0.6916448654404102, 0.6997944527874619, 0.7084829058220998, 0.7177487230608562, 0.7276339208865158, 0.738184397405135, 0.7494503400384197, 0.7614866827229307, 0.774353619472725, 0.7881171820942243, 0.8028498910483894, 0.8186314898678484, 0.8355497751944604, 0.8537015364527313, 0.873193621473165, 0.8941441470957813, 0.9166838770010768, 0.9409577928354194, 0.967126889244565, 0.9953702288551985, 1.025887299737388, 1.0589007256720664, 1.0946593889230039, 1.1334420365275837, 1.1755614548175897, 1.2213693135135206, 1.2712618009981274, 1.3256861971416092, 1.3851485604284515, 1.4502227435288657, 1.5215609976571645, 1.5999064833588648, 1.6861080767185654, 1.7811379491953854, 1.8861125113251647, 2.0023174518444664, 2.1312377828751177, 2.2745940298542973, 2.4343859967588233, 2.612945912682423, 2.8130032516143166, 3.037764149341085, 3.2910091687535035, 3.5772142546530987, 3.901701164167961, 4.270825588177561, 4.692213773806256, 5.175061974347375, 5.730517856868466, 6.3721696167728625, 7.116677750948277, 7.984597357377998, 9.001457141887848, 10.199187556496971, 11.618028534738295, 13.309103104918767, 15.337926129005595, 17.789242468679234, 20.77378020939468, 24.437802051411204, 28.976808602463883, 34.65550600900269, 41.837398759609634, 51.02946901666054, 62.95102559437634, 78.64222067400154, 99.63943775369698, 128.26683123945116, 168.13650490483911, 225.0379734231274, 308.5861308988909, 435.4227940613135, 635.790697259527, 967.9477087192028, 1552.367146133227, 2661.1305916216006, 4981.7737958649295, 10528.612770170324, 26531.962971301156, 87849.60799772754, 461635.2865771842, 5773140.317436777, 435928151.3724264] 151 \n",
      "\n",
      "[-49.94055840848805, -35.90183118133109, -4.565012522425056, 0.3395199186846969, 0.4041207104893453, 0.4356350484658069, 0.45846776471737005, 0.47559398314608115, 0.4889291504752239, 0.4996341246340964, 0.508438959622204, 0.5158227370223369, 0.5221119724342564, 0.5275365585100802, 0.5322629413847924, 0.5364145713323738, 0.5400849464356043, 0.5433461849966769, 0.5462548102030022, 0.548855746185668, 0.5511851368710186, 0.5532723721238386, 0.5551415689850643, 0.5568126712759269, 0.5583022773195058, 0.5596242709105717, 0.5607903078291601, 0.5618101948593154, 0.5626921878068902, 0.5634432277552558, 0.564069129697935, 0.5645747340548286, 0.5649640289595462, 0.5652402492947997, 0.5654059570437957, 0.5654631064755348, 0.5654130968915609, 0.5652568150609771, 0.5649946690095732, 0.5646266144718205, 0.5641521750351299, 0.5635704567850532, 0.5628801580837945, 0.5620795749719282, 0.5611666025665718, 0.5601387327323435, 0.5589930482195562, 0.5577262133936092, 0.5563344616175453, 0.554813579293936, 0.5531588865207437, 0.5513652142670308, 0.54942687792697, 0.5473376470633637, 0.5450907111037421, 0.542678640702016, 0.5400933444256197, 0.5373260203710821, 0.5343671022489298, 0.531206199410619, 0.5278320302146071, 0.5242323480442743, 0.5203938591957096, 0.5163021317465719, 0.5119414943963525, 0.5072949241310514, 0.5023439214088574, 0.49706837138478754, 0.49144638948769326, 0.48545414942835374, 0.47906569144751077, 0.47225270830172217, 0.4649843061258939, 0.45722673689597904, 0.44894309873388094, 0.4400929997373766, 0.4306321803670561, 0.42051208866331924, 0.40967940167952044, 0.3980754854787081, 0.38563578482243654, 0.3722891322463734, 0.35795696452726167, 0.3425524325486605, 0.3259793882074561, 0.3081312291945699, 0.2888895791401862, 0.26812277662403217, 0.24568414177706455, 0.22140998347217966, 0.19511730320804088, 0.1666011434705189, 0.13563151828517006, 0.10194985144474678, 0.0652648329973382, 0.0252475863702043, -0.018473983831668983, -0.06632182080763172, -0.1187755127489285, -0.176381491787853, -0.23976392072712538, -0.3096376191660457, -0.3868234630153373, -0.4722667952994981, -0.5670595178223956, -0.672466700950016, -0.7899587633662029, -0.9212505497628216, -1.0683489916178264, -1.2336115009666844, -1.4198178554148413, -1.6302591339581927, -1.8688483256710322, -2.1402586518921716, -2.4500975503451325, -2.8051268550999615, -3.213543238494249, -3.685337847976636, -4.232760837157069, -4.870925987422734, -5.6186040815382245, -6.49927298722296, -7.542520379463747, -8.785936070496476, -10.27769192027477, -12.080099250017675, -14.274574362306138, -16.968661501327915, -20.30610862920764, -24.481549254019153, -29.762261467949408, -36.52101982919221, -45.286718735470664, -56.82416274716752, -72.26302608607247, -93.31221627628157, -122.62764606635118, -164.46623795700552, -225.89764482344017, -319.1582851023359, -466.4850790883617, -710.7139541588574, -1140.4267009761465, -1955.6798483383147, -3662.0056510713553, -7740.493222170697, -19507.459091129534, -64593.183462761954, -339430.84350717504, -4244881.7413142845, -320529863.93760526] 151 \n",
      "\n"
     ]
    }
   ],
   "source": [
    "tolerance_default: float = 1e-3\n",
    "max_iter_default: int = 150\n",
    "model_best_reg2 = LinearRegression(descent = GradientDescentReg(lambda_ = 0.464158883361278, w0 = w0,mu = 0.001291549665014884 ),\n",
    "    tolerance = tolerance_default,\n",
    "    max_iter = max_iter_default)\n",
    "\n",
    "model_best_reg2.fit(X_test, y_test)\n",
    "model_best_reg2.calc_loss(X_test, y_test)\n",
    "print(model_best_reg2.loss_history, len(model_best_reg2.loss_history), \"\\n\")\n",
    "print(model_best_reg2.rquad, len(model_best_reg2.rquad), \"\\n\")"
   ]
  },
  {
   "cell_type": "code",
   "execution_count": 236,
   "metadata": {},
   "outputs": [
    {
     "data": {
      "text/plain": [
       "<matplotlib.legend.Legend at 0x1a20140a58>"
      ]
     },
     "execution_count": 236,
     "metadata": {},
     "output_type": "execute_result"
    },
    {
     "data": {
      "image/png": "[encoded data removed]",
      "text/plain": [
       "<Figure size 432x288 with 1 Axes>"
      ]
     },
     "metadata": {
      "needs_background": "light"
     },
     "output_type": "display_data"
    }
   ],
   "source": [
    "bet_grad_reg2 = np.arange(len(model_best_reg2.loss_history))\n",
    "\n",
    "line_grad, = plt.plot(bet_grad, model_best.loss_history, label = 'Gradient')\n",
    "line_grad_reg, = plt.plot(bet_grad_reg2, model_best_reg2.loss_history, label = 'GradientReg')\n",
    "plt.xlabel(\"iteration number\")\n",
    "plt.ylabel(\"MSE score\")\n",
    "plt.legend(handles=[line_grad, line_grad_reg])"
   ]
  },
  {
   "cell_type": "markdown",
   "metadata": {},
   "source": [
    "Со 140 итерации происходит расходимость для Градиентного метода, мю равное mu = 0.001291549665014884\n",
    "Итого: для градиентного метода мю = 0.0001 дает такой же график ошибки для MSE.\n",
    "Наилучший R^2 для данного метода: 0.5652568150609771 против 0.5783308665471971. Несущественное различие."
   ]
  },
  {
   "cell_type": "markdown",
   "metadata": {},
   "source": [
    "#  ДЛя Momentum_reg"
   ]
  },
  {
   "cell_type": "code",
   "execution_count": 237,
   "metadata": {},
   "outputs": [
    {
     "name": "stdout",
     "output_type": "stream",
     "text": [
      "0 0.0001 значение MSE 0.5796609658735077 16 \n",
      "\n",
      "0 0.0001 значение r^2 0.5825937226819795 16 \n",
      "\n",
      "1 0.00035938136638046257 значение MSE 0.5411247420670358 28 \n",
      "\n",
      "1 0.00035938136638046257 значение r^2 0.6103431532421592 28 \n",
      "\n",
      "2 0.001291549665014884 значение MSE nan 151 \n",
      "\n",
      "2 0.001291549665014884 значение r^2 nan 151 \n",
      "\n",
      "3 0.004641588833612782 значение MSE nan 151 \n",
      "\n",
      "3 0.004641588833612782 значение r^2 nan 151 \n",
      "\n",
      "4 0.016681005372000592 значение MSE nan 151 \n",
      "\n",
      "4 0.016681005372000592 значение r^2 nan 151 \n",
      "\n",
      "5 0.05994842503189409 значение MSE nan 151 \n",
      "\n",
      "5 0.05994842503189409 значение r^2 nan 151 \n",
      "\n",
      "6 0.21544346900318845 значение MSE nan 151 \n",
      "\n",
      "6 0.21544346900318845 значение r^2 nan 151 \n",
      "\n",
      "7 0.7742636826811278 значение MSE nan 151 \n",
      "\n",
      "7 0.7742636826811278 значение r^2 nan 151 \n",
      "\n",
      "8 2.782559402207126 значение MSE nan 151 \n",
      "\n",
      "8 2.782559402207126 значение r^2 nan 151 \n",
      "\n",
      "9 10.0 значение MSE nan 151 \n",
      "\n",
      "9 10.0 значение r^2 nan 151 \n",
      "\n"
     ]
    }
   ],
   "source": [
    "tolerance_default: float = 1e-3\n",
    "max_iter_default: int = 150\n",
    "mus = np.logspace(-4, 1, 10)\n",
    "for j in range(len(mus)):\n",
    "    model1 = LinearRegression(descent = MomentumDescentReg(lambda_ = 0.464158883361278, w0 = w0, mu = mus[j]),\n",
    "    tolerance = tolerance_default,\n",
    "    max_iter = max_iter_default)\n",
    "    \n",
    "    model1.fit(X_train, y_train)\n",
    "    model1.calc_loss(X_val, y_val)\n",
    "    print(j, mus[j],\"значение MSE\",  model1.loss_history[len(model1.loss_history)-1], len(model1.loss_history), \"\\n\")\n",
    "    print(j, mus[j],\"значение r^2\",  model1.rquad[len(model1.rquad)-1], len(model1.rquad), \"\\n\")"
   ]
  },
  {
   "cell_type": "code",
   "execution_count": 253,
   "metadata": {},
   "outputs": [
    {
     "name": "stdout",
     "output_type": "stream",
     "text": [
      "[69.28035695274147, 50.18735789960306, 1.6346837321185543, 1.3348518458006218, 0.7374414133318922, 0.6946937099876865, 0.6646419614783711, 0.6437283922148567, 0.6271314021012161, 0.6133787277911898, 0.601780264368441, 0.5918099772597585, 0.5830909459069846, 0.5753583218757069, 0.56842192834306, 0.5621410226585307, 0.5564085941776701, 0.551141448757104, 0.5462736967155953, 0.5417523158046444, 0.537534039073327, 0.5335831211046287, 0.5298697032939759, 0.5263685969145049, 0.523058363155188, 0.5199206078635095, 0.5169394339277822, 0.514101011051548] 28 \n",
      "\n",
      "[-49.94055840848805, -35.90183118133109, -0.20195255622301356, 0.018508255318769318, 0.45777303927149104, 0.4892046307761312, 0.511301122733588, 0.5266784813884333, 0.5388819396481204, 0.5489940253788663, 0.5575221598952385, 0.5648531266388954, 0.5712640682885523, 0.576949722973976, 0.5820499241772561, 0.5866681573526311, 0.5908831054374245, 0.5947559395385158, 0.5983351071134988, 0.6016595944359073, 0.6047612148903374, 0.6076662514173419, 0.6103966584937331, 0.6129709569220658, 0.6154049102614987, 0.6177120433903931, 0.6199040451594134, 0.6219910847284131] 28 \n",
      "\n"
     ]
    }
   ],
   "source": [
    "tolerance_default: float = 1e-3\n",
    "max_iter_default: int = 150\n",
    "model_best_mom_reg = LinearRegression(descent = MomentumDescentReg(lambda_ = 0.464158883361278, w0 = w0,mu = 0.00035938136638046257 ),\n",
    "    tolerance = tolerance_default,\n",
    "    max_iter = max_iter_default)\n",
    "\n",
    "model_best_mom_reg.fit(X_test, y_test)\n",
    "model_best_mom_reg.calc_loss(X_test, y_test)\n",
    "print(model_best_mom_reg.loss_history, len(model_best_mom_reg.loss_history), \"\\n\")\n",
    "print(model_best_mom_reg.rquad, len(model_best_mom_reg.rquad), \"\\n\")"
   ]
  },
  {
   "cell_type": "code",
   "execution_count": 254,
   "metadata": {},
   "outputs": [
    {
     "data": {
      "text/plain": [
       "<matplotlib.legend.Legend at 0x1a218dbcc0>"
      ]
     },
     "execution_count": 254,
     "metadata": {},
     "output_type": "execute_result"
    },
    {
     "data": {
      "image/png": "[encoded data removed]",
      "text/plain": [
       "<Figure size 432x288 with 1 Axes>"
      ]
     },
     "metadata": {
      "needs_background": "light"
     },
     "output_type": "display_data"
    }
   ],
   "source": [
    "bet_grad_mom_reg = np.arange(len(model_best_mom_reg.loss_history))\n",
    "\n",
    "line_mom, = plt.plot(bet_mom,model_best_mom.loss_history, label = 'Momentum' )\n",
    "line_mom_reg, = plt.plot(bet_grad_mom_reg, model_best_mom_reg.loss_history, label = 'MomentumReg')\n",
    "plt.xlabel(\"iteration number\")\n",
    "plt.ylabel(\"MSE score\")\n",
    "plt.legend(handles=[line_mom, line_mom_reg])"
   ]
  },
  {
   "cell_type": "code",
   "execution_count": 255,
   "metadata": {},
   "outputs": [
    {
     "data": {
      "text/plain": [
       "Text(0, 0.5, 'difference between MSE score')"
      ]
     },
     "execution_count": 255,
     "metadata": {},
     "output_type": "execute_result"
    },
    {
     "data": {
      "image/png": "[encoded data removed]",
      "text/plain": [
       "<Figure size 432x288 with 1 Axes>"
      ]
     },
     "metadata": {
      "needs_background": "light"
     },
     "output_type": "display_data"
    }
   ],
   "source": [
    "plt.plot(bet_mom,np.array(model_best_mom.loss_history) - np.array(model_best_mom_reg.loss_history[0:15]))\n",
    "plt.xlabel(\"iteration number\")\n",
    "plt.ylabel(\"difference between MSE score\")"
   ]
  },
  {
   "cell_type": "markdown",
   "metadata": {},
   "source": [
    "Аналогичные  графики ошибок. Хочу все-таки найти такую мю, чтобы ошибки где-то отличались."
   ]
  },
  {
   "cell_type": "code",
   "execution_count": 242,
   "metadata": {},
   "outputs": [
    {
     "name": "stdout",
     "output_type": "stream",
     "text": [
      "[69.28035695274147, 50.18735789960306, 1.6964343648861906, 1.3522843720604316, 0.743056195658844, 0.6991298874465577, 0.6696680942682027, 0.649186108423267, 0.632734098648546, 0.6190540298710445, 0.6075258216197666, 0.5976308499114115, 0.5889891920955628, 0.581333949569325, 0.5744742288206239, 0.56826912934295, 0.5626116489749224, 0.5574186412820694, 0.5526242710761194, 0.5481755703225935, 0.5440293244717604, 0.5401498382091152, 0.5365073004971249, 0.5330765675362935, 0.5298362427993839, 0.5267679718415956, 0.5238558947957866, 0.5210862162852247, 0.5184468639161335, 0.5159272144043996, 0.5135178719225632, 0.5112104871851683, 0.5089976086219953, 0.5068725590526746, 0.5048293327979477, 0.5028625092968406, 0.5009671801526016, 0.49913888717880783, 0.49737356951420336, 0.49566751825913724, 0.4940173373858761, 0.4924199099100782, 0.49087236849647226, 0.4893720698196104, 0.4879165721189351, 0.48650361548274673, 0.48513110447293284, 0.48379709276523797, 0.48249976953138846, 0.4812374473317888, 0.4800085513225454, 0.4788116096096922, 0.4776452446077487, 0.4765081652800761, 0.47539916015557115] 55 \n",
      "\n",
      "[-49.94055840848805, -35.90183118133109, -0.2473566484306593, 0.005690442865073475, 0.45364459421639225, 0.48594279196793644, 0.5076055007389741, 0.5226655241301281, 0.534762381042079, 0.5448210812746399, 0.5532975584696119, 0.5605731471996706, 0.5669271975261532, 0.5725559550295962, 0.5775997801603399, 0.5821622744412014, 0.5863221145720623, 0.5901404365803331, 0.5936656478559434, 0.5969366948098651, 0.5999853522970715, 0.6028378664186719, 0.6055161566763179, 0.6080387108383059, 0.6104212613733098, 0.6126773039633457, 0.6148185000738572, 0.6168549931888718, 0.6187956599150837, 0.6206483113557937, 0.622419856088246, 0.6241164331868065, 0.6257435216525183, 0.6273060310919654, 0.6288083773694486, 0.6302545461226737, 0.6316481464045152, 0.6329924562365632, 0.6342904614945999, 0.6355448892635829, 0.6367582365795657, 0.6379327953031835, 0.6390706737327523, 0.640173815456329, 0.6412440158550545, 0.6422829365999854, 0.6432921184278071, 0.644272992434559, 0.6452268900886038, 0.6461550521329029, 0.6470586365208922, 0.6479387255088394, 0.6487963320097361, 0.64963240529882, 0.65044783614827] 55 \n",
      "\n"
     ]
    }
   ],
   "source": [
    "tolerance_default: float = 1e-3\n",
    "max_iter_default: int = 150\n",
    "model_best_mom_reg = LinearRegression(descent = MomentumDescentReg(lambda_ = 0.464158883361278, w0 = w0,mu = 0.0005),\n",
    "    tolerance = tolerance_default,\n",
    "    max_iter = max_iter_default)\n",
    "\n",
    "model_best_mom_reg.fit(X_test, y_test)\n",
    "model_best_mom_reg.calc_loss(X_test, y_test)\n",
    "print(model_best_mom_reg.loss_history, len(model_best_mom_reg.loss_history), \"\\n\")\n",
    "print(model_best_mom_reg.rquad, len(model_best_mom_reg.rquad), \"\\n\")"
   ]
  },
  {
   "cell_type": "code",
   "execution_count": 243,
   "metadata": {},
   "outputs": [
    {
     "data": {
      "text/plain": [
       "<matplotlib.legend.Legend at 0x1a2172ee10>"
      ]
     },
     "execution_count": 243,
     "metadata": {},
     "output_type": "execute_result"
    },
    {
     "data": {
      "image/png": "[encoded data removed]",
      "text/plain": [
       "<Figure size 432x288 with 1 Axes>"
      ]
     },
     "metadata": {
      "needs_background": "light"
     },
     "output_type": "display_data"
    }
   ],
   "source": [
    "bet_grad_mom_reg = np.arange(len(model_best_mom_reg.loss_history))\n",
    "\n",
    "line_mom, = plt.plot(bet_mom,model_best_mom.loss_history, label = 'Momentum' )\n",
    "line_mom_reg, = plt.plot(bet_grad_mom_reg, model_best_mom_reg.loss_history, label = 'MomentumReg')\n",
    "plt.xlabel(\"iteration number\")\n",
    "plt.ylabel(\"MSE score\")\n",
    "plt.legend(handles=[line_mom, line_mom_reg])"
   ]
  },
  {
   "cell_type": "code",
   "execution_count": 252,
   "metadata": {},
   "outputs": [
    {
     "data": {
      "text/plain": [
       "Text(0, 0.5, 'difference between MSE score')"
      ]
     },
     "execution_count": 252,
     "metadata": {},
     "output_type": "execute_result"
    },
    {
     "data": {
      "image/png": "[encoded data removed]",
      "text/plain": [
       "<Figure size 432x288 with 1 Axes>"
      ]
     },
     "metadata": {
      "needs_background": "light"
     },
     "output_type": "display_data"
    }
   ],
   "source": [
    "plt.plot(bet_mom,np.array(model_best_mom.loss_history) - np.array(model_best_mom_reg.loss_history[0:15]))\n",
    "plt.xlabel(\"iteration number\")\n",
    "plt.ylabel(\"difference between MSE score\")"
   ]
  },
  {
   "cell_type": "markdown",
   "metadata": {},
   "source": [
    "Это график отличия по  MSE - разница между Momentum и MomentumReg для первых значений\n",
    "С регуляризацией моментум имеет лучший R^2 0.65044783614827 против 0.5921242733311123"
   ]
  },
  {
   "cell_type": "markdown",
   "metadata": {},
   "source": [
    "# Для адаград_REg"
   ]
  },
  {
   "cell_type": "code",
   "execution_count": 257,
   "metadata": {},
   "outputs": [
    {
     "name": "stdout",
     "output_type": "stream",
     "text": [
      "0 0.0001 значение MSE 66.11401838331248 8 \n",
      "\n",
      "0 0.0001 значение r^2 -46.607839610741806 8 \n",
      "\n",
      "1 0.00035938136638046257 значение MSE 66.11411994158824 8 \n",
      "\n",
      "1 0.00035938136638046257 значение r^2 -46.6079127415274 8 \n",
      "\n",
      "2 0.001291549665014884 значение MSE 66.114467181578 8 \n",
      "\n",
      "2 0.001291549665014884 значение r^2 -46.608162784500784 8 \n",
      "\n",
      "3 0.004641588833612782 значение MSE 66.11565469361128 8 \n",
      "\n",
      "3 0.004641588833612782 значение r^2 -46.6090178963787 8 \n",
      "\n",
      "4 0.016681005372000592 значение MSE 66.11984518190678 8 \n",
      "\n",
      "4 0.016681005372000592 значение r^2 -46.612035412172496 8 \n",
      "\n",
      "5 0.05994842503189409 значение MSE 66.13461387176503 8 \n",
      "\n",
      "5 0.05994842503189409 значение r^2 -46.62267015250782 8 \n",
      "\n",
      "6 0.21544346900318845 значение MSE 66.0434235468798 9 \n",
      "\n",
      "6 0.21544346900318845 значение r^2 -46.55700519268014 9 \n",
      "\n",
      "7 0.7742636826811278 значение MSE 65.94965294417888 11 \n",
      "\n",
      "7 0.7742636826811278 значение r^2 -46.489482208557384 11 \n",
      "\n",
      "8 2.782559402207126 значение MSE 66.1174920068671 12 \n",
      "\n",
      "8 2.782559402207126 значение r^2 -46.61034092161505 12 \n",
      "\n",
      "9 10.0 значение MSE 66.51435946467754 13 \n",
      "\n",
      "9 10.0 значение r^2 -46.89611998542296 13 \n",
      "\n"
     ]
    }
   ],
   "source": [
    "tolerance_default: float = 1e-3\n",
    "max_iter_default: int = 150\n",
    "mus = np.logspace(-4, 1, 10)\n",
    "for j in range(len(mus)):\n",
    "    model1 = LinearRegression(descent = AdagradReg(lambda_ = 0.01, w0 = w0, mu = mus[j]),\n",
    "    tolerance = tolerance_default,\n",
    "    max_iter = max_iter_default)\n",
    "    \n",
    "    model1.fit(X_train, y_train)\n",
    "    model1.calc_loss(X_val, y_val)\n",
    "    print(j, mus[j],\"значение MSE\",  model1.loss_history[len(model1.loss_history)-1], len(model1.loss_history), \"\\n\")\n",
    "    print(j, mus[j],\"значение r^2\",  model1.rquad[len(model1.rquad)-1], len(model1.rquad), \"\\n\")"
   ]
  },
  {
   "cell_type": "markdown",
   "metadata": {},
   "source": [
    "Как видно для метода Адаград для любых значениях из валидационной сетки параметры сходимости имеют одинаковые значения. (Количество итераций). Лушчее значение имеет мю = 0.0001(лучше показатель MSE)"
   ]
  },
  {
   "cell_type": "code",
   "execution_count": 266,
   "metadata": {},
   "outputs": [
    {
     "name": "stdout",
     "output_type": "stream",
     "text": [
      "[69.28035695274147, 68.09439732526505, 67.50821219225458, 67.11952454853011, 66.82902121719596, 66.59721225202162, 66.40442786372726, 66.23945942646618] 8 \n",
      "\n",
      "[-49.94055840848805, -49.068544343739774, -48.63753331377819, -48.351738515819655, -48.13813681732116, -47.96769199501561, -47.82594121854586, -47.70464299371732] 8 \n",
      "\n"
     ]
    }
   ],
   "source": [
    "tolerance_default: float = 1e-3\n",
    "max_iter_default: int = 150\n",
    "model_best_ada_reg = LinearRegression(descent = AdagradReg(lambda_ = 0.01, w0 = w0,mu = 0.0001),\n",
    "    tolerance = tolerance_default,\n",
    "    max_iter = max_iter_default)\n",
    "\n",
    "model_best_ada_reg.fit(X_test, y_test)\n",
    "model_best_ada_reg.calc_loss(X_test, y_test)\n",
    "print(model_best_ada_reg.loss_history, len(model_best_ada_reg.loss_history), \"\\n\")\n",
    "print(model_best_ada_reg.rquad, len(model_best_ada_reg.rquad), \"\\n\")"
   ]
  },
  {
   "cell_type": "code",
   "execution_count": 267,
   "metadata": {},
   "outputs": [
    {
     "data": {
      "text/plain": [
       "<matplotlib.legend.Legend at 0x1a21c96860>"
      ]
     },
     "execution_count": 267,
     "metadata": {},
     "output_type": "execute_result"
    },
    {
     "data": {
      "image/png": "[encoded data removed]",
      "text/plain": [
       "<Figure size 432x288 with 1 Axes>"
      ]
     },
     "metadata": {
      "needs_background": "light"
     },
     "output_type": "display_data"
    }
   ],
   "source": [
    "bet_grad_ada_reg = np.arange(len(model_best_ada_reg.loss_history))\n",
    "\n",
    "line_ada, = plt.plot(bet_adag,model_best_adag.loss_history, label = 'Adagrad' )\n",
    "line_ada_reg, = plt.plot(bet_grad_ada_reg, model_best_ada_reg.loss_history, label = 'AdagradReg')\n",
    "plt.xlabel(\"iteration number\")\n",
    "plt.ylabel(\"MSE score\")\n",
    "plt.legend(handles=[line_ada, line_ada_reg])"
   ]
  },
  {
   "cell_type": "markdown",
   "metadata": {},
   "source": [
    "Как видно из данного графика регуляризованный адаград сходится быстрее, но имеет большую ошибку \n",
    "R^2 у регуляризованного -47.7046429937173, что в разы хуже 0.7636303400208019"
   ]
  },
  {
   "cell_type": "markdown",
   "metadata": {},
   "source": [
    "# ДЛя Stochastic_reg"
   ]
  },
  {
   "cell_type": "code",
   "execution_count": 265,
   "metadata": {},
   "outputs": [
    {
     "name": "stdout",
     "output_type": "stream",
     "text": [
      "0 0.0001 значение MSE 3.85875820898823 42 \n",
      "\n",
      "0 0.0001 значение r^2 -1.778641298809839 42 \n",
      "\n",
      "1 0.00035938136638046257 значение MSE 5.815908225172241 34 \n",
      "\n",
      "1 0.00035938136638046257 значение r^2 -3.1879594183717135 34 \n",
      "\n",
      "2 0.001291549665014884 значение MSE 8.572288819816068 27 \n",
      "\n",
      "2 0.001291549665014884 значение r^2 -5.172793020455206 27 \n",
      "\n",
      "3 0.004641588833612782 значение MSE 6.640829218652217 36 \n",
      "\n",
      "3 0.004641588833612782 значение r^2 -3.781974232619354 36 \n",
      "\n",
      "4 0.016681005372000592 значение MSE 4.03108321734678 151 \n",
      "\n",
      "4 0.016681005372000592 значение r^2 -1.9027302826511887 151 \n",
      "\n",
      "5 0.05994842503189409 значение MSE nan 151 \n",
      "\n",
      "5 0.05994842503189409 значение r^2 nan 151 \n",
      "\n",
      "6 0.21544346900318845 значение MSE nan 151 \n",
      "\n",
      "6 0.21544346900318845 значение r^2 nan 151 \n",
      "\n",
      "7 0.7742636826811278 значение MSE nan 151 \n",
      "\n",
      "7 0.7742636826811278 значение r^2 nan 151 \n",
      "\n",
      "8 2.782559402207126 значение MSE nan 151 \n",
      "\n",
      "8 2.782559402207126 значение r^2 nan 151 \n",
      "\n",
      "9 10.0 значение MSE nan 151 \n",
      "\n",
      "9 10.0 значение r^2 nan 151 \n",
      "\n"
     ]
    }
   ],
   "source": [
    "tolerance_default: float = 1e-3\n",
    "max_iter_default: int = 150\n",
    "mus = np.logspace(-4, 1, 10)\n",
    "for j in range(len(mus)):\n",
    "    model1 = LinearRegression(descent = StochasticDescentReg(lambda_ = 0.03593813663804628, w0 = w0, mu = mus[j], batch_size = 2),\n",
    "    tolerance = tolerance_default,\n",
    "    max_iter = max_iter_default)\n",
    "    \n",
    "    model1.fit(X_train, y_train)\n",
    "    model1.calc_loss(X_val, y_val)\n",
    "    print(j, mus[j],\"значение MSE\",  model1.loss_history[len(model1.loss_history)-1], len(model1.loss_history), \"\\n\")\n",
    "    print(j, mus[j],\"значение r^2\",  model1.rquad[len(model1.rquad)-1], len(model1.rquad), \"\\n\")"
   ]
  },
  {
   "cell_type": "markdown",
   "metadata": {},
   "source": [
    "Быстрее всего сходится для мю = 0.001291549665014884. Посмотрю качество на тестовой"
   ]
  },
  {
   "cell_type": "code",
   "execution_count": 270,
   "metadata": {},
   "outputs": [
    {
     "name": "stdout",
     "output_type": "stream",
     "text": [
      "[69.28035695274147, 51.01772286223378, 43.18498158907865, 35.399217773953815, 31.20381496363781, 27.720014893338845, 25.068493447217357, 22.666933862954355, 20.925663776295682, 19.395981996688636, 18.240776108819748, 16.95002496310904, 15.814892389386527, 13.959365928152518, 12.916974797962382, 11.98355444877766, 11.213745288481984, 10.300399732562434, 9.558704227006064, 9.1737245491259, 8.795010255513906, 8.582079849981394, 8.205899155704495, 7.919090431862387, 7.468182896683208, 7.142251204083487, 6.812568102677961, 6.509878401298203, 6.224879956278672, 6.0871914761182975, 5.921697121587489, 5.540233015398639, 5.2422932401115565, 5.103862887734068, 4.9341923606155635, 4.703326903391591, 4.551462574796971, 4.54257354365504] 38 \n",
      "\n",
      "[-49.94055840848805, -36.51238310022646, -30.753114068227845, -25.02838668771504, -21.94358500212586, -19.382011581168815, -17.43239715886371, -15.666575046297751, -14.386251525232533, -13.261504952497255, -12.412103540709555, -11.463038220885197, -10.628396343786715, -9.264062234748238, -8.497611416832248, -7.811284788207191, -7.245258424916646, -6.573692418549357, -6.028337502900178, -5.745269103288543, -5.466807524243406, -5.310243755852735, -5.033645085294072, -4.822759962994415, -4.491216035640076, -4.251564521786315, -4.009154666783755, -3.7865925569594454, -3.5770384990213646, -3.4757987194606166, -3.3541137974414896, -3.073630332333045, -2.85456075485416, -2.7527754904450394, -2.6280199063654868, -2.4582688279141705, -2.346605810556781, -2.3400698712227896] 38 \n",
      "\n"
     ]
    }
   ],
   "source": [
    "tolerance_default: float = 1e-3\n",
    "max_iter_default: int = 150\n",
    "model_best_stoch_reg = LinearRegression(descent = StochasticDescentReg(lambda_ = 0.03593813663804628, w0 = w0,mu = 0.001291549665014884, batch_size = 2),\n",
    "    tolerance = tolerance_default,\n",
    "    max_iter = max_iter_default)\n",
    "\n",
    "model_best_stoch_reg.fit(X_test, y_test)\n",
    "model_best_stoch_reg.calc_loss(X_test, y_test)\n",
    "print(model_best_stoch_reg.loss_history, len(model_best_stoch_reg.loss_history), \"\\n\")\n",
    "print(model_best_stoch_reg.rquad, len(model_best_stoch_reg.rquad), \"\\n\")"
   ]
  },
  {
   "cell_type": "code",
   "execution_count": 271,
   "metadata": {},
   "outputs": [
    {
     "data": {
      "text/plain": [
       "<matplotlib.legend.Legend at 0x1a22dee198>"
      ]
     },
     "execution_count": 271,
     "metadata": {},
     "output_type": "execute_result"
    },
    {
     "data": {
      "image/png": "[encoded data removed]",
      "text/plain": [
       "<Figure size 432x288 with 1 Axes>"
      ]
     },
     "metadata": {
      "needs_background": "light"
     },
     "output_type": "display_data"
    }
   ],
   "source": [
    "bet_grad_stoch_reg = np.arange(len(model_best_stoch_reg.loss_history))\n",
    "\n",
    "line_stoch,  = plt.plot(bet_stoch, model_best_stoch.loss_history, label = 'Stochastic')\n",
    "line_stoch_reg, = plt.plot(bet_grad_stoch_reg, model_best_stoch_reg.loss_history, label = 'StochasticReg')\n",
    "plt.xlabel(\"iteration number\")\n",
    "plt.ylabel(\"MSE score\")\n",
    "plt.legend(handles=[line_stoch, line_stoch_reg])"
   ]
  },
  {
   "cell_type": "markdown",
   "metadata": {},
   "source": [
    "В данном случае видны флуктации в обе стороны. Но в целом ошибки имеют те же значения.\n",
    "R^2 в данном случае в 2 раза лучше: -2.3400698712227896 против -5.544357880166256."
   ]
  },
  {
   "cell_type": "markdown",
   "metadata": {},
   "source": [
    "С регуляризацией лучше себя показали методы: Стохастический, Моментум. Они имеют идентичные ошибки по MSE, но лучший R^2\n",
    "Градиентный метод имеет практически идентичные результаты.\n",
    "Адаград с регуляризацией хуже по обеим метрикам."
   ]
  },
  {
   "cell_type": "markdown",
   "metadata": {},
   "source": [
    "## Задание 8. Бонус — Реализация метода SAG (2 балла)"
   ]
  },
  {
   "cell_type": "markdown",
   "metadata": {},
   "source": [
    "В качестве бонуса вам будет следующее задание - напишите собственную реализацию стохастического градиентного спуска по методу SAG в файле `utils.py`. Подробнее прочитать про SAG можно [здесь](https://arxiv.org/pdf/1309.2388.pdf)."
   ]
  },
  {
   "cell_type": "markdown",
   "metadata": {},
   "source": [
    "Сравните свою реализацию метода SAG с обычным полным градиентным спуском на наших данных. Проведите сравнение аналогично заданию 5. Что вы можете сказать про сходимость этого метода?"
   ]
  },
  {
   "cell_type": "code",
   "execution_count": 35,
   "metadata": {},
   "outputs": [],
   "source": [
    "%autoreload 3\n",
    "\n",
    "from utils import (\n",
    "    StochasticAverageGradient,\n",
    ")"
   ]
  },
  {
   "cell_type": "code",
   "execution_count": 62,
   "metadata": {},
   "outputs": [],
   "source": [
    "model_best_sag = LinearRegression(descent = StochasticAverageGradient(lambda_ = 0.464158883361278, w0 = w0, x_shape = X_train.shape[0]),\n",
    "    tolerance = tolerance_default,\n",
    "    max_iter = max_iter_default)\n",
    "\n"
   ]
  },
  {
   "cell_type": "code",
   "execution_count": 63,
   "metadata": {},
   "outputs": [
    {
     "name": "stdout",
     "output_type": "stream",
     "text": [
      "[69.28035695274147, 68.72578366634741, 67.86431985195827, 66.78032342843679, 65.55864126205076, 64.24398941991691, 62.880524945673834, 61.40743872369573, 59.82911970600638, 58.20495518637933, 56.55139535592788, 54.85705583435139, 53.16008792947818, 51.421263960761536, 49.654072585129605, 47.83578426637674, 45.99731153565989, 44.16037089851995, 42.34523407915404, 40.57009605898432, 38.812763606902294, 37.06446948537034, 35.335717946552485, 33.626257226710415, 31.90105244451387, 30.230263784937545, 28.605054508649747, 27.011509378499593, 25.459362954868194, 23.964966573120083, 22.526015675415866, 21.143418594788397, 19.807039912759535, 18.496646624174044, 17.216784374260058, 15.989284750905059, 14.82512668404738, 13.716552729435435, 12.662298938746233, 11.657088725596898, 10.700821876139546, 9.808728116111658, 8.975843790104197, 8.203478495190314, 7.473190600619545, 6.805951573707469, 6.2022806649364615, 5.650691502235712, 5.160375860073529, 4.725422737504412, 4.348028951303261] 51 \n",
      "\n",
      "[-49.94055840848805, -49.532790981616756, -48.899372655212595, -48.10233023863476, -47.2040500551789, -46.237410997635834, -45.234880919226214, -44.15174800779214, -42.991239378157395, -41.79702140330642, -40.58118960292323, -39.335373253830916, -38.08762430336736, -36.80909936734675, -35.50971640442752, -34.172762809224714, -32.82096799117292, -31.470299693043586, -30.135663336747395, -28.830437353843372, -27.5383034741135, -26.25281531079666, -24.98169644521423, -23.72476176017022, -22.456250758790215, -21.227750920669518, -20.032764755669987, -18.861060648626356, -17.71979624080214, -16.6209943650872, -15.562960522948526, -14.546362594777461, -13.56374819580451, -12.60024037351061, -11.659181456319475, -10.756623804912367, -9.900640022352924, -9.085526204109183, -8.31035299247855, -7.571240611595874, -6.868115376081979, -6.21217542012091, -5.599771060174574, -5.031865218622861, -4.494898107241344, -4.004289656046112, -3.5604216602629615, -3.1548484040626033, -2.7943284283183143, -2.4745154839320684, -2.1970248494352806] 51 \n",
      "\n"
     ]
    }
   ],
   "source": [
    "model_best_sag.fit(X_test, y_test)\n",
    "model_best_sag.calc_loss(X_test, y_test)\n",
    "print(model_best_sag.loss_history, len(model_best_sag.loss_history), \"\\n\")\n",
    "print(model_best_sag.rquad, len(model_best_sag.rquad), \"\\n\")"
   ]
  },
  {
   "cell_type": "code",
   "execution_count": 81,
   "metadata": {},
   "outputs": [
    {
     "name": "stdout",
     "output_type": "stream",
     "text": [
      "0 0.01 значение MSE 54.63272282758066 151 \n",
      "\n",
      "0 0.01 значение r^2 -38.340308900813454 151 \n",
      "\n",
      "1 0.03593813663804628 значение MSE 26.449502807000698 151 \n",
      "\n",
      "1 0.03593813663804628 значение r^2 -18.045940909520997 151 \n",
      "\n",
      "2 0.1291549665014884 значение MSE 3.501049149087634 151 \n",
      "\n",
      "2 0.1291549665014884 значение r^2 -1.5210596849934985 151 \n",
      "\n",
      "3 0.464158883361278 значение MSE 45.0234910952845 151 \n",
      "\n",
      "3 0.464158883361278 значение r^2 -31.420826856305403 151 \n",
      "\n",
      "4 1.6681005372000592 значение MSE 36.50416321403822 151 \n",
      "\n",
      "4 1.6681005372000592 значение r^2 -25.286170314780378 151 \n",
      "\n",
      "5 5.994842503189409 значение MSE 230.79009432395233 151 \n",
      "\n",
      "5 5.994842503189409 значение r^2 -165.188927295576 151 \n",
      "\n",
      "6 21.544346900318846 значение MSE 19917025.352225244 151 \n",
      "\n",
      "6 21.544346900318846 значение r^2 -14341988.364409136 151 \n",
      "\n",
      "7 77.42636826811278 значение MSE 119027828601015.97 151 \n",
      "\n",
      "7 77.42636826811278 значение r^2 -85710382031207.19 151 \n",
      "\n",
      "8 278.2559402207126 значение MSE 1.3797646267548152e+34 151 \n",
      "\n",
      "8 278.2559402207126 значение r^2 -9.935504550680611e+33 151 \n",
      "\n",
      "9 1000.0 значение MSE 1.5521575547688779e+85 151 \n",
      "\n",
      "9 1000.0 значение r^2 -1.1176883469646941e+85 151 \n",
      "\n"
     ]
    }
   ],
   "source": [
    "tolerance_default = 0.0000001 # ставлю такое tplerance, потому что из-за небольших приращений алгоритм сразу выбивается при аналогичным предыдущим методам tolerance\n",
    "max_iter_default: int = 150\n",
    "alphas = np.logspace(-2, 3, 10)\n",
    "for j in range(len(alphas)):\n",
    "    model1 = LinearRegression(descent = StochasticAverageGradient(lambda_ = alphas[j], w0 = w0, x_shape = X_train.shape[0]),\n",
    "    tolerance = tolerance_default,\n",
    "    max_iter = max_iter_default)\n",
    "    \n",
    "    model1.fit(X_train, y_train)\n",
    "    model1.calc_loss(X_val, y_val)\n",
    "    print(j, alphas[j],\"значение MSE\",  model1.loss_history[len(model1.loss_history)-1], len(model1.loss_history), \"\\n\")\n",
    "    print(j, alphas[j],\"значение r^2\",  model1.rquad[len(model1.rquad)-1], len(model1.rquad), \"\\n\")"
   ]
  },
  {
   "cell_type": "markdown",
   "metadata": {},
   "source": [
    "Возьму лямбда оптимальную, которая была в стохастическом градиентном спуске.  Lambda = 0.03593813663804628"
   ]
  },
  {
   "cell_type": "code",
   "execution_count": 79,
   "metadata": {},
   "outputs": [],
   "source": [
    "tolerance_default = 0.00001\n",
    "model_best_SAG = LinearRegression(descent = StochasticAverageGradient(lambda_ = 0.03593813663804628, w0 = w0, x_shape = X_train.shape[0]),\n",
    "    tolerance = tolerance_default,\n",
    "    max_iter = max_iter_default)\n",
    "\n"
   ]
  },
  {
   "cell_type": "code",
   "execution_count": 82,
   "metadata": {},
   "outputs": [
    {
     "name": "stdout",
     "output_type": "stream",
     "text": [
      "[69.28035695274147, 69.23446706679945, 69.17482824606088, 69.10283185058898, 69.01545837129864, 68.92102003628548, 68.81647674166221, 68.70255232986038, 68.57992967023331, 68.45104189641165, 68.31396261154767, 68.17035955348769, 68.01787888882306, 67.8579932347857, 67.69208291335221, 67.5215066332807, 67.34908599330572, 67.17041484872186, 66.98376008558883, 66.79084588147988, 66.592647705136, 66.3889451548754, 66.17753881661241, 65.9639262100582, 65.74728301207378, 65.52670637303473, 65.3049188235808, 65.08782106079892, 64.86816435488463, 64.64517373290079, 64.42103308365436, 64.1917394978342, 63.95808918168076, 63.72068640049438, 63.4785838897825, 63.23269782890377, 62.98414948188072, 62.731787610486286, 62.47829321420498, 62.223449029189865, 61.9666945314507, 61.70427834124923, 61.4394592143946, 61.17370993715349, 60.906721454781575, 60.63701291900122, 60.36625705835846, 60.093310183217945, 59.81728810717645, 59.53968494712285, 59.25939018350721, 58.972113842904676, 58.683691455669404, 58.39424655536104, 58.10258691346502, 57.809806651474176, 57.51475586333083, 57.21689819657233, 56.916145370809026, 56.61423989465572, 56.30998065227582, 56.00300678666386, 55.6938350024276, 55.384415848691525, 55.07327286421828, 54.76063089745295, 54.447730377890004, 54.13435899977237, 53.821175671760855, 53.50784189485594, 53.193022157584366, 52.87722509187508, 52.55988962627085, 52.23938473406777, 51.918370420926664, 51.59761641371804, 51.276848524736636, 50.95587403333011, 50.634408901429396, 50.3107564411116, 49.98742982028036, 49.664674735898586, 49.34085707025303, 49.014356173724934, 48.68698292441509, 48.359555955579154, 48.0315111332076, 47.70227839796817, 47.373902820174514, 47.044589416677255, 46.71444553471559, 46.385422458852624, 46.057259079912136, 45.730133075212315, 45.40210079086844, 45.07454125221721, 44.7454891625835, 44.41644697996372, 44.08618766603304, 43.75557039235693, 43.42510501746323, 43.09489188749525, 42.76550081218763, 42.43532852471544, 42.105029154791005, 41.77393120576245, 41.442634055792844, 41.1096657547286, 40.776858634371564, 40.44469128088826, 40.11351903738449, 39.78292522836383, 39.450200422864256, 39.1181777638729, 38.787345357191576, 38.45728685381482, 38.1273241369936, 37.797250302273255, 37.468024688738, 37.1396023405719, 36.811388056870804, 36.48325756898821, 36.15527241820639, 35.827610379475836, 35.50067742753488, 35.174369809033664, 34.84886024467479, 34.52391620325558, 34.20005328905656, 33.87794655887795, 33.555741989972674, 33.23387097305353, 32.91329454288538, 32.596170725013, 32.28007245069258, 31.965467817969554, 31.651875480765213, 31.339144264205714, 31.027279930370806, 30.716398622263608, 30.40718542349318, 30.098555065157587, 29.790962782686773, 29.48416513222548, 29.178404092039234, 28.873188414407178, 28.569485164631267, 28.26697045189495, 27.965450797778157, 27.665154203879325, 27.366468964463643, 27.366468964463643, 23.83471929884589, 21.487729029209433, 19.66475975842737, 18.15784146524944, 16.862616946472915, 15.723304405301022, 14.707960929500047, 13.788888155125667, 12.950945263747352, 12.183783870236741, 11.4750677569453, 10.819706664954031, 10.210384926108793, 9.643541615818132, 9.114590922355935, 8.620347642219995, 8.157211444644343, 7.72289585634602, 7.315861082162142, 6.932732201677933, 6.571882678238261, 6.232517831867795, 5.913446321151141, 5.613115533314715, 5.32998592351293, 5.063565401827767, 4.812492131566752, 4.576530387299299, 4.354649183387066, 4.146560029508922, 3.9516381636114106, 3.769500699911935, 3.5995509072819707, 3.441259698970767, 3.293973241228268, 3.1572118123484914, 3.0307128686671625, 2.913910755985081, 2.806608712359062, 2.7085739715324912, 2.619341922490024, 2.538771840974525, 2.4660825445672425, 2.4013303143679634, 2.3443566319378246, 2.2949134522209125, 2.252752791725429, 2.217633581186552, 2.1893094463174885, 2.1675530239694227, 2.152185950659328, 2.142998743890713, 2.1397860932775736, 2.1424863105159204, 2.150849253192569, 2.1646562855489324, 2.1838132980733023, 2.20820595055511, 2.237712732629491, 2.2721883853229277, 2.311400308913218, 2.355309331366605, 2.4038159433667934, 2.456845970675496, 2.5140385313768214, 2.5755278251277915, 2.6411678034618316, 2.7107272656214625, 2.7842348253880207, 2.861678567294026, 2.9429659789157783, 3.0278686001726443, 3.1161865184238486, 3.2081352983912796, 3.3034330410369077, 3.4013564405091863, 3.5022119616973333, 3.606134927681719, 3.713151669164798, 3.8231399482236363, 3.9356788136893033, 4.051213829377981, 4.169508639859341, 4.290434602296467, 4.413959230014841, 4.540237061731499, 4.668865589690711, 4.800261111461831, 4.934060057296877, 5.0702224597943655, 5.2082094424624605, 5.34871073982842, 5.491667114486751, 5.636833091717971, 5.783843081933869, 5.932515118754938, 6.083397249227098, 6.236448906769279, 6.391553800741422, 6.548393972308632, 6.706993812535482, 6.867137716608951, 7.028776282026359, 7.192239376250206, 7.3571888199536835, 7.523706417730464, 7.691791900261728, 7.861550046654158, 8.032531103671403, 8.205050463011931, 8.379216073676716, 8.554182214665436, 8.730077932883992, 8.90685793688795, 9.084964613363791, 9.264436693370483, 9.445112226246422, 9.626746966219194, 9.80952361510168, 9.99231243555136, 10.175670297388805, 10.359946337042865, 10.544779352005278, 10.730586101335936, 10.917756508280691, 11.105558425934934, 11.294342227806348, 11.484352156709123, 11.675112162884867, 11.866136920300946, 12.057215822333568, 12.248753667069144, 12.44036479493926, 12.632769657037095, 12.825500165025712, 13.019149918954625, 13.213309451154505, 13.40739099944268, 13.602372296446827, 13.797728289305995, 13.99199772424219, 14.185725562930928, 14.3799728813178, 14.573673946852827, 14.767797904909436, 14.961887497609919, 15.156779177302703, 15.35208943074384, 15.547980625779235, 15.743429277196073] 302 \n",
      "\n",
      "[-49.94055840848805, -49.90681642853863, -49.86296511245319, -49.81002750141809, -49.7457834065417, -49.67634465460195, -49.599475913732086, -49.51570941181434, -49.425547249988334, -49.3307784661759, -49.22998661659044, -49.12439795786381, -49.012281760053064, -48.894720811229924, -48.7727300364809, -48.64730846909474, -48.52053077816186, -48.38915720739932, -48.25191343034882, -48.110067202724125, -47.96433576855458, -47.81455707058126, -47.65911392051844, -47.50204854239999, -47.34275482674759, -47.18056892501816, -47.0174926633739, -46.85786471467718, -46.69635522267101, -46.532394364163004, -46.3675879119901, -46.1989926013578, -46.027193867911684, -45.85263601669259, -45.67462254173066, -45.49382709267473, -45.31107411411405, -45.125517121984046, -44.939127405360615, -44.75174521417644, -44.562958405562775, -44.37000865974363, -44.17529207927877, -43.979891576528054, -43.783579909283944, -43.585268237339776, -43.386186486896115, -43.185493724227555, -42.98253982351058, -42.77842338111497, -42.572327852662426, -42.36109890045275, -42.149027281461294, -41.93620382761773, -41.72175191546119, -41.50647603218347, -41.28953067323939, -41.070521468635015, -40.84938350744114, -40.62739802384554, -40.4036818597047, -40.17796968357154, -39.95064141873758, -39.723131267709505, -39.49435361598981, -39.26447379045978, -39.03440385586468, -38.80398770772851, -38.573709829339144, -38.34332132867561, -38.11184022898141, -37.879640517857425, -37.64630964989258, -37.410648361475516, -37.17461250531387, -36.938768047264766, -36.702913382206226, -36.46690680622565, -36.23053947141167, -35.99256383467937, -35.754827781663536, -35.51751196877301, -35.2794148596347, -35.03934482071502, -34.798633357013706, -34.5578823943436, -34.31667713545587, -34.07459842632204, -33.83314996912184, -33.59101194611781, -33.348263287739144, -33.106338737246844, -32.86504630591818, -32.624516636581845, -32.38332059667276, -32.1424721578822, -31.900526274103697, -31.65858767476835, -31.415754141408975, -31.17265740690396, -30.92967236074956, -30.68687278559931, -30.444677651957196, -30.20190810753475, -29.959045121747888, -29.715594955592934, -29.471998320689554, -29.227172919456304, -28.98246603140039, -28.738229552032195, -28.494724758530896, -28.25164527715078, -28.006998913679162, -27.762868825480744, -27.51961390767675, -27.276928026584205, -27.034312575565092, -26.79161542162065, -26.549541948943492, -26.308059102357987, -26.066729241705268, -25.82546099455996, -25.584299611082752, -25.34337580588955, -25.10298808465757, -24.863060159477644, -24.62371902867118, -24.38479371636806, -24.146663336809652, -23.909824246710514, -23.672913217614678, -23.43624744309285, -23.200533554140105, -22.967358306817545, -22.734937122601856, -22.503614185282984, -22.273035570038424, -22.04309012079408, -21.81378207430006, -21.585196828347236, -21.357838112176285, -21.130907947740916, -20.904741061189032, -20.67915845277997, -20.454338044633513, -20.229918631433783, -20.006611278317653, -19.784177834389478, -19.56247603856414, -19.341673536177954, -19.12205583278496, -19.12205583278496, -16.525225965867826, -14.799527655795274, -13.45913224359355, -12.351123239211365, -11.398768731340565, -10.561053401890415, -9.814490221377383, -9.138713097760577, -8.522589268745788, -7.958509759145082, -7.437403977476174, -6.9555291509939075, -6.507506204917284, -6.090716857598836, -5.701789246935666, -5.338381352011833, -4.9978459165523885, -4.678501739262435, -4.3792166373865395, -4.0975090946901656, -3.8321831490113256, -3.582654486938833, -3.348047137279341, -3.127219492726576, -2.9190395545787613, -2.723145498268102, -2.53853599059386, -2.365037707029528, -2.201892583003294, -2.0488884969456373, -1.9055660729342123, -1.7716437821716808, -1.6466828593536507, -1.5302942768290633, -1.4219972827975655, -1.321439146807724, -1.2284268253844033, -1.1425444035115624, -1.06364720579057, -0.9915640835205237, -0.925953416859878, -0.8667117338787031, -0.8132646456682182, -0.7656535346747189, -0.7237618452372803, -0.6874071944379374, -0.656407244625675, -0.6305847420520236, -0.6097585322844894, -0.5937614394268793, -0.5824623161262537, -0.5757071337976358, -0.5733449315313235, -0.5753303510643009, -0.5814794673307955, -0.5916315215223897, -0.605717316664806, -0.6236527805270242, -0.6453485687968776, -0.6706978752517898, -0.699529673640515, -0.7318151614949169, -0.7674811714647991, -0.8064731646117944, -0.8485257911726565, -0.8937377256601564, -0.9420015813521523, -0.9931473606301484, -1.0471961026755747, -1.104139046266725, -1.1639081687384425, -1.2263354876409611, -1.2912740109262906, -1.358882239326661, -1.4289528977204697, -1.5009541527627612, -1.5751113423887881, -1.6515239671436244, -1.7302113875032439, -1.8110837241955582, -1.8938314596523678, -1.978782208663798, -2.0657621834762443, -2.154676795403447, -2.245502157597623, -2.3383518995042305, -2.432930064653894, -2.529542748909567, -2.6279226261950375, -2.7280403092230676, -2.829499572127991, -2.932807563884171, -3.0379207283286886, -3.144658572464169, -3.252752285063435, -3.36206806963075, -3.4730088949697002, -3.585544933227437, -3.6995906780583985, -3.8149123402427705, -3.9315278540768546, -4.049278689350158, -4.168128521320948, -4.2883198954015125, -4.409604154620274, -4.532041448374049, -4.655631578637718, -4.780451587540372, -4.906170779889124, -5.033021057336105, -5.161081792774744, -5.289731143277131, -5.419063994633935, -5.549047044888125, -5.680005572745424, -5.811968056433407, -5.9448154166415765, -6.078368063994493, -6.212760335738374, -6.34716155700932, -6.481981183833086, -6.617475929734666, -6.753380209225205, -6.890000457493068, -7.027623377851484, -7.165710636293554, -7.30451985594534, -7.444230624007158, -7.584492909942371, -7.724949862542353, -7.865446626672222, -8.006280842838922, -8.147168942731971, -8.288640660645573, -8.430351819928266, -8.572738883660257, -8.715500777877104, -8.858205331973549, -9.001571454572742, -9.145213084067795, -9.288055787723343, -9.430500265727485, -9.573326707495509, -9.715751499697491, -9.858487236908186, -10.001197705911439, -10.144497934567749, -10.288105932719109, -10.432141086423874, -10.575850846033674] 302 \n",
      "\n"
     ]
    }
   ],
   "source": [
    "model_best_SAG.fit(X_test, y_test)\n",
    "model_best_SAG.calc_loss(X_test, y_test)\n",
    "print(model_best_SAG.loss_history, len(model_best_SAG.loss_history), \"\\n\")\n",
    "print(model_best_SAG.rquad, len(model_best_SAG.rquad), \"\\n\")"
   ]
  },
  {
   "cell_type": "code",
   "execution_count": 83,
   "metadata": {},
   "outputs": [],
   "source": [
    "bet_stoch_SAG = np.arange(len(model_best_SAG.loss_history))"
   ]
  },
  {
   "cell_type": "code",
   "execution_count": 91,
   "metadata": {},
   "outputs": [
    {
     "data": {
      "text/plain": [
       "<matplotlib.legend.Legend at 0x1a2427cba8>"
      ]
     },
     "execution_count": 91,
     "metadata": {},
     "output_type": "execute_result"
    },
    {
     "data": {
      "image/png": "[encoded data removed]",
      "text/plain": [
       "<Figure size 432x288 with 1 Axes>"
      ]
     },
     "metadata": {
      "needs_background": "light"
     },
     "output_type": "display_data"
    }
   ],
   "source": [
    "line_stoch_SAG,  = plt.plot(bet_stoch_SAG, model_best_SAG.loss_history, label = 'SAG')\n",
    "line_stoch,  = plt.plot(bet_stoch, model_best_stoch.loss_history, label = 'Stochastic')\n",
    "plt.xlabel(\"iteration number\")\n",
    "plt.ylabel(\"MSE score\")\n",
    "plt.legend(handles=[line_stoch_SAG, line_stoch ])"
   ]
  },
  {
   "cell_type": "code",
   "execution_count": null,
   "metadata": {},
   "outputs": [],
   "source": []
  },
  {
   "cell_type": "code",
   "execution_count": 87,
   "metadata": {},
   "outputs": [
    {
     "name": "stdout",
     "output_type": "stream",
     "text": [
      "35 0.000821359162354725 произошла сходимость\n",
      "0 0.01 значение MSE =  30.585213323499463 37 \n",
      "\n",
      "0 0.01 значение R^2 =  -21.02401194136177 37 \n",
      "\n",
      "39 0.0006924201334380766 произошла сходимость\n",
      "1 0.03593813663804628 значение MSE =  3.4594422847968986 41 \n",
      "\n",
      "1 0.03593813663804628 значение R^2 =  -1.4910991263964557 41 \n",
      "\n",
      "29 0.0003855976474109835 произошла сходимость\n",
      "2 0.1291549665014884 значение MSE =  1.5162297839142649 31 \n",
      "\n",
      "2 0.1291549665014884 значение R^2 =  -0.09181722924649449 31 \n",
      "\n",
      "100 0.0002728775752120065 произошла сходимость\n",
      "3 0.464158883361278 значение MSE =  10.000145248436992 102 \n",
      "\n",
      "3 0.464158883361278 значение R^2 =  -6.20097375282027 102 \n",
      "\n",
      "4 1.6681005372000592 значение MSE =  1.3000413740340062e+19 151 \n",
      "\n",
      "4 1.6681005372000592 значение R^2 =  -9.36142783872312e+18 151 \n",
      "\n",
      "5 5.994842503189409 значение MSE =  2.3752889266274223e+120 151 \n",
      "\n",
      "5 5.994842503189409 значение R^2 =  -1.710414478097915e+120 151 \n",
      "\n",
      "6 21.544346900318846 значение MSE =  4.423835990077171e+301 151 \n",
      "\n",
      "6 21.544346900318846 значение R^2 =  -3.185546415568956e+301 151 \n",
      "\n",
      "7 77.42636826811278 значение MSE =  inf 151 \n",
      "\n",
      "7 77.42636826811278 значение R^2 =  -inf 151 \n",
      "\n"
     ]
    },
    {
     "name": "stderr",
     "output_type": "stream",
     "text": [
      "/Users/admin/ml-course-hse/2020-fall/homeworks-practice/homework-practice-03-gd/utils.py:104: RuntimeWarning: overflow encountered in multiply\n",
      "  k = self.eta(iteration)*gradient\n"
     ]
    },
    {
     "name": "stdout",
     "output_type": "stream",
     "text": [
      "8 278.2559402207126 значение MSE =  nan 151 \n",
      "\n",
      "8 278.2559402207126 значение R^2 =  nan 151 \n",
      "\n",
      "9 1000.0 значение MSE =  nan 151 \n",
      "\n",
      "9 1000.0 значение R^2 =  nan 151 \n",
      "\n"
     ]
    }
   ],
   "source": [
    "tolerance_default = 0.001\n",
    "alphas = np.logspace(-2, 3, 10)\n",
    "for j in range(len(alphas)):\n",
    "    model1 = LinearRegression(descent = StochasticDescent(lambda_ = alphas[j], w0 = w0, batch_size = 2 ),\n",
    "    tolerance = tolerance_default,\n",
    "    max_iter = max_iter_default, \n",
    ")\n",
    "    \n",
    "    model1.fit(X_train, y_train)\n",
    "    model1.calc_loss(X_val, y_val)\n",
    "    print(j, alphas[j],\"значение MSE = \", model1.loss_history[len(model1.loss_history)-1], len(model1.loss_history), \"\\n\")\n",
    "    print(j, alphas[j],\"значение R^2 = \", model1.rquad[len(model1.rquad)-1], len(model1.rquad), \"\\n\")"
   ]
  },
  {
   "cell_type": "markdown",
   "metadata": {},
   "source": [
    "Восстановлю значения для Стохастического, ибо в предыдущей части кернел умер(я перезагружать не хочу)."
   ]
  },
  {
   "cell_type": "code",
   "execution_count": 88,
   "metadata": {},
   "outputs": [],
   "source": [
    "model_best_stoch = LinearRegression(descent = StochasticDescent(lambda_ = 0.03593813663804628, w0 = w0, batch_size = 2),\n",
    "    tolerance = tolerance_default,\n",
    "    max_iter = max_iter_default\n",
    ")"
   ]
  },
  {
   "cell_type": "code",
   "execution_count": 89,
   "metadata": {},
   "outputs": [
    {
     "name": "stdout",
     "output_type": "stream",
     "text": [
      "32 0.0008022074486899476 произошла сходимость\n",
      "[69.28035695274147, 49.363893150763545, 41.025902906409456, 35.78458537051074, 30.4665269251144, 27.39942240934627, 24.69751928525534, 22.216033231108696, 19.77134762842654, 17.926764875182588, 16.804958770322692, 14.971445809974224, 14.010703838425984, 12.909927800097242, 12.428731407372068, 11.747486729925457, 10.775339800610782, 10.010899005500237, 9.282950719236878, 8.547637702811937, 8.101976204806514, 7.745710554271107, 7.249245569810133, 6.864672026518451, 6.4789495212589125, 6.1363187652767675, 5.957427714597211, 5.629617413717251, 5.4647024369573005, 5.272826439257674, 5.140850512147501, 5.036176359545222, 4.829640104113803, 4.787186820314362] 34\n",
      "[-49.94055840848805, -35.29635286134778, -29.165583654404255, -25.311740316717525, -21.401470815042487, -19.146285888137438, -17.159626754716445, -15.335036194836203, -13.53750432272462, -12.181216918706056, -11.35637374639684, -10.00822575528498, -9.301810045699026, -8.49242989031964, -8.138615129141499, -7.637708583500968, -6.922907020510077, -6.360827916331632, -5.825581075440607, -5.284919085386671, -4.957232471631988, -4.695276962476393, -4.3302354896682385, -4.047465713268669, -3.7638511264956085, -3.511921101805367, -3.3803858381791434, -3.139353018583966, -3.0180941022679706, -2.877011248513737, -2.779971803003142, -2.703006844694215, -2.551144575992981, -2.519929465705765] 34 \n",
      "\n"
     ]
    }
   ],
   "source": [
    "model_best_stoch.fit(X_test, y_test)\n",
    "model_best_stoch.calc_loss(X_test, y_test)\n",
    "print(model_best_stoch.loss_history, len(model_best_stoch.loss_history))\n",
    "print(model_best_stoch.rquad, len(model_best_stoch.rquad), \"\\n\")"
   ]
  },
  {
   "cell_type": "code",
   "execution_count": 90,
   "metadata": {},
   "outputs": [],
   "source": [
    "bet_stoch = np.arange(len(model_best_stoch.loss_history))"
   ]
  },
  {
   "cell_type": "markdown",
   "metadata": {},
   "source": [
    "Сравню для другого lambda = 0.1291549665014884"
   ]
  },
  {
   "cell_type": "code",
   "execution_count": 92,
   "metadata": {},
   "outputs": [
    {
     "name": "stdout",
     "output_type": "stream",
     "text": [
      "[69.28035695274147, 69.17464998611841, 68.94534244690698, 68.66601340088708, 68.36945357235905, 68.04015891795665, 67.66845120988197, 67.26682421136078, 66.8364313308494, 66.36765935254289, 65.89049761540467, 65.39010418272314, 64.86126584075544, 64.32527180091809, 63.771427778627945, 63.188240446201625, 62.57553633916026, 61.93033165319206, 61.27343185512286, 60.60567084276543, 59.93113991223184, 59.23470149933621, 58.529676260289634, 57.81052377537188, 57.0834884548092, 56.347541159804, 55.611114744328646, 54.87856205801943, 54.13794308384673, 53.3944504975455, 52.63100323316817, 51.8604640176925, 51.087077899490055, 50.31451350063845, 49.54014310534061, 48.76460397048965, 47.988498091968836, 47.21525890458306, 46.44413799013129, 45.67663906192378, 44.90772106750633, 44.14206197709132, 43.37261940286578, 42.60432511919047, 41.83298998443069, 41.06721671573878, 40.30336718549141, 39.544328018151774, 38.79301911499208, 38.040124554935815, 37.28959123660103, 36.543536965983364, 35.798904825279, 35.064411569574865, 34.33554751691769, 33.61407095051325, 32.8939663179421, 32.184298781367, 31.482798017161347, 30.79101360633203, 30.108699358366913, 29.42797196363596, 28.75354777870834, 28.088825405177097, 27.424736921080893, 26.76836731797013, 26.11887867561899, 25.472893316891607, 24.83140555473762, 24.201992586732402, 23.577424595051188, 22.96152059754764, 22.355270370988023, 21.760944447052136, 21.176904875629255, 20.601463917407855, 20.03170758265496, 19.472489958639322, 18.920057269115905, 18.37994826655374, 17.848274159886294, 17.324166262879125, 16.812251137135235, 16.310049813235093, 15.814751430271844, 15.329454802619468, 14.851696174116945, 14.38670737286304, 13.931991722513523, 13.484508824120107, 13.048235611733915, 12.624417799140158, 12.209565378119287, 11.80680523268203, 11.409981252708315, 11.02161877795014, 10.642303949570808, 10.273965860085685, 9.917017045201177, 9.5716097926616, 9.237160220887088, 8.91434878263081, 8.601906828288364, 8.301704764587955, 8.012610714577642, 7.730560749967813, 7.459849675578991, 7.200794669593968, 6.943743182929781, 6.698273900169715, 6.46246243668604, 6.236825978531586, 6.021576911084996, 5.815099096198388, 5.61972479303186, 5.434864285685266, 5.260964734763767, 5.097863826568231, 4.9450099670063326, 4.802779689331209, 4.668853997957328, 4.545122401445383, 4.431636366184759, 4.328189066523652, 4.234707188186326, 4.15102122284793, 4.075673436008316, 4.008822196108658, 3.9515637906414725, 3.9037451578920543, 3.86447297694551, 3.8337954785232076, 3.8115481657219736, 3.7974825419703295, 3.792184064346984, 3.7952729911413035, 3.80581858447314, 3.8244677853802735, 3.849615922728598, 3.882648844029138, 3.923178105896127, 3.9714696404832552, 4.0273441023281835, 4.090293719860656, 4.160430905138858, 4.237966131019403, 4.32051390330396, 4.409504663868411, 4.505761895638724, 4.60835481673086, 4.717379230089999] 151 \n",
      "\n",
      "[-49.94055840848805, -49.86283404123169, -49.69422847093021, -49.488843016671225, -49.270788088388336, -49.02866385124518, -48.75535408427934, -48.46004521930698, -48.14358533612186, -47.79890601587134, -47.448057861934046, -47.08012787418694, -46.69128287348884, -46.29717642118576, -45.889945208651625, -45.461138405724526, -45.0106284671982, -44.53622145723702, -44.05321524878324, -43.562222991394776, -43.06625293903757, -42.55417472220296, -42.03578277174565, -41.5070033200527, -40.97242776586755, -40.43129940256605, -39.88981875089063, -39.35118638025079, -38.80662301811317, -38.259946742403585, -37.698598162901575, -37.13203500361035, -36.56337856967368, -35.99532633069829, -35.425946176113044, -34.85570666906356, -34.285050445930516, -33.71650204749161, -33.14951117575819, -32.58518348317029, -32.019812377581474, -31.456837483516175, -30.89108066414744, -30.326168161471298, -29.75901977752818, -29.19596093029868, -28.634316572181348, -28.07620918447591, -27.52378571630108, -26.9701963440907, -26.418343149017968, -25.869783314457287, -25.322269145581647, -24.782209910344744, -24.246289723450257, -23.71580141784942, -23.186321869689245, -22.6645165241687, -22.14871605453496, -21.640059838892615, -21.13836685793526, -20.637840660658245, -20.141949096360477, -19.65319109360661, -19.164899177969065, -18.682282812010854, -18.204725888568518, -17.729744864441763, -17.25807083945621, -16.79527518611394, -16.336041953785017, -15.883179195294144, -15.43741467509565, -15.000417872920014, -14.57098443450355, -14.147873396508912, -13.72894215646227, -13.317759834485258, -12.911566348695024, -12.514434240805683, -12.12350415504633, -11.738137362579378, -11.361735688134582, -10.992476391586704, -10.628292699170398, -10.271463111481763, -9.920176074421704, -9.578278453921206, -9.243934490282511, -8.914908634685972, -8.594125052800312, -8.282499694811511, -7.977466422561893, -7.681324375729586, -7.3895470809975645, -7.103991373734413, -6.825088232639981, -6.554256083575176, -6.291798256375062, -6.0378267253867035, -5.791912173339939, -5.554554924493211, -5.324822164379109, -5.104089168290321, -4.891523688147916, -4.684137593037007, -4.485088773093208, -4.294610443537357, -4.105605264488729, -3.925116264634724, -3.7517284797366868, -3.5858221870837514, -3.427553549696171, -3.275734251241011, -3.1320791585173824, -2.9961546643878916, -2.8682895577319147, -2.7483644923042116, -2.635973891223921, -2.5313946123915767, -2.4329215414678504, -2.3419439989677207, -2.2584998271704393, -2.182436951019533, -2.11370146389111, -2.052168729465402, -1.9967669026666188, -1.9476124288651722, -1.9055113878721577, -1.8703512362544723, -1.8414751317519968, -1.8189185375174493, -1.8025605020362492, -1.7922183103994307, -1.788322438312163, -1.7905936687547679, -1.7983476474682294, -1.8120600581697146, -1.8305510160083243, -1.8548395088932699, -1.8846399216249274, -1.920147789171701, -1.9612312421495188, -2.0075169255632503, -2.0590874939093164, -2.1160977039660773, -2.1767935462005576, -2.242226797929348, -2.313002950837737, -2.388437618311467, -2.468601242474962] 151 \n",
      "\n"
     ]
    }
   ],
   "source": [
    "tolerance_default = 0.00001\n",
    "model_best_SAG = LinearRegression(descent = StochasticAverageGradient(lambda_ = 0.1291549665014884, w0 = w0, x_shape = X_train.shape[0]),\n",
    "    tolerance = tolerance_default,\n",
    "    max_iter = max_iter_default)\n",
    "\n",
    "model_best_SAG.fit(X_test, y_test)\n",
    "model_best_SAG.calc_loss(X_test, y_test)\n",
    "print(model_best_SAG.loss_history, len(model_best_SAG.loss_history), \"\\n\")\n",
    "print(model_best_SAG.rquad, len(model_best_SAG.rquad), \"\\n\")\n"
   ]
  },
  {
   "cell_type": "code",
   "execution_count": 93,
   "metadata": {},
   "outputs": [],
   "source": [
    "bet_stoch_SAG = np.arange(len(model_best_SAG.loss_history))"
   ]
  },
  {
   "cell_type": "code",
   "execution_count": 94,
   "metadata": {},
   "outputs": [
    {
     "data": {
      "text/plain": [
       "<matplotlib.legend.Legend at 0x1a24341ac8>"
      ]
     },
     "execution_count": 94,
     "metadata": {},
     "output_type": "execute_result"
    },
    {
     "data": {
      "image/png": "[encoded data removed]",
      "text/plain": [
       "<Figure size 432x288 with 1 Axes>"
      ]
     },
     "metadata": {
      "needs_background": "light"
     },
     "output_type": "display_data"
    }
   ],
   "source": [
    "line_stoch_SAG,  = plt.plot(bet_stoch_SAG, model_best_SAG.loss_history, label = 'SAG')\n",
    "line_stoch,  = plt.plot(bet_stoch, model_best_stoch.loss_history, label = 'Stochastic')\n",
    "plt.xlabel(\"iteration number\")\n",
    "plt.ylabel(\"MSE score\")\n",
    "plt.legend(handles=[line_stoch_SAG, line_stoch ])"
   ]
  },
  {
   "cell_type": "markdown",
   "metadata": {},
   "source": [
    "R^2 чуть лучше для  SAG наилучшее (-1.788322438312163) против Stochastic(-2.519929465705765)\n",
    "MSE же наилучшее для SAG 3.7952729911413035 против Stochastic(4.787186820314362)\n",
    "Как видно SAG сходится дольше чем Stochastic, но имеет показатели лучше."
   ]
  },
  {
   "cell_type": "markdown",
   "metadata": {},
   "source": [
    "Вставьте картинку или видео, описывающие ваш опыт выполнения этого задания."
   ]
  },
  {
   "cell_type": "code",
   "execution_count": 101,
   "metadata": {},
   "outputs": [
    {
     "data": {
      "image/jpeg": "[encoded data removed]",
      "text/plain": [
       "<IPython.core.display.Image object>"
      ]
     },
     "execution_count": 101,
     "metadata": {
      "image/jpeg": {
       "height": 400,
       "width": 800
      }
     },
     "output_type": "execute_result"
    }
   ],
   "source": [
    "from IPython.display import Image\n",
    "Image(filename='photo.jpg',width=800, height=400)"
   ]
  },
  {
   "cell_type": "code",
   "execution_count": null,
   "metadata": {},
   "outputs": [],
   "source": []
  }
 ],
 "metadata": {
  "kernelspec": {
   "display_name": "Python 3",
   "language": "python",
   "name": "python3"
  },
  "language_info": {
   "codemirror_mode": {
    "name": "ipython",
    "version": 3
   },
   "file_extension": ".py",
   "mimetype": "text/x-python",
   "name": "python",
   "nbconvert_exporter": "python",
   "pygments_lexer": "ipython3",
   "version": "3.7.3"
  },
  "toc": {
   "base_numbering": 1,
   "nav_menu": {},
   "number_sections": true,
   "sideBar": true,
   "skip_h1_title": false,
   "title_cell": "Table of Contents",
   "title_sidebar": "Contents",
   "toc_cell": false,
   "toc_position": {},
   "toc_section_display": true,
   "toc_window_display": false
  },
  "varInspector": {
   "cols": {
    "lenName": 16,
    "lenType": 16,
    "lenVar": 40
   },
   "kernels_config": {
    "python": {
     "delete_cmd_postfix": "",
     "delete_cmd_prefix": "del ",
     "library": "var_list.py",
     "varRefreshCmd": "print(var_dic_list())"
    },
    "r": {
     "delete_cmd_postfix": ") ",
     "delete_cmd_prefix": "rm(",
     "library": "var_list.r",
     "varRefreshCmd": "cat(var_dic_list()) "
    }
   },
   "position": {
    "height": "423px",
    "left": "904px",
    "right": "20px",
    "top": "121px",
    "width": "335px"
   },
   "types_to_exclude": [
    "module",
    "function",
    "builtin_function_or_method",
    "instance",
    "_Feature"
   ],
   "window_display": false
  }
 },
 "nbformat": 4,
 "nbformat_minor": 4
}
